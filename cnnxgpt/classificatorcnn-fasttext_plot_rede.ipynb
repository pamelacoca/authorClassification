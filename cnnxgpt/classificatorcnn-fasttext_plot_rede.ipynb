{
 "cells": [
  {
   "cell_type": "code",
   "execution_count": 1,
   "metadata": {},
   "outputs": [],
   "source": [
    "import time\n",
    "import nltk.tokenize as nt\n",
    "import json\n",
    "import torch\n",
    "import copy\n",
    "import datasetgenerator as dsg\n",
    "import numpy as np\n",
    "import matplotlib.pyplot as plt\n",
    "import random\n",
    "import time\n",
    "from torch.utils.data import (TensorDataset, DataLoader, RandomSampler,\n",
    "                              SequentialSampler)\n",
    "import torch\n",
    "import torch.nn as nn\n",
    "import torch.nn.functional as F\n",
    "from torch import device\n",
    "import torch.optim as optim\n",
    "\n",
    "\n"
   ]
  },
  {
   "cell_type": "code",
   "execution_count": 2,
   "metadata": {},
   "outputs": [],
   "source": [
    "AUTHOR1 = \"coutinho-dataset\"\n",
    "AUTHOR2 = \"denser-dataset\"\n",
    "PATH_TO_RAW_DATA = \"data/raw/\"\n",
    "PATH_TO_PARSED_DATA = \"data/parsed/\"\n",
    "\n",
    "ds_gen = dsg.DS_Gen()"
   ]
  },
  {
   "cell_type": "code",
   "execution_count": 3,
   "metadata": {},
   "outputs": [
    {
     "name": "stdout",
     "output_type": "stream",
     "text": [
      "1614\n"
     ]
    }
   ],
   "source": [
    "len_data = ds_gen.get_data_length(dsg.DS_Gen.DENSER)\n",
    "print(len_data)"
   ]
  },
  {
   "cell_type": "code",
   "execution_count": 4,
   "metadata": {},
   "outputs": [],
   "source": [
    "dictAuthors = dict()"
   ]
  },
  {
   "cell_type": "code",
   "execution_count": 5,
   "metadata": {},
   "outputs": [],
   "source": [
    "def map_to_number(dict, word):\n",
    "    if(word in dict.keys()):\n",
    "        return dict.get(word)\n",
    "    else:\n",
    "        next_value = len(dict.keys())\n",
    "        dict.update({word: next_value})\n",
    "        return next_value"
   ]
  },
  {
   "cell_type": "code",
   "execution_count": 6,
   "metadata": {},
   "outputs": [
    {
     "data": {
      "text/plain": [
       "1"
      ]
     },
     "execution_count": 6,
     "metadata": {},
     "output_type": "execute_result"
    }
   ],
   "source": [
    "dictAuthors.update({\"padding\": 0})\n",
    "map_to_number(dictAuthors, \"unknown\")"
   ]
  },
  {
   "cell_type": "code",
   "execution_count": 7,
   "metadata": {},
   "outputs": [],
   "source": [
    "def tokenize_words_in_paragraph(paragraph, dict):\n",
    "    tensor = []\n",
    "    parsed_paragraph = nt.word_tokenize(paragraph)\n",
    "    for word in parsed_paragraph:\n",
    "        token = map_to_number(dict, word)\n",
    "        tensor.append(token)\n",
    "    return tensor"
   ]
  },
  {
   "cell_type": "code",
   "execution_count": 8,
   "metadata": {},
   "outputs": [],
   "source": [
    "def get_paragraph_size_list(paragraph_set):\n",
    "    paragraph_sizes = []\n",
    "    for paragraph in paragraph_set:\n",
    "        paragraph_size = len(paragraph)\n",
    "        paragraph_sizes.append(paragraph_size)\n",
    "    return paragraph_sizes"
   ]
  },
  {
   "cell_type": "code",
   "execution_count": 9,
   "metadata": {},
   "outputs": [],
   "source": [
    "train_dataset_1, test_dataset_1 = ds_gen.get_dataset_from_author(dsg.DS_Gen.COUTINHO, 0.8, 1605)\n",
    "train_dataset_2, test_dataset_2 = ds_gen.get_dataset_from_author(dsg.DS_Gen.DENSER, 0.8, 1605)"
   ]
  },
  {
   "cell_type": "code",
   "execution_count": 10,
   "metadata": {},
   "outputs": [],
   "source": [
    "train_dt_1_sizes = get_paragraph_size_list(train_dataset_1)\n",
    "train_dt_2_sizes = get_paragraph_size_list(train_dataset_2)\n",
    "test_dt_1_sizes = get_paragraph_size_list(test_dataset_1)\n",
    "test_dt_2_sizes = get_paragraph_size_list(test_dataset_2)"
   ]
  },
  {
   "cell_type": "code",
   "execution_count": 11,
   "metadata": {},
   "outputs": [],
   "source": [
    "train_dataset_raw_both = copy.deepcopy(train_dataset_1)\n",
    "train_dataset_raw_both.extend(train_dataset_2)"
   ]
  },
  {
   "cell_type": "code",
   "execution_count": 12,
   "metadata": {},
   "outputs": [],
   "source": [
    "test_dataset_raw_both = copy.deepcopy(test_dataset_1)\n",
    "test_dataset_raw_both.extend(test_dataset_2)"
   ]
  },
  {
   "cell_type": "code",
   "execution_count": 13,
   "metadata": {},
   "outputs": [],
   "source": [
    "\n",
    "train_labels = [0]*len(train_dataset_1)\n",
    "train_labels_2 = [1]*len(train_dataset_2)\n",
    "\n",
    "train_labels.extend(train_labels_2)"
   ]
  },
  {
   "cell_type": "code",
   "execution_count": 14,
   "metadata": {},
   "outputs": [],
   "source": [
    "test_labels = [0]*len(test_dataset_1)\n",
    "test_labels_2 = [1]*len(test_dataset_2)\n",
    "\n",
    "test_labels.extend(test_labels_2)"
   ]
  },
  {
   "cell_type": "code",
   "execution_count": 15,
   "metadata": {},
   "outputs": [],
   "source": [
    "all_data = copy.deepcopy(train_dt_1_sizes)\n",
    "all_data.extend(train_dt_2_sizes)\n",
    "all_data.extend(test_dt_1_sizes)\n",
    "all_data.extend(test_dt_2_sizes)"
   ]
  },
  {
   "cell_type": "code",
   "execution_count": 16,
   "metadata": {},
   "outputs": [
    {
     "name": "stdout",
     "output_type": "stream",
     "text": [
      "520.6500000000001\n"
     ]
    },
    {
     "data": {
      "text/plain": [
       "<matplotlib.lines.Line2D at 0x176fc3bd0>"
      ]
     },
     "execution_count": 16,
     "metadata": {},
     "output_type": "execute_result"
    },
    {
     "data": {
      "image/png": "[encoded data removed]",
      "text/plain": [
       "<Figure size 640x480 with 1 Axes>"
      ]
     },
     "metadata": {},
     "output_type": "display_data"
    }
   ],
   "source": [
    "plt.plot(all_data)\n",
    "percetile = np.percentile(all_data, 85)\n",
    "print(percetile)\n",
    "plt.axhline(y=percetile)"
   ]
  },
  {
   "cell_type": "code",
   "execution_count": 17,
   "metadata": {},
   "outputs": [],
   "source": [
    "train_dt_2_sizes = get_paragraph_size_list(train_dataset_2)"
   ]
  },
  {
   "cell_type": "code",
   "execution_count": 18,
   "metadata": {},
   "outputs": [],
   "source": [
    "def normalize_data(data, rule):\n",
    "    while (len(data) < rule):\n",
    "        data.append(0)\n",
    "\n",
    "    if(len(data) > rule):\n",
    "        data = data[0:rule]\n",
    "    return data "
   ]
  },
  {
   "cell_type": "code",
   "execution_count": 19,
   "metadata": {},
   "outputs": [],
   "source": [
    "def tokenize_paragraph_set(paragraph_set):\n",
    "    tokenized_paragraph_set= []\n",
    "    for paragraph in paragraph_set:\n",
    "        lowered_paragraph = paragraph.lower()\n",
    "        tokenized_paragraph = tokenize_words_in_paragraph(lowered_paragraph, dictAuthors)\n",
    "        tokenized_paragraph = normalize_data(tokenized_paragraph, 520)\n",
    "        tokenized_paragraph_set.append(tokenized_paragraph)\n",
    "    return tokenized_paragraph_set"
   ]
  },
  {
   "cell_type": "code",
   "execution_count": 20,
   "metadata": {},
   "outputs": [],
   "source": [
    "tokenized_set1 = tokenize_paragraph_set(train_dataset_1)"
   ]
  },
  {
   "cell_type": "code",
   "execution_count": 21,
   "metadata": {},
   "outputs": [],
   "source": [
    "tokenized_set2 = tokenize_paragraph_set(train_dataset_2)"
   ]
  },
  {
   "cell_type": "code",
   "execution_count": 22,
   "metadata": {},
   "outputs": [],
   "source": [
    "train_dataset_both_tokenized = copy.deepcopy(tokenized_set1)\n",
    "train_dataset_both_tokenized.extend(tokenized_set2)"
   ]
  },
  {
   "cell_type": "code",
   "execution_count": 23,
   "metadata": {},
   "outputs": [],
   "source": [
    "tokenized_test1 = tokenize_paragraph_set(test_dataset_1)"
   ]
  },
  {
   "cell_type": "code",
   "execution_count": 24,
   "metadata": {},
   "outputs": [],
   "source": [
    "tokenized_test2 = tokenize_paragraph_set(test_dataset_2)"
   ]
  },
  {
   "cell_type": "code",
   "execution_count": 25,
   "metadata": {},
   "outputs": [],
   "source": [
    "test_dataset_both_tokenized = copy.deepcopy(tokenized_test1)\n",
    "test_dataset_both_tokenized.extend(tokenized_test2)"
   ]
  },
  {
   "cell_type": "code",
   "execution_count": 26,
   "metadata": {},
   "outputs": [
    {
     "data": {
      "text/plain": [
       "<function TextIOWrapper.close()>"
      ]
     },
     "execution_count": 26,
     "metadata": {},
     "output_type": "execute_result"
    }
   ],
   "source": [
    "with open('authorsDict.json', 'w', encoding='utf-8') as f:\n",
    "    json.dump(dictAuthors, f, ensure_ascii=False, indent=4)\n",
    "f.close"
   ]
  },
  {
   "cell_type": "code",
   "execution_count": 27,
   "metadata": {},
   "outputs": [],
   "source": [
    "def load_pretrained_vectors(word2idx, fname):\n",
    "    \n",
    "    print(\"Loading pretrained vectors...\")\n",
    "    fin = open(fname, 'r', encoding='utf-8', newline='\\n', errors='ignore')\n",
    "    n, d = map(int, fin.readline().split())\n",
    "\n",
    "    print(n)\n",
    "    print(d)\n",
    "\n",
    "    embeddings = np.random.uniform(-0.25, 0.25, (len(word2idx), d))\n",
    "    embeddings[word2idx['padding']] = np.zeros((d,))\n",
    "\n",
    "    count = 0\n",
    "    for line in fin:\n",
    "        #print(line)\n",
    "        tokens = line.rstrip().split(' ')\n",
    "        word = tokens[0]\n",
    "        if word in word2idx:\n",
    "            count += 1\n",
    "            embeddings[word2idx[word]] = np.array(tokens[1:], dtype=np.float32)\n",
    "\n",
    "    print(f\"There are {count} / {len(word2idx)} pretrained vectors found.\")\n",
    "\n",
    "    return embeddings"
   ]
  },
  {
   "cell_type": "code",
   "execution_count": 28,
   "metadata": {},
   "outputs": [
    {
     "name": "stdout",
     "output_type": "stream",
     "text": [
      "Loading pretrained vectors...\n",
      "2000000\n",
      "300\n",
      "There are 20130 / 21344 pretrained vectors found.\n"
     ]
    }
   ],
   "source": [
    "# Run the following command lines on the repo's root folder to download the embedding file and uncompress it.\n",
    "# curl https://dl.fbaipublicfiles.com/fasttext/vectors-crawl/cc.pt.300.vec.gz --output cc.pt.300.vec.gz\n",
    "# gzip -dk cc.pt.300.vec.gz\n",
    "embeddings = load_pretrained_vectors(dictAuthors, \"cc.pt.300.vec\")\n",
    "embeddings = torch.tensor(embeddings)"
   ]
  },
  {
   "cell_type": "code",
   "execution_count": 29,
   "metadata": {},
   "outputs": [],
   "source": [
    "def data_loader(train_inputs, test_inputs, train_labels, test_labels,\n",
    "                batch_size=50):\n",
    "   \n",
    "    train_inputs, test_inputs, train_labels, test_labels =\\\n",
    "    tuple(torch.tensor(data) for data in\n",
    "          [train_inputs, test_inputs, train_labels, test_labels])\n",
    "\n",
    "    batch_size = 50\n",
    "\n",
    "    train_data = TensorDataset(train_inputs, train_labels)\n",
    "    train_sampler = RandomSampler(train_data)\n",
    "    train_dataloader = DataLoader(train_data, sampler=train_sampler, batch_size=batch_size)\n",
    "\n",
    "    test_data = TensorDataset(test_inputs, test_labels)\n",
    "    test_sampler = SequentialSampler(test_data)\n",
    "    test_dataloader = DataLoader(test_data, sampler=test_sampler, batch_size=batch_size)\n",
    "\n",
    "    return train_dataloader, test_dataloader"
   ]
  },
  {
   "cell_type": "code",
   "execution_count": 30,
   "metadata": {},
   "outputs": [],
   "source": [
    "\n",
    "train_dataloader, test_dataloader = data_loader(train_dataset_both_tokenized, test_dataset_both_tokenized, train_labels, test_labels, batch_size=50)"
   ]
  },
  {
   "cell_type": "code",
   "execution_count": 31,
   "metadata": {},
   "outputs": [],
   "source": [
    "filter_sizes = [2, 3, 4]\n",
    "num_filters = [2, 2, 2]"
   ]
  },
  {
   "cell_type": "code",
   "execution_count": 32,
   "metadata": {},
   "outputs": [],
   "source": [
    "class CNN_NLP(nn.Module):\n",
    "    def __init__(self,\n",
    "                 pretrained_embedding=None,\n",
    "                 freeze_embedding=False,\n",
    "                 vocab_size=None,\n",
    "                 embed_dim=300,\n",
    "                 filter_sizes=[3, 4, 5],\n",
    "                 num_filters=[100, 100, 100],\n",
    "                 num_classes=2,\n",
    "                 dropout=0.5):\n",
    "        \n",
    "        super(CNN_NLP, self).__init__()\n",
    "        \n",
    "        if pretrained_embedding is not None:\n",
    "            self.vocab_size, self.embed_dim = pretrained_embedding.shape\n",
    "            self.embedding = nn.Embedding.from_pretrained(pretrained_embedding,\n",
    "                                                          freeze=freeze_embedding)\n",
    "        else:\n",
    "            self.embed_dim = embed_dim\n",
    "            self.embedding = nn.Embedding(num_embeddings=vocab_size,\n",
    "                                          embedding_dim=self.embed_dim,\n",
    "                                          padding_idx=0,\n",
    "                                          max_norm=5.0)\n",
    "       \n",
    "        self.conv1d_list = nn.ModuleList([\n",
    "            nn.Conv1d(in_channels=self.embed_dim,\n",
    "                      out_channels=num_filters[i],\n",
    "                      kernel_size=filter_sizes[i])\n",
    "            for i in range(len(filter_sizes))\n",
    "        ])\n",
    "       \n",
    "        self.fc = nn.Linear(np.sum(num_filters), num_classes)\n",
    "        self.dropout = nn.Dropout(p=dropout)\n",
    "\n",
    "    def forward(self, input_ids):\n",
    "        \n",
    "        x_embed = self.embedding(input_ids)\n",
    "\n",
    "        x_reshaped = x_embed.permute(0, 2, 1)\n",
    "\n",
    "        x_conv_list = [F.relu(conv1d(x_reshaped)) for conv1d in self.conv1d_list]\n",
    "\n",
    "        x_pool_list = [F.max_pool1d(x_conv, kernel_size=x_conv.shape[2])\n",
    "            for x_conv in x_conv_list]\n",
    "        \n",
    "        x_fc = torch.cat([x_pool.squeeze(dim=2) for x_pool in x_pool_list],\n",
    "                         dim=1)\n",
    "        \n",
    "        logits = self.fc(self.dropout(x_fc))\n",
    "\n",
    "        return logits"
   ]
  },
  {
   "cell_type": "code",
   "execution_count": 33,
   "metadata": {},
   "outputs": [],
   "source": [
    "dvc = (\n",
    "    \"cuda\"\n",
    "    if torch.cuda.is_available()\n",
    "    else \"cpu\"\n",
    ")\n",
    "\n",
    "def initialize_model(pretrained_embedding=None,\n",
    "                    freeze_embedding=False,\n",
    "                    vocab_size=None,\n",
    "                    embed_dim=300,\n",
    "                    filter_sizes=[3, 4, 5],\n",
    "                    num_filters=[100, 100, 100],\n",
    "                    num_classes=2,\n",
    "                    dropout=0.5,\n",
    "                    learning_rate=0.01):\n",
    "\n",
    "    assert (len(filter_sizes) == len(num_filters)), \"filter_sizes and num_filters need to be of the same length.\"\n",
    "\n",
    "    cnn_model = CNN_NLP(pretrained_embedding=pretrained_embedding,\n",
    "                        freeze_embedding=freeze_embedding,\n",
    "                        vocab_size=vocab_size,\n",
    "                        embed_dim=embed_dim,\n",
    "                        filter_sizes=filter_sizes,\n",
    "                        num_filters=num_filters,\n",
    "                        num_classes=2,\n",
    "                        dropout=0.5)\n",
    "\n",
    "    cnn_model.to(dvc)\n",
    "    cnn_model.double()\n",
    "\n",
    "    optimizer = optim.Adadelta(cnn_model.parameters(), lr=learning_rate, rho=0.95)\n",
    "\n",
    "    # optimizer = optim.Adam(cnn_model.parameters(),lr=learning_rate, eps=1e-06)\n",
    "    return cnn_model, optimizer"
   ]
  },
  {
   "cell_type": "code",
   "execution_count": 34,
   "metadata": {},
   "outputs": [],
   "source": [
    "loss_fn = nn.CrossEntropyLoss()"
   ]
  },
  {
   "cell_type": "code",
   "execution_count": 35,
   "metadata": {},
   "outputs": [],
   "source": [
    "def set_seed(seed_value=42):\n",
    "\n",
    "    random.seed(seed_value)\n",
    "    np.random.seed(seed_value)\n",
    "    torch.manual_seed(seed_value)\n",
    "    torch.cuda.manual_seed_all(seed_value)"
   ]
  },
  {
   "cell_type": "code",
   "execution_count": 36,
   "metadata": {},
   "outputs": [],
   "source": [
    "def evaluate(model, test_dataloader):\n",
    "    model.eval()\n",
    "    evaluation_start_time = time.time()\n",
    "    test_accuracy = []\n",
    "    test_loss = []\n",
    "    for batch in test_dataloader:\n",
    "        b_input_ids, b_labels = tuple(t.to(dvc) for t in batch)\n",
    "\n",
    "        with torch.no_grad():\n",
    "            logits = model(b_input_ids)\n",
    "\n",
    "        loss = loss_fn(logits, b_labels)\n",
    "        test_loss.append(loss.item())\n",
    "\n",
    "        preds = torch.argmax(logits, dim=1).flatten()\n",
    "\n",
    "        accuracy = (preds == b_labels).cpu().numpy().mean() * 100\n",
    "        test_accuracy.append(accuracy)\n",
    "        \n",
    "    test_loss = np.mean(test_loss)\n",
    "    test_accuracy = np.mean(test_accuracy)\n",
    "\n",
    "    return test_loss, test_accuracy"
   ]
  },
  {
   "cell_type": "code",
   "execution_count": 37,
   "metadata": {},
   "outputs": [],
   "source": [
    "def train(model, optimizer, train_dataloader, test_dataloader=None, epochs=10):\n",
    "\n",
    "    best_accuracy = 0\n",
    "    training_start_time = time.time()\n",
    "    test_acc_hist=[]\n",
    "    test_loss_hist=[]\n",
    "    time_elapsed_hist=[]\n",
    "    best_acc_hist=[]\n",
    "\n",
    "\n",
    "    print(\"Start training...\\n\")\n",
    "    print(f\"{'Epoch':^7} | {'Train Loss':^12} | {'Test Loss':^10} | {'Test Acc':^9} | {'Elapsed':^9}\")\n",
    "    print(\"-\"*60)\n",
    "\n",
    "    for epoch_i in range(epochs):\n",
    "     \n",
    "        t0_epoch = time.time()\n",
    "        total_loss = 0\n",
    "\n",
    "        model.train()\n",
    "\n",
    "        for step, batch in enumerate(train_dataloader):\n",
    "           \n",
    "            b_input_ids, b_labels = tuple(t.to(dvc) for t in batch)\n",
    "            model.zero_grad()\n",
    "            logits = model(b_input_ids)\n",
    "            loss = loss_fn(logits, b_labels)\n",
    "            total_loss += loss.item()\n",
    "            loss.backward()\n",
    "            optimizer.step()\n",
    "\n",
    "        avg_train_loss = total_loss / len(train_dataloader)\n",
    "\n",
    "        if test_dataloader is not None:\n",
    "            test_loss, test_accuracy = evaluate(model, test_dataloader)\n",
    "            if test_accuracy > best_accuracy:\n",
    "                best_accuracy = test_accuracy\n",
    "                best_acc_hist.append(best_accuracy)\n",
    "            time_elapsed = time.time() - t0_epoch\n",
    "            print(f\"{epoch_i + 1:^7} | {avg_train_loss:^12.6f} | {test_loss:^10.6f} | {test_accuracy:^9.2f} | {time_elapsed:^9.2f}\")\n",
    "            \n",
    "        test_acc_hist.append(test_accuracy)\n",
    "        test_loss_hist.append(test_loss)\n",
    "        time_elapsed_hist.append(time_elapsed)\n",
    "\n",
    "    print(\"\\n\")\n",
    "    print(optimizer)\n",
    "    print(f\"Training complete! Best accuracy: {best_accuracy:.2f}%.\")\n",
    "    print('Training finished, took {:.2f}s'.format(time.time() - training_start_time))\n",
    "\n",
    "    figure, axis = plt.subplots(2, 2)\n",
    "\n",
    "    axis[0, 0].plot(test_acc_hist) \n",
    "    axis[0, 0].set_title(\"Historico de acurácia no teste\") \n",
    "\n",
    "    axis[0, 1].plot(test_loss_hist) \n",
    "    axis[0, 1].set_title(\"Historico de perda no teste\") \n",
    "\n",
    "    axis[1, 0].plot(time_elapsed_hist) \n",
    "    axis[1, 0].set_title(\"Historico de tempo\")  \n",
    "  \n",
    "    axis[1, 1].plot(best_acc_hist) \n",
    "    axis[1, 1].set_title(\"Historico de melhora na acurácia\") \n",
    "\n",
    "    plt.show() \n"
   ]
  },
  {
   "cell_type": "code",
   "execution_count": 38,
   "metadata": {},
   "outputs": [
    {
     "name": "stdout",
     "output_type": "stream",
     "text": [
      "Start training...\n",
      "\n",
      " Epoch  |  Train Loss  | Test Loss  | Test Acc  |  Elapsed \n",
      "------------------------------------------------------------\n",
      "   1    |   0.674838   |  0.643557  |   65.55   |   40.81  \n",
      "   2    |   0.621027   |  0.591324  |   68.79   |   40.82  \n",
      "   3    |   0.578777   |  0.570433  |   70.89   |   37.48  \n",
      "   4    |   0.542300   |  0.542717  |   72.45   |   38.81  \n",
      "\n",
      "\n",
      "Adadelta (\n",
      "Parameter Group 0\n",
      "    differentiable: False\n",
      "    eps: 1e-06\n",
      "    foreach: None\n",
      "    lr: 0.25\n",
      "    maximize: False\n",
      "    rho: 0.95\n",
      "    weight_decay: 0\n",
      ")\n",
      "Training complete! Best accuracy: 72.45%.\n",
      "Training finished, took 157.91s\n"
     ]
    },
    {
     "data": {
      "image/png": "[encoded data removed]",
      "text/plain": [
       "<Figure size 640x480 with 4 Axes>"
      ]
     },
     "metadata": {},
     "output_type": "display_data"
    }
   ],
   "source": [
    "set_seed(42)\n",
    "cnn_non_static, optimizer = initialize_model(pretrained_embedding=embeddings,\n",
    "                                            freeze_embedding=False,\n",
    "                                            learning_rate=0.25,\n",
    "                                            dropout=0.5)\n",
    "train(cnn_non_static, optimizer, train_dataloader, test_dataloader, epochs=4)"
   ]
  },
  {
   "cell_type": "code",
   "execution_count": 39,
   "metadata": {},
   "outputs": [],
   "source": [
    "def tokenize_words_in_paragraph_for_predict(paragraph, dict):\n",
    "    tensor = []\n",
    "    dict_lenght= len(dict)\n",
    "    parsed_paragraph = nt.word_tokenize(paragraph)\n",
    "    for word in parsed_paragraph:\n",
    "        token = map_to_number(dict, word)\n",
    "        if token > dict_lenght-2:\n",
    "            token = map_to_number(dict, \"unknown\")\n",
    "        tensor.append(token)\n",
    "    print(tensor) \n",
    "    return tensor"
   ]
  },
  {
   "cell_type": "code",
   "execution_count": 52,
   "metadata": {},
   "outputs": [],
   "source": [
    "def predict(text, model=cnn_non_static.to(\"cpu\"), max_len=520):\n",
    "\n",
    "    tokens = tokenize_words_in_paragraph_for_predict(text.lower(), dictAuthors)\n",
    "    padded_tokens = tokens + [0] * (max_len - len(tokens))\n",
    "\n",
    "    input_id = torch.tensor(padded_tokens).unsqueeze(dim=0)\n",
    "    logits = model.forward(input_id)\n",
    "\n",
    "    probs = F.softmax(logits, dim=1).squeeze(dim=0)\n",
    "\n",
    "    if probs[1] > 0.5:\n",
    "        print(f\"Esse parágrafo tem {probs[1] * 100:.2f}% de chance de ser Denser.\")\n",
    "    else:\n",
    "        chance = 1 -probs[1]\n",
    "        print(f\"Esse parágrafo tem {chance * 100:.2f}% de chance de ser Coutinho.\")\n"
   ]
  },
  {
   "cell_type": "code",
   "execution_count": 41,
   "metadata": {},
   "outputs": [
    {
     "data": {
      "image/png": "[encoded data removed]",
      "text/plain": [
       "<Figure size 1200x700 with 2 Axes>"
      ]
     },
     "metadata": {},
     "output_type": "display_data"
    }
   ],
   "source": [
    "from sklearn.metrics import confusion_matrix\n",
    "import seaborn as sn\n",
    "import pandas as pd\n",
    "\n",
    "y_pred = []\n",
    "y_true = []\n",
    "\n",
    "# iterate over test data\n",
    "for inputs, labels in test_dataloader:\n",
    "        output = cnn_non_static(inputs) # Feed Network\n",
    "\n",
    "        output = (torch.max(torch.exp(output), 1)[1]).data.cpu().numpy()\n",
    "        y_pred.extend(output) # Save Prediction\n",
    "        \n",
    "        labels = labels.data.cpu().numpy()\n",
    "        y_true.extend(labels) # Save Truth\n",
    "\n",
    "# constant for classes\n",
    "classes = ('Denser', 'Coutinho')\n",
    "\n",
    "# Build confusion matrix\n",
    "cf_matrix = confusion_matrix(y_true, y_pred)\n",
    "df_cm = pd.DataFrame(cf_matrix / np.sum(cf_matrix, axis=1)[:, None], index = [i for i in classes],\n",
    "                     columns = [i for i in classes])\n",
    "plt.figure(figsize = (12,7))\n",
    "sn.heatmap(df_cm, annot=True)\n",
    "plt.savefig('output.png')"
   ]
  },
  {
   "cell_type": "code",
   "execution_count": 42,
   "metadata": {},
   "outputs": [
    {
     "name": "stdout",
     "output_type": "stream",
     "text": [
      "Saved PyTorch Model State to cnnns.pth\n"
     ]
    }
   ],
   "source": [
    "torch.save(cnn_non_static.state_dict(), \"cnnns.pth\")\n",
    "print(\"Saved PyTorch Model State to cnnns.pth\")"
   ]
  },
  {
   "cell_type": "code",
   "execution_count": 43,
   "metadata": {},
   "outputs": [
    {
     "data": {
      "text/plain": [
       "<All keys matched successfully>"
      ]
     },
     "execution_count": 43,
     "metadata": {},
     "output_type": "execute_result"
    }
   ],
   "source": [
    "model = cnn_non_static.to(dvc)\n",
    "model = cnn_non_static.double()\n",
    "model.load_state_dict(torch.load(\"cnnns.pth\"))"
   ]
  },
  {
   "cell_type": "code",
   "execution_count": 44,
   "metadata": {},
   "outputs": [],
   "source": [
    "from torchviz import make_dot\n",
    "\n",
    "input_ids = torch.tensor([[   65,   459,  1496,    52,  2832,    25,   459,  1496,   654,    52,\n",
    "          6528, 10169,   248, 10170,    73, 10171,    17, 10172,   185,  9928,\n",
    "            73,   436,   229,    75, 10173, 10174,    17,  9517,    17, 10175,\n",
    "           450,   477,   153,  1087,    17,   531,    43,   440,     6,  1588,\n",
    "           268,   120,   687,    52,   176,  3182,   450,    70,  4129, 10176,\n",
    "            54,  6038,  1412, 10177,     6,   120,   126, 10178,   457,    17,\n",
    "            60,   457,     6,    88, 10170,    73, 10171, 10179,    10, 10180,\n",
    "         10181, 10182,    43,  2517,  1115,  3469,  6195,   355, 10183,   436,\n",
    "            17, 10184,    17,  1115,  5111,    17,   160,  1899,   459,   496,\n",
    "           256,   153,  5283,    58,     6, 10185,   120, 10186,    17,    43,\n",
    "          1140, 10177,     6,   126, 10178,    75,  2806,    52,  2286,    17,\n",
    "           647,     8,   429, 10187,    80,   126,   120,  9736,    17,     8,\n",
    "           132,     9,    70, 10188,    15, 10189,    17,   817, 10190,    17,\n",
    "          2438, 10191,    17,  2438, 10191,    17,     8,  2823,    52,  6428,\n",
    "           266,  3287,    54,  6546,    17,   429,  2232,   219,  1261,     6,\n",
    "           459,  4806,    54,  2197,    11,    17,     6,    34,  1917,  2131,\n",
    "            17,    34,   614,   270, 10192,    17, 10193,    17,    34,  2092,\n",
    "         10194,   185,   817,  1419,    17,     8,    34,     9,     6,   126,\n",
    "         10195,  2339,    17,     8,    34,  2092, 10196,    17,   459,  1611,\n",
    "           219,    52,   120,  1676,  8884,  2377,     6,  1356,   268,  8828,\n",
    "           219,    52,   132,  2377,     6,  5996,    52,    34,   755,    17,\n",
    "          2695,    15, 10197,    43,     6,   607,  2197, 10198,    17,   929,\n",
    "           126,  1412,    34,     7,    43, 10199,  2887,    54,    43,  8601,\n",
    "         10200,  4590,   215,    39,   403, 10201,   375,   669,    73,  4410,\n",
    "          3480,  2351,  8601,   188,     6,     9,    70,  1705,    75,    39,\n",
    "         10202,   978,    75,    39, 10203,   745,  9607,    64,   780,   978,\n",
    "          4332, 10204,    10, 10205,    52,  3199,  1412,  8601,   188,   340,\n",
    "          2721,    17,   340, 10206,   346,    17,   340,  6844,  4075,    17,\n",
    "         10207,    15, 10208,   547,   185,  8386, 10209,   305,   372,     6,\n",
    "            34,     7,    54,   496,    34,   345, 10210,    75,  2806,    52,\n",
    "          2286,    17,    15,  1141,     6,   176,   468,  1873,    80,   496,\n",
    "          3263,    39,  6114,    15,  8417,    54,   437,    58,    71,    15,\n",
    "           124,    17,    43,  1255,  2363,    22,  1736, 10211,   961,  2643,\n",
    "            52,  1009,    17, 10184,    17,  1009,   429,   487,   340,  1117,\n",
    "            17, 10204,    17, 10212,    17,    65,     8,   266,   513,    15,\n",
    "         10212,  9593, 10213, 10214,   536, 10215,    75,  1891,  2145,  6668,\n",
    "            52,  7263,    52, 10216,    52, 10217,   250, 10218,   277,   315,\n",
    "           232,   147,     6,     8, 10219,    88,  1281, 10215,  2527,    52,\n",
    "         10220,    52,   340, 10221, 10222,    17,  2894,    80,    10,   838,\n",
    "          1115,  8601, 10177,     7,  3220,    19, 10223,    17,   667,    17,\n",
    "          6655,  9808,    15,  3518,    73,   403,     6,     8,   256,  2305,\n",
    "           647,   459,   910,    64, 10183,   105,    52,    15, 10224,    17,\n",
    "            73,   403,     6,     8,  2196, 10225,    52,  6655,    64,   412,\n",
    "           105,    17,    80,   126,   459,   120,    34,   354,   161,   153,\n",
    "          7770,    58,  8601,  9401,    17,   513,   403,     6,  2092, 10226,\n",
    "            54,  9061,    17,   358,    43,     6,     8,   433,   322, 10227,\n",
    "            43,    59,    52,   120,   126,  1676,    80,    70,   204,    17,\n",
    "            65,   459,   619,    31,    15, 10224,    52, 10228,    52,   327,\n",
    "            64,   148,    17,  1443,     6,     8,   120,   226,  1047,    43,\n",
    "         10229,    17,    10,  1265,    52,    43,  1065,    54, 10205,    17,\n",
    "           571,   459, 10230,    10,   644,    17, 10231,   153,    71,    15,\n",
    "             8,     6,   120,  5070,   340,  1220,    17,   961,   274,    17,\n",
    "           147, 10205,    17,  8952,    54,    43,  2605,    25,    80,   457,\n",
    "            25,    80,   461,    25,    80,   410,   232,    17,   323,  7269,\n",
    "            25,  4154,   459, 10232,    52,   429, 10233,    52,   433,   525,\n",
    "            17,     8,  3836,    43,  5609,    17,   172,   817,    17,  1443,\n",
    "             6,   459,    34, 10234,    34, 10235,   270,   560,    17,  1025,\n",
    "            88, 10170,    73, 10171,     6, 10236,    43,   440,   153,  1087,\n",
    "            17,  1846,   477,    15,  1986,    17,    80,   126,    34,   126,\n",
    "         10237,    54,   131,  8286,    52,   525,   131,  3910,    17,   176,\n",
    "           561,   284,    43, 10177, 10238,    54,    45,    17,    15,  2136,\n",
    "             6, 10239,    43,  2158, 10240,   707,   457,   215,    31,  6063,\n",
    "            54,    13,   232,    17,   459,    64,   105,    58,   440,    25,\n",
    "           525,    17, 10184,    17,   649,  2353,    17,   452,    52,  3346,\n",
    "            17, 10241,    17,    34,  3248,    17,   600,    17,  5858,    25,\n",
    "            65,    88,  2353,   628,    80,  2141, 10242,   215, 10243,    60,\n",
    "            56,   323,    43,   337,   147,     6, 10244,    64, 10183,  1390,\n",
    "            25,  5314,    17,  5314,    17,   319,  1479,   340,    56,    17,\n",
    "          5314,    17,  5314,    25,    52,    48,    17,     8,    34, 10245,\n",
    "           270,    17,    34,     9,  7960,    17,  5414,   319,  1217,   436,\n",
    "            17,     8,    34,     9,  8622,    52,   459,    17,  4402,    17,\n",
    "            52,    48,    17,     8,    34,     9, 10246,    17,     8,  1443,\n",
    "             9, 10247,    17,    52,   459,    17,  8728,    17,  1096,  8728,\n",
    "            17,   126,    34,     8,  8958,    17,   176,  1030,    17,   375,\n",
    "             6,    34,  1030,   303,    64,   412,  1390,    17,    52,    48,\n",
    "            17,  9455,    17,    34,   457,   305,   232,    17,    52,   459,\n",
    "            17,    65,  1535,     6,   817,  1065,   132,   395,  6063,    54,\n",
    "            13,   232,    25,    31,    17,  1375,    11,    25,    52,    48,\n",
    "            17,     8,    34,     9,   167,   466,    64,    87,    17,  5149,\n",
    "            19,    34,    17,    34,   652, 10248,    17,     7,    29,    25,\n",
    "            52,  1496,  4034,    17,    88,  1254, 10249,    17,   160,    34,\n",
    "           883,    17,   160,    34,  3182,    17,    34,  1375,    17,    34,\n",
    "           904,    17,   160,   817,  1065,    34,   395,  6063,    54,  1961,\n",
    "           183,    17,   817,  1065,    10,  7314, 10250,    52,   650,  2559,\n",
    "            73,   761,   428,  1034,    54,    43,  4276,  9669,    17, 10251,\n",
    "            52,   176,  7432,   315, 10252,    15,  7858,    52,  6348,    64,\n",
    "           412,   105,    25]])\n",
    "\n",
    "model = cnn_non_static\n",
    "y = model(input_ids)"
   ]
  },
  {
   "cell_type": "code",
   "execution_count": 45,
   "metadata": {},
   "outputs": [
    {
     "data": {
      "image/svg+xml": [
       "<?xml version=\"1.0\" encoding=\"UTF-8\" standalone=\"no\"?>\n",
       "<!DOCTYPE svg PUBLIC \"-//W3C//DTD SVG 1.1//EN\"\n",
       " \"http://www.w3.org/Graphics/SVG/1.1/DTD/svg11.dtd\">\n",
       "<!-- Generated by graphviz version 9.0.0 (20230911.1827)\n",
       " -->\n",
       "<!-- Pages: 1 -->\n",
       "<svg width=\"940pt\" height=\"740pt\"\n",
       " viewBox=\"0.00 0.00 940.00 739.56\" xmlns=\"http://www.w3.org/2000/svg\" xmlns:xlink=\"http://www.w3.org/1999/xlink\">\n",
       "<g id=\"graph0\" class=\"graph\" transform=\"scale(0.921569 0.921569) rotate(0) translate(4 798.5)\">\n",
       "<polygon fill=\"white\" stroke=\"none\" points=\"-4,4 -4,-798.5 1016,-798.5 1016,4 -4,4\"/>\n",
       "<!-- 11461665536 -->\n",
       "<g id=\"node1\" class=\"node\">\n",
       "<title>11461665536</title>\n",
       "<polygon fill=\"#caff70\" stroke=\"black\" points=\"527,-31.25 473,-31.25 473,0 527,0 527,-31.25\"/>\n",
       "<text text-anchor=\"middle\" x=\"500\" y=\"-5.75\" font-family=\"monospace\" font-size=\"10.00\"> ()</text>\n",
       "</g>\n",
       "<!-- 11461903360 -->\n",
       "<g id=\"node2\" class=\"node\">\n",
       "<title>11461903360</title>\n",
       "<polygon fill=\"lightgrey\" stroke=\"black\" points=\"547,-86.5 453,-86.5 453,-67.25 547,-67.25 547,-86.5\"/>\n",
       "<text text-anchor=\"middle\" x=\"500\" y=\"-73\" font-family=\"monospace\" font-size=\"10.00\">MeanBackward0</text>\n",
       "</g>\n",
       "<!-- 11461903360&#45;&gt;11461665536 -->\n",
       "<g id=\"edge44\" class=\"edge\">\n",
       "<title>11461903360&#45;&gt;11461665536</title>\n",
       "<path fill=\"none\" stroke=\"black\" d=\"M500,-66.88C500,-60.54 500,-51.7 500,-43.2\"/>\n",
       "<polygon fill=\"black\" stroke=\"black\" points=\"503.5,-43.22 500,-33.22 496.5,-43.22 503.5,-43.22\"/>\n",
       "</g>\n",
       "<!-- 11461902448 -->\n",
       "<g id=\"node3\" class=\"node\">\n",
       "<title>11461902448</title>\n",
       "<polygon fill=\"lightgrey\" stroke=\"black\" points=\"550,-141.75 450,-141.75 450,-122.5 550,-122.5 550,-141.75\"/>\n",
       "<text text-anchor=\"middle\" x=\"500\" y=\"-128.25\" font-family=\"monospace\" font-size=\"10.00\">AddmmBackward0</text>\n",
       "</g>\n",
       "<!-- 11461902448&#45;&gt;11461903360 -->\n",
       "<g id=\"edge1\" class=\"edge\">\n",
       "<title>11461902448&#45;&gt;11461903360</title>\n",
       "<path fill=\"none\" stroke=\"black\" d=\"M500,-122.33C500,-115.82 500,-106.67 500,-98.37\"/>\n",
       "<polygon fill=\"black\" stroke=\"black\" points=\"503.5,-98.37 500,-88.37 496.5,-98.37 503.5,-98.37\"/>\n",
       "</g>\n",
       "<!-- 11461902928 -->\n",
       "<g id=\"node4\" class=\"node\">\n",
       "<title>11461902928</title>\n",
       "<polygon fill=\"lightgrey\" stroke=\"black\" points=\"377,-197 277,-197 277,-177.75 377,-177.75 377,-197\"/>\n",
       "<text text-anchor=\"middle\" x=\"327\" y=\"-183.5\" font-family=\"monospace\" font-size=\"10.00\">AccumulateGrad</text>\n",
       "</g>\n",
       "<!-- 11461902928&#45;&gt;11461902448 -->\n",
       "<g id=\"edge2\" class=\"edge\">\n",
       "<title>11461902928&#45;&gt;11461902448</title>\n",
       "<path fill=\"none\" stroke=\"black\" d=\"M356.35,-177.34C384.8,-168.58 428.2,-155.23 459.85,-145.48\"/>\n",
       "<polygon fill=\"black\" stroke=\"black\" points=\"460.53,-148.93 469.06,-142.65 458.48,-142.24 460.53,-148.93\"/>\n",
       "</g>\n",
       "<!-- 6292516576 -->\n",
       "<g id=\"node5\" class=\"node\">\n",
       "<title>6292516576</title>\n",
       "<polygon fill=\"lightblue\" stroke=\"black\" points=\"296,-263.5 238,-263.5 238,-233 296,-233 296,-263.5\"/>\n",
       "<text text-anchor=\"middle\" x=\"267\" y=\"-250\" font-family=\"monospace\" font-size=\"10.00\">fc.bias</text>\n",
       "<text text-anchor=\"middle\" x=\"267\" y=\"-238.75\" font-family=\"monospace\" font-size=\"10.00\"> (2)</text>\n",
       "</g>\n",
       "<!-- 6292516576&#45;&gt;11461902928 -->\n",
       "<g id=\"edge3\" class=\"edge\">\n",
       "<title>6292516576&#45;&gt;11461902928</title>\n",
       "<path fill=\"none\" stroke=\"black\" d=\"M281.83,-232.7C290.26,-224.42 300.87,-214.02 309.68,-205.37\"/>\n",
       "<polygon fill=\"black\" stroke=\"black\" points=\"311.98,-208.01 316.67,-198.51 307.08,-203.02 311.98,-208.01\"/>\n",
       "</g>\n",
       "<!-- 11461904224 -->\n",
       "<g id=\"node6\" class=\"node\">\n",
       "<title>11461904224</title>\n",
       "<polygon fill=\"lightgrey\" stroke=\"black\" points=\"544,-197 456,-197 456,-177.75 544,-177.75 544,-197\"/>\n",
       "<text text-anchor=\"middle\" x=\"500\" y=\"-183.5\" font-family=\"monospace\" font-size=\"10.00\">CatBackward0</text>\n",
       "</g>\n",
       "<!-- 11461904224&#45;&gt;11461902448 -->\n",
       "<g id=\"edge4\" class=\"edge\">\n",
       "<title>11461904224&#45;&gt;11461902448</title>\n",
       "<path fill=\"none\" stroke=\"black\" d=\"M500,-177.58C500,-171.07 500,-161.92 500,-153.62\"/>\n",
       "<polygon fill=\"black\" stroke=\"black\" points=\"503.5,-153.62 500,-143.62 496.5,-153.62 503.5,-153.62\"/>\n",
       "</g>\n",
       "<!-- 11461903888 -->\n",
       "<g id=\"node7\" class=\"node\">\n",
       "<title>11461903888</title>\n",
       "<polygon fill=\"lightgrey\" stroke=\"black\" points=\"426,-257.88 314,-257.88 314,-238.62 426,-238.62 426,-257.88\"/>\n",
       "<text text-anchor=\"middle\" x=\"370\" y=\"-244.38\" font-family=\"monospace\" font-size=\"10.00\">SqueezeBackward1</text>\n",
       "</g>\n",
       "<!-- 11461903888&#45;&gt;11461904224 -->\n",
       "<g id=\"edge5\" class=\"edge\">\n",
       "<title>11461903888&#45;&gt;11461904224</title>\n",
       "<path fill=\"none\" stroke=\"black\" d=\"M390.03,-238.18C411.37,-228.51 445.4,-213.1 469.96,-201.98\"/>\n",
       "<polygon fill=\"black\" stroke=\"black\" points=\"471.12,-205.3 478.78,-197.98 468.23,-198.92 471.12,-205.3\"/>\n",
       "</g>\n",
       "<!-- 11461903408 -->\n",
       "<g id=\"node8\" class=\"node\">\n",
       "<title>11461903408</title>\n",
       "<polygon fill=\"lightgrey\" stroke=\"black\" points=\"386,-324.38 274,-324.38 274,-305.12 386,-305.12 386,-324.38\"/>\n",
       "<text text-anchor=\"middle\" x=\"330\" y=\"-310.88\" font-family=\"monospace\" font-size=\"10.00\">SqueezeBackward1</text>\n",
       "</g>\n",
       "<!-- 11461903408&#45;&gt;11461903888 -->\n",
       "<g id=\"edge6\" class=\"edge\">\n",
       "<title>11461903408&#45;&gt;11461903888</title>\n",
       "<path fill=\"none\" stroke=\"black\" d=\"M335.56,-304.78C341.47,-295.25 350.99,-279.91 358.52,-267.77\"/>\n",
       "<polygon fill=\"black\" stroke=\"black\" points=\"361.39,-269.77 363.69,-259.43 355.44,-266.08 361.39,-269.77\"/>\n",
       "</g>\n",
       "<!-- 11461905184 -->\n",
       "<g id=\"node9\" class=\"node\">\n",
       "<title>11461905184</title>\n",
       "<polygon fill=\"lightgrey\" stroke=\"black\" points=\"385,-385.25 195,-385.25 195,-366 385,-366 385,-385.25\"/>\n",
       "<text text-anchor=\"middle\" x=\"290\" y=\"-371.75\" font-family=\"monospace\" font-size=\"10.00\">MaxPool2DWithIndicesBackward0</text>\n",
       "</g>\n",
       "<!-- 11461905184&#45;&gt;11461903408 -->\n",
       "<g id=\"edge7\" class=\"edge\">\n",
       "<title>11461905184&#45;&gt;11461903408</title>\n",
       "<path fill=\"none\" stroke=\"black\" d=\"M296.08,-365.68C301.71,-357.38 310.28,-344.77 317.4,-334.3\"/>\n",
       "<polygon fill=\"black\" stroke=\"black\" points=\"320.29,-336.27 323.02,-326.03 314.5,-332.33 320.29,-336.27\"/>\n",
       "</g>\n",
       "<!-- 11461905280 -->\n",
       "<g id=\"node10\" class=\"node\">\n",
       "<title>11461905280</title>\n",
       "<polygon fill=\"lightgrey\" stroke=\"black\" points=\"349,-440.5 225,-440.5 225,-421.25 349,-421.25 349,-440.5\"/>\n",
       "<text text-anchor=\"middle\" x=\"287\" y=\"-427\" font-family=\"monospace\" font-size=\"10.00\">UnsqueezeBackward0</text>\n",
       "</g>\n",
       "<!-- 11461905280&#45;&gt;11461905184 -->\n",
       "<g id=\"edge8\" class=\"edge\">\n",
       "<title>11461905280&#45;&gt;11461905184</title>\n",
       "<path fill=\"none\" stroke=\"black\" d=\"M287.5,-421.08C287.87,-414.49 288.39,-405.21 288.86,-396.82\"/>\n",
       "<polygon fill=\"black\" stroke=\"black\" points=\"292.34,-397.3 289.41,-387.12 285.35,-396.91 292.34,-397.3\"/>\n",
       "</g>\n",
       "<!-- 11461904080 -->\n",
       "<g id=\"node11\" class=\"node\">\n",
       "<title>11461904080</title>\n",
       "<polygon fill=\"lightgrey\" stroke=\"black\" points=\"296,-495.75 202,-495.75 202,-476.5 296,-476.5 296,-495.75\"/>\n",
       "<text text-anchor=\"middle\" x=\"249\" y=\"-482.25\" font-family=\"monospace\" font-size=\"10.00\">ReluBackward0</text>\n",
       "</g>\n",
       "<!-- 11461904080&#45;&gt;11461905280 -->\n",
       "<g id=\"edge9\" class=\"edge\">\n",
       "<title>11461904080&#45;&gt;11461905280</title>\n",
       "<path fill=\"none\" stroke=\"black\" d=\"M255.27,-476.33C260.36,-469.21 267.7,-458.93 274.03,-450.05\"/>\n",
       "<polygon fill=\"black\" stroke=\"black\" points=\"276.75,-452.26 279.71,-442.09 271.05,-448.2 276.75,-452.26\"/>\n",
       "</g>\n",
       "<!-- 11461904176 -->\n",
       "<g id=\"node12\" class=\"node\">\n",
       "<title>11461904176</title>\n",
       "<polygon fill=\"lightgrey\" stroke=\"black\" points=\"298,-551 162,-551 162,-531.75 298,-531.75 298,-551\"/>\n",
       "<text text-anchor=\"middle\" x=\"230\" y=\"-537.5\" font-family=\"monospace\" font-size=\"10.00\">ConvolutionBackward0</text>\n",
       "</g>\n",
       "<!-- 11461904176&#45;&gt;11461904080 -->\n",
       "<g id=\"edge10\" class=\"edge\">\n",
       "<title>11461904176&#45;&gt;11461904080</title>\n",
       "<path fill=\"none\" stroke=\"black\" d=\"M233.14,-531.58C235.54,-524.84 238.96,-515.27 242,-506.74\"/>\n",
       "<polygon fill=\"black\" stroke=\"black\" points=\"245.22,-508.13 245.29,-497.53 238.63,-505.78 245.22,-508.13\"/>\n",
       "</g>\n",
       "<!-- 11461905472 -->\n",
       "<g id=\"node13\" class=\"node\">\n",
       "<title>11461905472</title>\n",
       "<polygon fill=\"lightgrey\" stroke=\"black\" points=\"423,-606.25 311,-606.25 311,-587 423,-587 423,-606.25\"/>\n",
       "<text text-anchor=\"middle\" x=\"367\" y=\"-592.75\" font-family=\"monospace\" font-size=\"10.00\">PermuteBackward0</text>\n",
       "</g>\n",
       "<!-- 11461905472&#45;&gt;11461904176 -->\n",
       "<g id=\"edge11\" class=\"edge\">\n",
       "<title>11461905472&#45;&gt;11461904176</title>\n",
       "<path fill=\"none\" stroke=\"black\" d=\"M343.76,-586.59C321.81,-578.06 288.65,-565.17 263.79,-555.51\"/>\n",
       "<polygon fill=\"black\" stroke=\"black\" points=\"265.35,-552.36 254.76,-552 262.82,-558.89 265.35,-552.36\"/>\n",
       "</g>\n",
       "<!-- 11461905568 -->\n",
       "<g id=\"node26\" class=\"node\">\n",
       "<title>11461905568</title>\n",
       "<polygon fill=\"lightgrey\" stroke=\"black\" points=\"568,-551 432,-551 432,-531.75 568,-531.75 568,-551\"/>\n",
       "<text text-anchor=\"middle\" x=\"500\" y=\"-537.5\" font-family=\"monospace\" font-size=\"10.00\">ConvolutionBackward0</text>\n",
       "</g>\n",
       "<!-- 11461905472&#45;&gt;11461905568 -->\n",
       "<g id=\"edge25\" class=\"edge\">\n",
       "<title>11461905472&#45;&gt;11461905568</title>\n",
       "<path fill=\"none\" stroke=\"black\" d=\"M389.56,-586.59C410.77,-578.1 442.77,-565.29 466.88,-555.64\"/>\n",
       "<polygon fill=\"black\" stroke=\"black\" points=\"467.94,-558.98 475.92,-552.02 465.34,-552.48 467.94,-558.98\"/>\n",
       "</g>\n",
       "<!-- 11461906192 -->\n",
       "<g id=\"node36\" class=\"node\">\n",
       "<title>11461906192</title>\n",
       "<polygon fill=\"lightgrey\" stroke=\"black\" points=\"839,-551 703,-551 703,-531.75 839,-531.75 839,-551\"/>\n",
       "<text text-anchor=\"middle\" x=\"771\" y=\"-537.5\" font-family=\"monospace\" font-size=\"10.00\">ConvolutionBackward0</text>\n",
       "</g>\n",
       "<!-- 11461905472&#45;&gt;11461906192 -->\n",
       "<g id=\"edge36\" class=\"edge\">\n",
       "<title>11461905472&#45;&gt;11461906192</title>\n",
       "<path fill=\"none\" stroke=\"black\" d=\"M423.17,-588.22C492.92,-579.03 612.32,-563.29 691.46,-552.86\"/>\n",
       "<polygon fill=\"black\" stroke=\"black\" points=\"691.87,-556.33 701.33,-551.56 690.96,-549.39 691.87,-556.33\"/>\n",
       "</g>\n",
       "<!-- 11461905664 -->\n",
       "<g id=\"node14\" class=\"node\">\n",
       "<title>11461905664</title>\n",
       "<polygon fill=\"lightgrey\" stroke=\"black\" points=\"420,-667.12 296,-667.12 296,-647.88 420,-647.88 420,-667.12\"/>\n",
       "<text text-anchor=\"middle\" x=\"358\" y=\"-653.62\" font-family=\"monospace\" font-size=\"10.00\">EmbeddingBackward0</text>\n",
       "</g>\n",
       "<!-- 11461905664&#45;&gt;11461905472 -->\n",
       "<g id=\"edge12\" class=\"edge\">\n",
       "<title>11461905664&#45;&gt;11461905472</title>\n",
       "<path fill=\"none\" stroke=\"black\" d=\"M359.37,-647.56C360.57,-639.69 362.36,-627.95 363.91,-617.82\"/>\n",
       "<polygon fill=\"black\" stroke=\"black\" points=\"367.34,-618.56 365.39,-608.15 360.42,-617.5 367.34,-618.56\"/>\n",
       "</g>\n",
       "<!-- 11461905760 -->\n",
       "<g id=\"node15\" class=\"node\">\n",
       "<title>11461905760</title>\n",
       "<polygon fill=\"lightgrey\" stroke=\"black\" points=\"408,-728 308,-728 308,-708.75 408,-708.75 408,-728\"/>\n",
       "<text text-anchor=\"middle\" x=\"358\" y=\"-714.5\" font-family=\"monospace\" font-size=\"10.00\">AccumulateGrad</text>\n",
       "</g>\n",
       "<!-- 11461905760&#45;&gt;11461905664 -->\n",
       "<g id=\"edge13\" class=\"edge\">\n",
       "<title>11461905760&#45;&gt;11461905664</title>\n",
       "<path fill=\"none\" stroke=\"black\" d=\"M358,-708.43C358,-700.65 358,-689.08 358,-679.03\"/>\n",
       "<polygon fill=\"black\" stroke=\"black\" points=\"361.5,-679.04 358,-669.04 354.5,-679.04 361.5,-679.04\"/>\n",
       "</g>\n",
       "<!-- 6291265552 -->\n",
       "<g id=\"node16\" class=\"node\">\n",
       "<title>6291265552</title>\n",
       "<polygon fill=\"lightblue\" stroke=\"black\" points=\"414,-794.5 302,-794.5 302,-764 414,-764 414,-794.5\"/>\n",
       "<text text-anchor=\"middle\" x=\"358\" y=\"-781\" font-family=\"monospace\" font-size=\"10.00\">embedding.weight</text>\n",
       "<text text-anchor=\"middle\" x=\"358\" y=\"-769.75\" font-family=\"monospace\" font-size=\"10.00\"> (21344, 300)</text>\n",
       "</g>\n",
       "<!-- 6291265552&#45;&gt;11461905760 -->\n",
       "<g id=\"edge14\" class=\"edge\">\n",
       "<title>6291265552&#45;&gt;11461905760</title>\n",
       "<path fill=\"none\" stroke=\"black\" d=\"M358,-763.7C358,-756.46 358,-747.59 358,-739.69\"/>\n",
       "<polygon fill=\"black\" stroke=\"black\" points=\"361.5,-739.96 358,-729.96 354.5,-739.96 361.5,-739.96\"/>\n",
       "</g>\n",
       "<!-- 11461905424 -->\n",
       "<g id=\"node17\" class=\"node\">\n",
       "<title>11461905424</title>\n",
       "<polygon fill=\"lightgrey\" stroke=\"black\" points=\"142,-606.25 42,-606.25 42,-587 142,-587 142,-606.25\"/>\n",
       "<text text-anchor=\"middle\" x=\"92\" y=\"-592.75\" font-family=\"monospace\" font-size=\"10.00\">AccumulateGrad</text>\n",
       "</g>\n",
       "<!-- 11461905424&#45;&gt;11461904176 -->\n",
       "<g id=\"edge15\" class=\"edge\">\n",
       "<title>11461905424&#45;&gt;11461904176</title>\n",
       "<path fill=\"none\" stroke=\"black\" d=\"M115.41,-586.59C137.52,-578.06 170.92,-565.17 195.97,-555.51\"/>\n",
       "<polygon fill=\"black\" stroke=\"black\" points=\"196.99,-558.86 205.06,-552 194.47,-552.33 196.99,-558.86\"/>\n",
       "</g>\n",
       "<!-- 10907371472 -->\n",
       "<g id=\"node18\" class=\"node\">\n",
       "<title>10907371472</title>\n",
       "<polygon fill=\"lightblue\" stroke=\"black\" points=\"136,-672.75 0,-672.75 0,-642.25 136,-642.25 136,-672.75\"/>\n",
       "<text text-anchor=\"middle\" x=\"68\" y=\"-659.25\" font-family=\"monospace\" font-size=\"10.00\">conv1d_list.0.weight</text>\n",
       "<text text-anchor=\"middle\" x=\"68\" y=\"-648\" font-family=\"monospace\" font-size=\"10.00\"> (100, 300, 3)</text>\n",
       "</g>\n",
       "<!-- 10907371472&#45;&gt;11461905424 -->\n",
       "<g id=\"edge16\" class=\"edge\">\n",
       "<title>10907371472&#45;&gt;11461905424</title>\n",
       "<path fill=\"none\" stroke=\"black\" d=\"M73.93,-641.95C76.99,-634.45 80.76,-625.2 84.06,-617.1\"/>\n",
       "<polygon fill=\"black\" stroke=\"black\" points=\"87.19,-618.68 87.73,-608.1 80.71,-616.04 87.19,-618.68\"/>\n",
       "</g>\n",
       "<!-- 11461903648 -->\n",
       "<g id=\"node19\" class=\"node\">\n",
       "<title>11461903648</title>\n",
       "<polygon fill=\"lightgrey\" stroke=\"black\" points=\"275,-606.25 175,-606.25 175,-587 275,-587 275,-606.25\"/>\n",
       "<text text-anchor=\"middle\" x=\"225\" y=\"-592.75\" font-family=\"monospace\" font-size=\"10.00\">AccumulateGrad</text>\n",
       "</g>\n",
       "<!-- 11461903648&#45;&gt;11461904176 -->\n",
       "<g id=\"edge17\" class=\"edge\">\n",
       "<title>11461903648&#45;&gt;11461904176</title>\n",
       "<path fill=\"none\" stroke=\"black\" d=\"M225.83,-586.83C226.44,-580.24 227.32,-570.96 228.1,-562.57\"/>\n",
       "<polygon fill=\"black\" stroke=\"black\" points=\"231.56,-563.15 229.01,-552.87 224.6,-562.5 231.56,-563.15\"/>\n",
       "</g>\n",
       "<!-- 10907371552 -->\n",
       "<g id=\"node20\" class=\"node\">\n",
       "<title>10907371552</title>\n",
       "<polygon fill=\"lightblue\" stroke=\"black\" points=\"278,-672.75 154,-672.75 154,-642.25 278,-642.25 278,-672.75\"/>\n",
       "<text text-anchor=\"middle\" x=\"216\" y=\"-659.25\" font-family=\"monospace\" font-size=\"10.00\">conv1d_list.0.bias</text>\n",
       "<text text-anchor=\"middle\" x=\"216\" y=\"-648\" font-family=\"monospace\" font-size=\"10.00\"> (100)</text>\n",
       "</g>\n",
       "<!-- 10907371552&#45;&gt;11461903648 -->\n",
       "<g id=\"edge18\" class=\"edge\">\n",
       "<title>10907371552&#45;&gt;11461903648</title>\n",
       "<path fill=\"none\" stroke=\"black\" d=\"M218.22,-641.95C219.33,-634.71 220.69,-625.84 221.89,-617.94\"/>\n",
       "<polygon fill=\"black\" stroke=\"black\" points=\"225.33,-618.61 223.38,-608.2 218.41,-617.55 225.33,-618.61\"/>\n",
       "</g>\n",
       "<!-- 11461903792 -->\n",
       "<g id=\"node21\" class=\"node\">\n",
       "<title>11461903792</title>\n",
       "<polygon fill=\"lightgrey\" stroke=\"black\" points=\"556,-257.88 444,-257.88 444,-238.62 556,-238.62 556,-257.88\"/>\n",
       "<text text-anchor=\"middle\" x=\"500\" y=\"-244.38\" font-family=\"monospace\" font-size=\"10.00\">SqueezeBackward1</text>\n",
       "</g>\n",
       "<!-- 11461903792&#45;&gt;11461904224 -->\n",
       "<g id=\"edge19\" class=\"edge\">\n",
       "<title>11461903792&#45;&gt;11461904224</title>\n",
       "<path fill=\"none\" stroke=\"black\" d=\"M500,-238.31C500,-230.53 500,-218.95 500,-208.91\"/>\n",
       "<polygon fill=\"black\" stroke=\"black\" points=\"503.5,-208.91 500,-198.91 496.5,-208.91 503.5,-208.91\"/>\n",
       "</g>\n",
       "<!-- 11461905232 -->\n",
       "<g id=\"node22\" class=\"node\">\n",
       "<title>11461905232</title>\n",
       "<polygon fill=\"lightgrey\" stroke=\"black\" points=\"556,-324.38 444,-324.38 444,-305.12 556,-305.12 556,-324.38\"/>\n",
       "<text text-anchor=\"middle\" x=\"500\" y=\"-310.88\" font-family=\"monospace\" font-size=\"10.00\">SqueezeBackward1</text>\n",
       "</g>\n",
       "<!-- 11461905232&#45;&gt;11461903792 -->\n",
       "<g id=\"edge20\" class=\"edge\">\n",
       "<title>11461905232&#45;&gt;11461903792</title>\n",
       "<path fill=\"none\" stroke=\"black\" d=\"M500,-304.78C500,-295.73 500,-281.45 500,-269.63\"/>\n",
       "<polygon fill=\"black\" stroke=\"black\" points=\"503.5,-269.66 500,-259.66 496.5,-269.66 503.5,-269.66\"/>\n",
       "</g>\n",
       "<!-- 11461904128 -->\n",
       "<g id=\"node23\" class=\"node\">\n",
       "<title>11461904128</title>\n",
       "<polygon fill=\"lightgrey\" stroke=\"black\" points=\"595,-385.25 405,-385.25 405,-366 595,-366 595,-385.25\"/>\n",
       "<text text-anchor=\"middle\" x=\"500\" y=\"-371.75\" font-family=\"monospace\" font-size=\"10.00\">MaxPool2DWithIndicesBackward0</text>\n",
       "</g>\n",
       "<!-- 11461904128&#45;&gt;11461905232 -->\n",
       "<g id=\"edge21\" class=\"edge\">\n",
       "<title>11461904128&#45;&gt;11461905232</title>\n",
       "<path fill=\"none\" stroke=\"black\" d=\"M500,-365.68C500,-357.9 500,-346.33 500,-336.28\"/>\n",
       "<polygon fill=\"black\" stroke=\"black\" points=\"503.5,-336.29 500,-326.29 496.5,-336.29 503.5,-336.29\"/>\n",
       "</g>\n",
       "<!-- 11461905616 -->\n",
       "<g id=\"node24\" class=\"node\">\n",
       "<title>11461905616</title>\n",
       "<polygon fill=\"lightgrey\" stroke=\"black\" points=\"562,-440.5 438,-440.5 438,-421.25 562,-421.25 562,-440.5\"/>\n",
       "<text text-anchor=\"middle\" x=\"500\" y=\"-427\" font-family=\"monospace\" font-size=\"10.00\">UnsqueezeBackward0</text>\n",
       "</g>\n",
       "<!-- 11461905616&#45;&gt;11461904128 -->\n",
       "<g id=\"edge22\" class=\"edge\">\n",
       "<title>11461905616&#45;&gt;11461904128</title>\n",
       "<path fill=\"none\" stroke=\"black\" d=\"M500,-421.08C500,-414.57 500,-405.42 500,-397.12\"/>\n",
       "<polygon fill=\"black\" stroke=\"black\" points=\"503.5,-397.12 500,-387.12 496.5,-397.12 503.5,-397.12\"/>\n",
       "</g>\n",
       "<!-- 11461905856 -->\n",
       "<g id=\"node25\" class=\"node\">\n",
       "<title>11461905856</title>\n",
       "<polygon fill=\"lightgrey\" stroke=\"black\" points=\"547,-495.75 453,-495.75 453,-476.5 547,-476.5 547,-495.75\"/>\n",
       "<text text-anchor=\"middle\" x=\"500\" y=\"-482.25\" font-family=\"monospace\" font-size=\"10.00\">ReluBackward0</text>\n",
       "</g>\n",
       "<!-- 11461905856&#45;&gt;11461905616 -->\n",
       "<g id=\"edge23\" class=\"edge\">\n",
       "<title>11461905856&#45;&gt;11461905616</title>\n",
       "<path fill=\"none\" stroke=\"black\" d=\"M500,-476.33C500,-469.82 500,-460.67 500,-452.37\"/>\n",
       "<polygon fill=\"black\" stroke=\"black\" points=\"503.5,-452.37 500,-442.37 496.5,-452.37 503.5,-452.37\"/>\n",
       "</g>\n",
       "<!-- 11461905568&#45;&gt;11461905856 -->\n",
       "<g id=\"edge24\" class=\"edge\">\n",
       "<title>11461905568&#45;&gt;11461905856</title>\n",
       "<path fill=\"none\" stroke=\"black\" d=\"M500,-531.58C500,-525.07 500,-515.92 500,-507.62\"/>\n",
       "<polygon fill=\"black\" stroke=\"black\" points=\"503.5,-507.62 500,-497.62 496.5,-507.62 503.5,-507.62\"/>\n",
       "</g>\n",
       "<!-- 11461905952 -->\n",
       "<g id=\"node27\" class=\"node\">\n",
       "<title>11461905952</title>\n",
       "<polygon fill=\"lightgrey\" stroke=\"black\" points=\"683,-606.25 583,-606.25 583,-587 683,-587 683,-606.25\"/>\n",
       "<text text-anchor=\"middle\" x=\"633\" y=\"-592.75\" font-family=\"monospace\" font-size=\"10.00\">AccumulateGrad</text>\n",
       "</g>\n",
       "<!-- 11461905952&#45;&gt;11461905568 -->\n",
       "<g id=\"edge26\" class=\"edge\">\n",
       "<title>11461905952&#45;&gt;11461905568</title>\n",
       "<path fill=\"none\" stroke=\"black\" d=\"M610.44,-586.59C589.23,-578.1 557.23,-565.29 533.12,-555.64\"/>\n",
       "<polygon fill=\"black\" stroke=\"black\" points=\"534.66,-552.48 524.08,-552.02 532.06,-558.98 534.66,-552.48\"/>\n",
       "</g>\n",
       "<!-- 6296397264 -->\n",
       "<g id=\"node28\" class=\"node\">\n",
       "<title>6296397264</title>\n",
       "<polygon fill=\"lightblue\" stroke=\"black\" points=\"716,-672.75 580,-672.75 580,-642.25 716,-642.25 716,-672.75\"/>\n",
       "<text text-anchor=\"middle\" x=\"648\" y=\"-659.25\" font-family=\"monospace\" font-size=\"10.00\">conv1d_list.1.weight</text>\n",
       "<text text-anchor=\"middle\" x=\"648\" y=\"-648\" font-family=\"monospace\" font-size=\"10.00\"> (100, 300, 4)</text>\n",
       "</g>\n",
       "<!-- 6296397264&#45;&gt;11461905952 -->\n",
       "<g id=\"edge27\" class=\"edge\">\n",
       "<title>6296397264&#45;&gt;11461905952</title>\n",
       "<path fill=\"none\" stroke=\"black\" d=\"M644.29,-641.95C642.43,-634.62 640.13,-625.62 638.1,-617.66\"/>\n",
       "<polygon fill=\"black\" stroke=\"black\" points=\"641.55,-616.99 635.69,-608.17 634.76,-618.72 641.55,-616.99\"/>\n",
       "</g>\n",
       "<!-- 11461905904 -->\n",
       "<g id=\"node29\" class=\"node\">\n",
       "<title>11461905904</title>\n",
       "<polygon fill=\"lightgrey\" stroke=\"black\" points=\"550,-606.25 450,-606.25 450,-587 550,-587 550,-606.25\"/>\n",
       "<text text-anchor=\"middle\" x=\"500\" y=\"-592.75\" font-family=\"monospace\" font-size=\"10.00\">AccumulateGrad</text>\n",
       "</g>\n",
       "<!-- 11461905904&#45;&gt;11461905568 -->\n",
       "<g id=\"edge28\" class=\"edge\">\n",
       "<title>11461905904&#45;&gt;11461905568</title>\n",
       "<path fill=\"none\" stroke=\"black\" d=\"M500,-586.83C500,-580.32 500,-571.17 500,-562.87\"/>\n",
       "<polygon fill=\"black\" stroke=\"black\" points=\"503.5,-562.87 500,-552.87 496.5,-562.87 503.5,-562.87\"/>\n",
       "</g>\n",
       "<!-- 6296002288 -->\n",
       "<g id=\"node30\" class=\"node\">\n",
       "<title>6296002288</title>\n",
       "<polygon fill=\"lightblue\" stroke=\"black\" points=\"562,-672.75 438,-672.75 438,-642.25 562,-642.25 562,-672.75\"/>\n",
       "<text text-anchor=\"middle\" x=\"500\" y=\"-659.25\" font-family=\"monospace\" font-size=\"10.00\">conv1d_list.1.bias</text>\n",
       "<text text-anchor=\"middle\" x=\"500\" y=\"-648\" font-family=\"monospace\" font-size=\"10.00\"> (100)</text>\n",
       "</g>\n",
       "<!-- 6296002288&#45;&gt;11461905904 -->\n",
       "<g id=\"edge29\" class=\"edge\">\n",
       "<title>6296002288&#45;&gt;11461905904</title>\n",
       "<path fill=\"none\" stroke=\"black\" d=\"M500,-641.95C500,-634.71 500,-625.84 500,-617.94\"/>\n",
       "<polygon fill=\"black\" stroke=\"black\" points=\"503.5,-618.21 500,-608.21 496.5,-618.21 503.5,-618.21\"/>\n",
       "</g>\n",
       "<!-- 11461903744 -->\n",
       "<g id=\"node31\" class=\"node\">\n",
       "<title>11461903744</title>\n",
       "<polygon fill=\"lightgrey\" stroke=\"black\" points=\"686,-257.88 574,-257.88 574,-238.62 686,-238.62 686,-257.88\"/>\n",
       "<text text-anchor=\"middle\" x=\"630\" y=\"-244.38\" font-family=\"monospace\" font-size=\"10.00\">SqueezeBackward1</text>\n",
       "</g>\n",
       "<!-- 11461903744&#45;&gt;11461904224 -->\n",
       "<g id=\"edge30\" class=\"edge\">\n",
       "<title>11461903744&#45;&gt;11461904224</title>\n",
       "<path fill=\"none\" stroke=\"black\" d=\"M609.97,-238.18C588.63,-228.51 554.6,-213.1 530.04,-201.98\"/>\n",
       "<polygon fill=\"black\" stroke=\"black\" points=\"531.77,-198.92 521.22,-197.98 528.88,-205.3 531.77,-198.92\"/>\n",
       "</g>\n",
       "<!-- 11461905520 -->\n",
       "<g id=\"node32\" class=\"node\">\n",
       "<title>11461905520</title>\n",
       "<polygon fill=\"lightgrey\" stroke=\"black\" points=\"693,-324.38 581,-324.38 581,-305.12 693,-305.12 693,-324.38\"/>\n",
       "<text text-anchor=\"middle\" x=\"637\" y=\"-310.88\" font-family=\"monospace\" font-size=\"10.00\">SqueezeBackward1</text>\n",
       "</g>\n",
       "<!-- 11461905520&#45;&gt;11461903744 -->\n",
       "<g id=\"edge31\" class=\"edge\">\n",
       "<title>11461905520&#45;&gt;11461903744</title>\n",
       "<path fill=\"none\" stroke=\"black\" d=\"M636.03,-304.78C635.03,-295.64 633.46,-281.14 632.17,-269.25\"/>\n",
       "<polygon fill=\"black\" stroke=\"black\" points=\"635.69,-269.21 631.13,-259.65 628.73,-269.97 635.69,-269.21\"/>\n",
       "</g>\n",
       "<!-- 11461905808 -->\n",
       "<g id=\"node33\" class=\"node\">\n",
       "<title>11461905808</title>\n",
       "<polygon fill=\"lightgrey\" stroke=\"black\" points=\"807,-385.25 617,-385.25 617,-366 807,-366 807,-385.25\"/>\n",
       "<text text-anchor=\"middle\" x=\"712\" y=\"-371.75\" font-family=\"monospace\" font-size=\"10.00\">MaxPool2DWithIndicesBackward0</text>\n",
       "</g>\n",
       "<!-- 11461905808&#45;&gt;11461905520 -->\n",
       "<g id=\"edge32\" class=\"edge\">\n",
       "<title>11461905808&#45;&gt;11461905520</title>\n",
       "<path fill=\"none\" stroke=\"black\" d=\"M700.61,-365.68C689.16,-356.69 671.25,-342.64 657.35,-331.73\"/>\n",
       "<polygon fill=\"black\" stroke=\"black\" points=\"659.72,-329.13 649.69,-325.71 655.39,-334.64 659.72,-329.13\"/>\n",
       "</g>\n",
       "<!-- 11461906000 -->\n",
       "<g id=\"node34\" class=\"node\">\n",
       "<title>11461906000</title>\n",
       "<polygon fill=\"lightgrey\" stroke=\"black\" points=\"782,-440.5 658,-440.5 658,-421.25 782,-421.25 782,-440.5\"/>\n",
       "<text text-anchor=\"middle\" x=\"720\" y=\"-427\" font-family=\"monospace\" font-size=\"10.00\">UnsqueezeBackward0</text>\n",
       "</g>\n",
       "<!-- 11461906000&#45;&gt;11461905808 -->\n",
       "<g id=\"edge33\" class=\"edge\">\n",
       "<title>11461906000&#45;&gt;11461905808</title>\n",
       "<path fill=\"none\" stroke=\"black\" d=\"M718.68,-421.08C717.69,-414.49 716.29,-405.21 715.03,-396.82\"/>\n",
       "<polygon fill=\"black\" stroke=\"black\" points=\"718.52,-396.47 713.57,-387.11 711.6,-397.51 718.52,-396.47\"/>\n",
       "</g>\n",
       "<!-- 11461906096 -->\n",
       "<g id=\"node35\" class=\"node\">\n",
       "<title>11461906096</title>\n",
       "<polygon fill=\"lightgrey\" stroke=\"black\" points=\"801,-495.75 707,-495.75 707,-476.5 801,-476.5 801,-495.75\"/>\n",
       "<text text-anchor=\"middle\" x=\"754\" y=\"-482.25\" font-family=\"monospace\" font-size=\"10.00\">ReluBackward0</text>\n",
       "</g>\n",
       "<!-- 11461906096&#45;&gt;11461906000 -->\n",
       "<g id=\"edge34\" class=\"edge\">\n",
       "<title>11461906096&#45;&gt;11461906000</title>\n",
       "<path fill=\"none\" stroke=\"black\" d=\"M748.39,-476.33C743.88,-469.28 737.41,-459.15 731.79,-450.33\"/>\n",
       "<polygon fill=\"black\" stroke=\"black\" points=\"734.88,-448.68 726.55,-442.13 728.98,-452.45 734.88,-448.68\"/>\n",
       "</g>\n",
       "<!-- 11461906192&#45;&gt;11461906096 -->\n",
       "<g id=\"edge35\" class=\"edge\">\n",
       "<title>11461906192&#45;&gt;11461906096</title>\n",
       "<path fill=\"none\" stroke=\"black\" d=\"M768.19,-531.58C766.06,-524.92 763.06,-515.49 760.36,-507.03\"/>\n",
       "<polygon fill=\"black\" stroke=\"black\" points=\"763.7,-506.01 757.33,-497.55 757.04,-508.14 763.7,-506.01\"/>\n",
       "</g>\n",
       "<!-- 11461906288 -->\n",
       "<g id=\"node37\" class=\"node\">\n",
       "<title>11461906288</title>\n",
       "<polygon fill=\"lightgrey\" stroke=\"black\" points=\"826,-606.25 726,-606.25 726,-587 826,-587 826,-606.25\"/>\n",
       "<text text-anchor=\"middle\" x=\"776\" y=\"-592.75\" font-family=\"monospace\" font-size=\"10.00\">AccumulateGrad</text>\n",
       "</g>\n",
       "<!-- 11461906288&#45;&gt;11461906192 -->\n",
       "<g id=\"edge37\" class=\"edge\">\n",
       "<title>11461906288&#45;&gt;11461906192</title>\n",
       "<path fill=\"none\" stroke=\"black\" d=\"M775.17,-586.83C774.56,-580.24 773.68,-570.96 772.9,-562.57\"/>\n",
       "<polygon fill=\"black\" stroke=\"black\" points=\"776.4,-562.5 771.99,-552.87 769.44,-563.15 776.4,-562.5\"/>\n",
       "</g>\n",
       "<!-- 10907371632 -->\n",
       "<g id=\"node38\" class=\"node\">\n",
       "<title>10907371632</title>\n",
       "<polygon fill=\"lightblue\" stroke=\"black\" points=\"870,-672.75 734,-672.75 734,-642.25 870,-642.25 870,-672.75\"/>\n",
       "<text text-anchor=\"middle\" x=\"802\" y=\"-659.25\" font-family=\"monospace\" font-size=\"10.00\">conv1d_list.2.weight</text>\n",
       "<text text-anchor=\"middle\" x=\"802\" y=\"-648\" font-family=\"monospace\" font-size=\"10.00\"> (100, 300, 5)</text>\n",
       "</g>\n",
       "<!-- 10907371632&#45;&gt;11461906288 -->\n",
       "<g id=\"edge38\" class=\"edge\">\n",
       "<title>10907371632&#45;&gt;11461906288</title>\n",
       "<path fill=\"none\" stroke=\"black\" d=\"M795.57,-641.95C792.26,-634.45 788.18,-625.2 784.6,-617.1\"/>\n",
       "<polygon fill=\"black\" stroke=\"black\" points=\"787.86,-615.82 780.62,-608.09 781.46,-618.65 787.86,-615.82\"/>\n",
       "</g>\n",
       "<!-- 11461906240 -->\n",
       "<g id=\"node39\" class=\"node\">\n",
       "<title>11461906240</title>\n",
       "<polygon fill=\"lightgrey\" stroke=\"black\" points=\"972,-606.25 872,-606.25 872,-587 972,-587 972,-606.25\"/>\n",
       "<text text-anchor=\"middle\" x=\"922\" y=\"-592.75\" font-family=\"monospace\" font-size=\"10.00\">AccumulateGrad</text>\n",
       "</g>\n",
       "<!-- 11461906240&#45;&gt;11461906192 -->\n",
       "<g id=\"edge39\" class=\"edge\">\n",
       "<title>11461906240&#45;&gt;11461906192</title>\n",
       "<path fill=\"none\" stroke=\"black\" d=\"M896.38,-586.59C871.98,-577.99 834.99,-564.94 807.5,-555.25\"/>\n",
       "<polygon fill=\"black\" stroke=\"black\" points=\"808.76,-551.98 798.17,-551.96 806.43,-558.58 808.76,-551.98\"/>\n",
       "</g>\n",
       "<!-- 10907371712 -->\n",
       "<g id=\"node40\" class=\"node\">\n",
       "<title>10907371712</title>\n",
       "<polygon fill=\"lightblue\" stroke=\"black\" points=\"1012,-672.75 888,-672.75 888,-642.25 1012,-642.25 1012,-672.75\"/>\n",
       "<text text-anchor=\"middle\" x=\"950\" y=\"-659.25\" font-family=\"monospace\" font-size=\"10.00\">conv1d_list.2.bias</text>\n",
       "<text text-anchor=\"middle\" x=\"950\" y=\"-648\" font-family=\"monospace\" font-size=\"10.00\"> (100)</text>\n",
       "</g>\n",
       "<!-- 10907371712&#45;&gt;11461906240 -->\n",
       "<g id=\"edge40\" class=\"edge\">\n",
       "<title>10907371712&#45;&gt;11461906240</title>\n",
       "<path fill=\"none\" stroke=\"black\" d=\"M943.08,-641.95C939.51,-634.45 935.11,-625.2 931.26,-617.1\"/>\n",
       "<polygon fill=\"black\" stroke=\"black\" points=\"934.42,-615.6 926.97,-608.07 928.1,-618.6 934.42,-615.6\"/>\n",
       "</g>\n",
       "<!-- 11461903120 -->\n",
       "<g id=\"node41\" class=\"node\">\n",
       "<title>11461903120</title>\n",
       "<polygon fill=\"lightgrey\" stroke=\"black\" points=\"715,-197 639,-197 639,-177.75 715,-177.75 715,-197\"/>\n",
       "<text text-anchor=\"middle\" x=\"677\" y=\"-183.5\" font-family=\"monospace\" font-size=\"10.00\">TBackward0</text>\n",
       "</g>\n",
       "<!-- 11461903120&#45;&gt;11461902448 -->\n",
       "<g id=\"edge41\" class=\"edge\">\n",
       "<title>11461903120&#45;&gt;11461902448</title>\n",
       "<path fill=\"none\" stroke=\"black\" d=\"M646.97,-177.34C617.86,-168.58 573.46,-155.23 541.08,-145.48\"/>\n",
       "<polygon fill=\"black\" stroke=\"black\" points=\"542.21,-142.17 531.62,-142.64 540.19,-148.87 542.21,-142.17\"/>\n",
       "</g>\n",
       "<!-- 11461905712 -->\n",
       "<g id=\"node42\" class=\"node\">\n",
       "<title>11461905712</title>\n",
       "<polygon fill=\"lightgrey\" stroke=\"black\" points=\"804,-257.88 704,-257.88 704,-238.62 804,-238.62 804,-257.88\"/>\n",
       "<text text-anchor=\"middle\" x=\"754\" y=\"-244.38\" font-family=\"monospace\" font-size=\"10.00\">AccumulateGrad</text>\n",
       "</g>\n",
       "<!-- 11461905712&#45;&gt;11461903120 -->\n",
       "<g id=\"edge42\" class=\"edge\">\n",
       "<title>11461905712&#45;&gt;11461903120</title>\n",
       "<path fill=\"none\" stroke=\"black\" d=\"M742.31,-238.31C730.55,-229.32 712.16,-215.26 697.89,-204.35\"/>\n",
       "<polygon fill=\"black\" stroke=\"black\" points=\"700.08,-201.61 690.01,-198.32 695.83,-207.17 700.08,-201.61\"/>\n",
       "</g>\n",
       "<!-- 6292510256 -->\n",
       "<g id=\"node43\" class=\"node\">\n",
       "<title>6292510256</title>\n",
       "<polygon fill=\"lightblue\" stroke=\"black\" points=\"789,-330 719,-330 719,-299.5 789,-299.5 789,-330\"/>\n",
       "<text text-anchor=\"middle\" x=\"754\" y=\"-316.5\" font-family=\"monospace\" font-size=\"10.00\">fc.weight</text>\n",
       "<text text-anchor=\"middle\" x=\"754\" y=\"-305.25\" font-family=\"monospace\" font-size=\"10.00\"> (2, 300)</text>\n",
       "</g>\n",
       "<!-- 6292510256&#45;&gt;11461905712 -->\n",
       "<g id=\"edge43\" class=\"edge\">\n",
       "<title>6292510256&#45;&gt;11461905712</title>\n",
       "<path fill=\"none\" stroke=\"black\" d=\"M754,-299.11C754,-290.33 754,-279.02 754,-269.4\"/>\n",
       "<polygon fill=\"black\" stroke=\"black\" points=\"757.5,-269.59 754,-259.59 750.5,-269.59 757.5,-269.59\"/>\n",
       "</g>\n",
       "</g>\n",
       "</svg>\n"
      ],
      "text/plain": [
       "<graphviz.graphs.Digraph at 0x2aafd6550>"
      ]
     },
     "execution_count": 45,
     "metadata": {},
     "output_type": "execute_result"
    }
   ],
   "source": [
    "make_dot(y.mean(), params=dict(model.named_parameters()))"
   ]
  },
  {
   "cell_type": "code",
   "execution_count": 53,
   "metadata": {},
   "outputs": [
    {
     "name": "stdout",
     "output_type": "stream",
     "text": [
      "[270, 254, 165, 7, 4553, 20, 254, 165, 5030, 7, 1013, 20708, 533, 16183, 4, 11255, 9, 20709, 14, 13165, 4, 263, 1090, 16, 20710, 20711, 9, 10064, 9, 13946, 148, 4420, 158, 2925, 9, 7289, 30, 179, 34, 5421, 209, 201, 3478, 7, 361, 8630, 148, 24, 2809, 10032, 29, 8432, 443, 16665, 34, 201, 63, 20712, 410, 9, 333, 410, 34, 2, 16183, 4, 11255, 20713, 65, 20714, 20715, 11484, 30, 2393, 4102, 5061, 4681, 609, 1397, 263, 9, 7801, 9, 4102, 1953, 9, 86, 452, 254, 68, 12, 158, 1604, 99, 34, 12959, 201, 20716, 9, 30, 5481, 16665, 34, 63, 20712, 16, 1128, 7, 3824, 9, 825, 267, 161, 20717, 110, 63, 201, 7604, 9, 267, 70, 661, 24, 10909, 67, 20718, 9, 230, 12402, 9, 3828, 11974, 9, 3828, 11974, 9, 267, 6391, 7, 1568, 10, 6165, 29, 7152, 9, 161, 1541, 189, 1300, 34, 254, 3576, 29, 1865, 770, 9, 34, 104, 2623, 782, 9, 104, 332, 107, 8349, 9, 13853, 9, 104, 3677, 7140, 14, 230, 853, 9, 267, 104, 661, 34, 63, 11766, 595, 9, 267, 104, 3677, 2690, 9, 254, 841, 189, 7, 201, 2566, 4124, 1528, 34, 1155, 209, 8783, 189, 7, 70, 1528, 34, 8368, 7, 104, 4945, 9, 298, 67, 20719, 30, 34, 1015, 1865, 20720, 9, 7012, 63, 443, 104, 112, 30, 14993, 7942, 29, 30, 1396, 17590, 10931, 122, 17, 119, 20721, 290, 28, 4, 2714, 1594, 993, 1396, 259, 34, 661, 24, 3197, 16, 17, 20722, 11026, 16, 17, 16595, 5321, 13556, 194, 1926, 11026, 2425, 20723, 65, 20724, 7, 2218, 443, 1396, 259, 73, 1873, 9, 73, 20725, 4183, 9, 73, 8005, 4723, 9, 20726, 67, 20727, 5812, 14, 9294, 20728, 1692, 135, 34, 104, 112, 29, 68, 104, 1497, 18861, 16, 1128, 7, 3824, 9, 67, 1057, 34, 361, 1281, 771, 110, 68, 5017, 17, 4716, 67, 9672, 29, 1196, 99, 527, 67, 335, 9, 30, 963, 2671, 48, 2407, 12668, 256, 2337, 7, 854, 9, 7801, 9, 854, 161, 5240, 73, 1918, 9, 20723, 9, 20729, 9, 270, 267, 10, 662, 67, 20729, 9734, 20339, 20730, 1737, 20731, 16, 2597, 5832, 5056, 7, 4613, 7, 17014, 7, 14131, 82, 20732, 103, 291, 251, 115, 34, 267, 9502, 2, 3786, 20731, 7204, 7, 16843, 7, 73, 20733, 20734, 9, 4638, 110, 65, 5548, 4102, 1396, 16665, 112, 19, 181, 1033, 9, 8778, 9, 2316, 11868, 67, 6059, 4, 119, 34, 267, 12, 1274, 825, 254, 2540, 194, 1397, 889, 7, 67, 9744, 9, 4, 119, 34, 267, 3043, 10243, 7, 2316, 194, 186, 889, 9, 110, 63, 254, 201, 104, 1305, 139, 158, 2024, 99, 1396, 4641, 9, 662, 119, 34, 3677, 7931, 29, 6728, 9, 69, 30, 34, 267, 447, 1698, 20735, 30, 370, 7, 201, 63, 2566, 110, 24, 1629, 9, 270, 254, 325, 393, 67, 9744, 7, 17338, 7, 1702, 194, 21, 9, 843, 34, 267, 201, 619, 2626, 30, 20736, 9, 65, 10506, 7, 30, 3255, 29, 20724, 9, 253, 254, 12041, 65, 933, 9, 20737, 158, 527, 67, 267, 34, 201, 2064, 73, 1521, 9, 256, 915, 9, 115, 20724, 9, 5287, 29, 30, 3321, 20, 110, 410, 20, 110, 92, 20, 110, 1387, 251, 9, 360, 6704, 20, 939, 254, 17893, 7, 161, 18563, 7, 447, 1091, 9, 267, 4808, 30, 2306, 9, 828, 230, 9, 843, 34, 254, 104, 20738, 104, 20739, 107, 538, 9, 4539, 2, 16183, 4, 11255, 34, 20740, 30, 179, 158, 2925, 9, 4224, 4420, 67, 1823, 9, 110, 63, 104, 63, 20741, 29, 279, 3798, 7, 1091, 279, 19755, 9, 361, 4161, 593, 30, 16665, 18359, 29, 3095, 9, 67, 1791, 34, 20742, 30, 492, 15630, 1112, 410, 122, 393, 12977, 29, 1659, 251, 9, 254, 194, 889, 99, 179, 20, 1091, 9, 7801, 9, 4361, 80, 9, 196, 7, 8525, 9, 20743, 9, 104, 8946, 9, 1272, 9, 4847, 20, 270, 2, 80, 752, 110, 3534, 20744, 122, 19812, 333, 60, 360, 30, 974, 115, 34, 20745, 194, 1397, 765, 20, 9575, 9, 9575, 9, 1142, 978, 73, 60, 9, 9575, 9, 9575, 20, 7, 305, 9, 267, 104, 20746, 107, 9, 104, 661, 4902, 9, 8366, 1142, 667, 263, 9, 267, 104, 661, 8427, 7, 254, 9, 5304, 9, 7, 305, 9, 267, 104, 661, 10068, 9, 267, 843, 661, 9768, 9, 7, 254, 9, 2290, 9, 2013, 2290, 9, 63, 104, 267, 5672, 9, 361, 1580, 9, 290, 34, 104, 1580, 424, 194, 186, 765, 9, 7, 305, 9, 4737, 9, 104, 410, 1692, 251, 9, 7, 254, 9, 270, 2164, 34, 230, 3255, 70, 272, 12977, 29, 1659, 251, 20, 393, 9, 464, 770, 20, 7, 305, 9, 267, 104, 661, 245, 324, 194, 1825, 9, 3941, 181, 104, 9, 104, 1908, 6308, 9, 112, 304, 20, 7, 165, 2974, 9, 2, 962, 12053, 9, 86, 104, 1059, 9, 86, 104, 8630, 9, 104, 464, 9, 104, 819, 9, 86, 230, 3255, 104, 272, 12977, 29, 402, 1137, 9, 230, 3255, 65, 7749, 15936, 7, 657, 6936, 4, 1072, 5727, 4077, 29, 30, 7431, 10662, 9, 12487, 7, 361, 10904, 291, 20747, 67, 8794, 7, 4994, 194, 186, 889, 20]\n",
      "Esse parágrafo tem 83.66% de chance de ser Denser.\n"
     ]
    }
   ],
   "source": [
    "predict(\"Mas eu fui e voltei. Eu fui ontem e seriam 23h58 nos relógios da Paulista, 23h55 no farol da Casa Branca com Peixoto Gomide, porra, deviam estar andando ao contrário, contando o tempo que perdi ou já passou e então devo estar um bocado atrasada para desmanchar esse cirquinho que já se armou antes, muito antes que os relógios da Paulista começassem a contagem regressiva apontando o sentido desse passeio noturno à tua casa, Marcos, desse desvio, porque sou eu quem vai ao encontro do que praticamente já rodou, o tal cirquinho que se armou com unhas e dentes, embora você me recebesse como se já esperasse, você também tem um faro de perdigueiro, meu chapa, I know, I know, você comendo e  falando sem pausa para respirar, me deixar falar aquilo que eu vim para te dizer, que não somos nós, não há nada conosco, ok, não precisa embarcar no meu sonho, Você não tem que se arrebentar junto, você não precisa sofrer, eu tentando falar e já sentindo piedade daquilo que falava ou tentava falar e também daquilo que comia e não ouvia, repetindo de orelhada o que alguém te orelhou, ora se esse não é o gancho perfeito para o teu melodrama espanhol: uma mulher ansiosa por volta da meia-noite passando nesse teu apartamento que tem um vaso com uma arvorezinha seca com uma bandeirinha vermelha plantada na terra seca escrito Bem-vindo a Parati e observando esse teu apartamento tão pequeno, tão 21° andar, tão bloco C, caixinha de fósforos pairando no oceano cleptomaníaco dessa Cidade que não é para quem não pode conquistá-la com unhas e dentes, de maneira que então fica aí como quem comprou uma vitrine de doces para ficar do lado de fora, o nariz contra as luzes refletidas lá embaixo e isto, Marcos, isto me deixa tão triste, bem-vindo, welcome, mas você sem essa de welcome contudo botando filhodaputamente uns cds com aquelas músicas tristes e úmidas e burras e relembrando (reminds) aquela noite em que você botou os mesmos cds úmidos e burros e tão Philip Glass, percebe como a armação desse teu cirquinho é maluca? Roda, gira, sofrendo antecipadamente de saudades da mulher que você vai mandar embora eu esteja na tua frente e de touca, da mulher que você ama desesperadamente e sofrendo na minha frente, como se eu já não estivesse mais ao alcance do teu abraço, essa mulher que precisa beber para trepar, foi o que você disse subitamente desviando o rosto e já se sentindo como um vômito, mas eu ainda estava de touca e inocente e parada na sua, só que você já tinha dado o pira, a alma e o coração para Parati, enquanto eu tirava a roupa, deitava ao lado de você que já dormia tão distante, lá longe, em Parati, virado para o canto. Como antes. Como sempre. Como toda noite, até amanhecer. Daí eu levantei e me vesti e disse sim, você fez o possível, amor meu, só que eu não programei não engendrei nada disso, foram os relógios da Paulista que marcavam o tempo ao contrário, estavam andando de costas, como se não se importassem para onde iam e sim onde estiveram, então encontrei aqui o cirquinho armado para amanhã, de forma que flagrei o destino 24 horas antes: estava marcado para esta noite, eu na frente do tempo. Sim, Marcos, muitos problemas, meus e teus, individualmente, não nossos, claro, claríssimo. Mas os problemas são como velhos aquecedores: funcionam muito bem até o dia em que explodem na tua cara. Tique-taque, tique-taque, tudo ia tão bem, tique-taque, tique-taque. E ele, você não arruma nada, não tem estrutura, joga tudo pela casa, você não tem modos e eu, calada, e ele, você não tem grana, você só tem pose, e eu, enumere, vamos enumere, se não você cai, então diz, por que não diz logo na minha cara, e ele, misterioso, não antes dessa noite, e eu, mas acontece que meu coração também está marcado para esta noite. Estava, quero dizer. E ele, você não tem outra coisa na cabeça, garota? Não, não tenho saco, é isso. E fui descendo, os olhos mareados, porque não posso, porque não devo, não quero, não preciso, porque meu coração não está marcado para hora nenhuma, meu coração a ti pertence e às nove da manhã fiz sinal para o Vila Madalena, subi e então ri aquela muralha de corpos e bancos na minha frente.\")"
   ]
  },
  {
   "cell_type": "code",
   "execution_count": 54,
   "metadata": {},
   "outputs": [
    {
     "name": "stdout",
     "output_type": "stream",
     "text": [
      "[104, 90, 30, 1784, 1785, 99, 40, 830, 20, 65, 784, 444, 1786, 1787, 9, 194, 440, 388, 263, 20, 110, 17, 114, 67, 1788, 20, 654, 324, 1789, 9, 1055, 237, 309, 1790, 20]\n",
      "Esse parágrafo tem 85.63% de chance de ser Coutinho.\n"
     ]
    }
   ],
   "source": [
    "predict(\"Não era o vocabulário habitual do seu pai. A palavra caso soou estranha, na varanda daquela casa. Como uma fala de teatro. Alguma coisa ensaiada, dita num momento previsto.\")"
   ]
  },
  {
   "cell_type": "code",
   "execution_count": 55,
   "metadata": {},
   "outputs": [
    {
     "name": "stdout",
     "output_type": "stream",
     "text": [
      "[230, 2372, 112, 1785, 7, 110, 17, 114, 1787, 7112, 1]\n",
      "Esse parágrafo tem 61.07% de chance de ser Coutinho.\n"
     ]
    }
   ],
   "source": [
    "predict(\"Meu nome é habitual e como uma fala estranha abajur paralelepipedo\") #frase inventada"
   ]
  },
  {
   "cell_type": "code",
   "execution_count": 56,
   "metadata": {},
   "outputs": [
    {
     "name": "stdout",
     "output_type": "stream",
     "text": [
      "[209, 11803, 20]\n",
      "Esse parágrafo tem 54.28% de chance de ser Denser.\n"
     ]
    }
   ],
   "source": [
    "predict(\"Ou cruzes.\")"
   ]
  },
  {
   "cell_type": "code",
   "execution_count": 50,
   "metadata": {},
   "outputs": [
    {
     "data": {
      "text/plain": [
       "torch.Size([21344, 300])"
      ]
     },
     "execution_count": 50,
     "metadata": {},
     "output_type": "execute_result"
    }
   ],
   "source": [
    "embeddings.shape"
   ]
  }
 ],
 "metadata": {
  "kernelspec": {
   "display_name": "Python 3",
   "language": "python",
   "name": "python3"
  },
  "language_info": {
   "codemirror_mode": {
    "name": "ipython",
    "version": 3
   },
   "file_extension": ".py",
   "mimetype": "text/x-python",
   "name": "python",
   "nbconvert_exporter": "python",
   "pygments_lexer": "ipython3",
   "version": "3.11.3"
  },
  "orig_nbformat": 4
 },
 "nbformat": 4,
 "nbformat_minor": 2
}
