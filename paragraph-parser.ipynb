{
 "cells": [
  {
   "cell_type": "code",
   "execution_count": 15,
   "metadata": {},
   "outputs": [],
   "source": [
    "import os\n",
    "import shutil"
   ]
  },
  {
   "cell_type": "code",
   "execution_count": 16,
   "metadata": {},
   "outputs": [],
   "source": [
    "COUTINHO = \"coutinho-dataset\"\n",
    "DENSER = \"denser-dataset\"\n",
    "PATH_TO_RAW_DATA = \"data/raw/\"\n",
    "PATH_TO_PARSED_DATA = \"data/parsed/\""
   ]
  },
  {
   "cell_type": "code",
   "execution_count": 17,
   "metadata": {},
   "outputs": [],
   "source": [
    "def count_paragraph(AUTHOR):\n",
    "    f = open(PATH_TO_RAW_DATA+AUTHOR+\".txt\", \"r\")\n",
    "    number_paragraph = 0\n",
    "    file_ended = False\n",
    "    while(not file_ended):\n",
    "      get_paragraph = True\n",
    "      paragraph = \"\"\n",
    "\n",
    "      while(get_paragraph):\n",
    "        line = f.readline()\n",
    "        if(len(line) == 0):\n",
    "          get_paragraph = 0\n",
    "          file_ended = True\n",
    "        line = line.strip()\n",
    "        if(len(line) > 0):\n",
    "          paragraph += \" \"+line\n",
    "        else:\n",
    "          get_paragraph = 0\n",
    "          if(len(paragraph) > 0):\n",
    "            number_paragraph += 1\n",
    "\n",
    "    f.close()  \n",
    "    print(number_paragraph)"
   ]
  },
  {
   "cell_type": "code",
   "execution_count": 18,
   "metadata": {},
   "outputs": [
    {
     "name": "stdout",
     "output_type": "stream",
     "text": [
      "4177\n",
      "1614\n"
     ]
    }
   ],
   "source": [
    "count_paragraph(COUTINHO)\n",
    "count_paragraph(DENSER)"
   ]
  },
  {
   "cell_type": "code",
   "execution_count": 19,
   "metadata": {},
   "outputs": [],
   "source": [
    "def parse_file(AUTHOR, n_par):\n",
    "  f = open(PATH_TO_RAW_DATA+AUTHOR+\".txt\", \"r\")\n",
    "  print(os.path.exists(PATH_TO_PARSED_DATA))\n",
    "\n",
    "  if(not(os.path.exists(PATH_TO_PARSED_DATA))):\n",
    "    os.mkdir(PATH_TO_PARSED_DATA)\n",
    "\n",
    "\n",
    "  PATH_AUTHOR_PARSED_DATA = os.path.join(PATH_TO_PARSED_DATA,AUTHOR)\n",
    "  if(os.path.exists(PATH_AUTHOR_PARSED_DATA)):\n",
    "    shutil.rmtree(PATH_AUTHOR_PARSED_DATA)\n",
    "  os.mkdir(PATH_AUTHOR_PARSED_DATA)\n",
    "\n",
    "  selected_paragraphs = []\n",
    "  number_paragraph = 0\n",
    "  while(number_paragraph < n_par):\n",
    "    get_paragraph = True\n",
    "    paragraph = \"\"\n",
    "\n",
    "    while(get_paragraph):\n",
    "      line = f.readline()\n",
    "      if(len(line) == 0):\n",
    "        get_paragraph = 0\n",
    "        number_paragraph = n_par+1\n",
    "      line = line.strip()\n",
    "      if(len(line) > 0):\n",
    "        paragraph += \" \"+line\n",
    "      else:\n",
    "        get_paragraph = 0\n",
    "        if(len(paragraph) > 0):\n",
    "          selected_paragraphs.append(paragraph)\n",
    "          number_paragraph += 1\n",
    "\n",
    "  f.close()  \n",
    "\n",
    "  i = 0\n",
    "  for p in selected_paragraphs:\n",
    "    nf = open(os.path.join(PATH_AUTHOR_PARSED_DATA,AUTHOR)+\"_\"+str(i)+\".txt\",\"w\")\n",
    "    nf.write(p)\n",
    "    nf.close()\n",
    "    i+=1"
   ]
  },
  {
   "cell_type": "code",
   "execution_count": 20,
   "metadata": {},
   "outputs": [
    {
     "name": "stdout",
     "output_type": "stream",
     "text": [
      "True\n",
      "True\n"
     ]
    }
   ],
   "source": [
    "parse_file(COUTINHO, 1614)\n",
    "parse_file(DENSER, 1614)"
   ]
  }
 ],
 "metadata": {
  "kernelspec": {
   "display_name": "Python 3",
   "language": "python",
   "name": "python3"
  },
  "language_info": {
   "codemirror_mode": {
    "name": "ipython",
    "version": 3
   },
   "file_extension": ".py",
   "mimetype": "text/x-python",
   "name": "python",
   "nbconvert_exporter": "python",
   "pygments_lexer": "ipython3",
   "version": "3.11.3"
  },
  "orig_nbformat": 4
 },
 "nbformat": 4,
 "nbformat_minor": 2
}
