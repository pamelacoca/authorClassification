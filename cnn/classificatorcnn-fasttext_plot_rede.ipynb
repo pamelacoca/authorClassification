{
 "cells": [
  {
   "cell_type": "code",
   "execution_count": 1,
   "metadata": {},
   "outputs": [],
   "source": [
    "import time\n",
    "import nltk.tokenize as nt\n",
    "import json\n",
    "import torch\n",
    "import copy\n",
    "import numpy as np\n",
    "import matplotlib.pyplot as plt\n",
    "import random\n",
    "import time\n",
    "from torch.utils.data import (TensorDataset, DataLoader, RandomSampler,\n",
    "                              SequentialSampler)\n",
    "import torch\n",
    "import torch.nn as nn\n",
    "import torch.nn.functional as F\n",
    "from torch import device\n",
    "import torch.optim as optim\n",
    "import sys\n",
    "\n",
    "sys.path.append('..')\n",
    "import datasetgenerator as dsg\n"
   ]
  },
  {
   "cell_type": "code",
   "execution_count": 2,
   "metadata": {},
   "outputs": [],
   "source": [
    "AUTHOR1 = \"coutinho-dataset\"\n",
    "AUTHOR2 = \"denser-dataset\"\n",
    "PATH_TO_RAW_DATA = \"data/raw/\"\n",
    "PATH_TO_PARSED_DATA = \"data/parsed/\"\n",
    "\n",
    "ds_gen = dsg.ds_gen()"
   ]
  },
  {
   "cell_type": "code",
   "execution_count": 3,
   "metadata": {},
   "outputs": [
    {
     "name": "stdout",
     "output_type": "stream",
     "text": [
      "Using mps device\n"
     ]
    }
   ],
   "source": [
    "device = (\n",
    "    \"cuda\"\n",
    "    if torch.cuda.is_available()\n",
    "    else \"mps\"\n",
    "    if torch.backends.mps.is_available()\n",
    "    else \"cpu\"\n",
    ")\n",
    "print(f\"Using {device} device\")"
   ]
  },
  {
   "cell_type": "code",
   "execution_count": 4,
   "metadata": {},
   "outputs": [],
   "source": [
    "if device == \"mps\":\n",
    "    dtype_value_torch = dtype=torch.float32\n",
    "    dtype_value_np = dtype=np.float32\n",
    "else:\n",
    "    dtype_value_torch = dtype=torch.float64\n",
    "    dtype_value_np = dtype=np.float64"
   ]
  },
  {
   "cell_type": "code",
   "execution_count": 5,
   "metadata": {},
   "outputs": [
    {
     "name": "stdout",
     "output_type": "stream",
     "text": [
      "1614\n"
     ]
    }
   ],
   "source": [
    "len_data = ds_gen.get_data_length(dsg.ds_gen.DENSER, go_up_on_path=1)\n",
    "print(len_data)"
   ]
  },
  {
   "cell_type": "code",
   "execution_count": 6,
   "metadata": {},
   "outputs": [],
   "source": [
    "dictAuthors = dict()"
   ]
  },
  {
   "cell_type": "code",
   "execution_count": 7,
   "metadata": {},
   "outputs": [],
   "source": [
    "def map_to_number(dict, word):\n",
    "    if(word in dict.keys()):\n",
    "        return dict.get(word)\n",
    "    else:\n",
    "        next_value = len(dict.keys())\n",
    "        dict.update({word: next_value})\n",
    "        return next_value"
   ]
  },
  {
   "cell_type": "code",
   "execution_count": 8,
   "metadata": {},
   "outputs": [
    {
     "data": {
      "text/plain": [
       "1"
      ]
     },
     "execution_count": 8,
     "metadata": {},
     "output_type": "execute_result"
    }
   ],
   "source": [
    "dictAuthors.update({\"padding\": 0})\n",
    "map_to_number(dictAuthors, \"unknown\")"
   ]
  },
  {
   "cell_type": "code",
   "execution_count": 9,
   "metadata": {},
   "outputs": [],
   "source": [
    "def tokenize_words_in_paragraph(paragraph, dict):\n",
    "    tensor = []\n",
    "    parsed_paragraph = nt.word_tokenize(paragraph)\n",
    "    for word in parsed_paragraph:\n",
    "        token = map_to_number(dict, word)\n",
    "        tensor.append(token)\n",
    "    return tensor"
   ]
  },
  {
   "cell_type": "code",
   "execution_count": 10,
   "metadata": {},
   "outputs": [],
   "source": [
    "def get_paragraph_size_list(paragraph_set):\n",
    "    paragraph_sizes = []\n",
    "    for paragraph in paragraph_set:\n",
    "        paragraph_size = len(paragraph)\n",
    "        paragraph_sizes.append(paragraph_size)\n",
    "    return paragraph_sizes"
   ]
  },
  {
   "cell_type": "code",
   "execution_count": 11,
   "metadata": {},
   "outputs": [],
   "source": [
    "train_dataset_1, test_dataset_1 = ds_gen.get_dataset_from_author(dsg.ds_gen.COUTINHO, 0.8, 1605, go_up_on_path=1)\n",
    "train_dataset_2, test_dataset_2 = ds_gen.get_dataset_from_author(dsg.ds_gen.DENSER, 0.8, 1605, go_up_on_path=1)"
   ]
  },
  {
   "cell_type": "code",
   "execution_count": null,
   "metadata": {},
   "outputs": [],
   "source": [
    "train_dataset_1 = list(train_dataset_1.values())\n",
    "train_dataset_2 = list(train_dataset_2.values())\n",
    "test_dataset_1 = list(test_dataset_1.values())\n",
    "test_dataset_2 = list(test_dataset_2.values())"
   ]
  },
  {
   "cell_type": "code",
   "execution_count": 12,
   "metadata": {},
   "outputs": [],
   "source": [
    "train_dt_1_sizes = get_paragraph_size_list(train_dataset_1)\n",
    "train_dt_2_sizes = get_paragraph_size_list(train_dataset_2)\n",
    "test_dt_1_sizes = get_paragraph_size_list(test_dataset_1)\n",
    "test_dt_2_sizes = get_paragraph_size_list(test_dataset_2)"
   ]
  },
  {
   "cell_type": "code",
   "execution_count": 13,
   "metadata": {},
   "outputs": [],
   "source": [
    "train_dataset_raw_both = copy.deepcopy(train_dataset_1)\n",
    "train_dataset_raw_both.extend(train_dataset_2)"
   ]
  },
  {
   "cell_type": "code",
   "execution_count": 14,
   "metadata": {},
   "outputs": [],
   "source": [
    "test_dataset_raw_both = copy.deepcopy(test_dataset_1)\n",
    "test_dataset_raw_both.extend(test_dataset_2)"
   ]
  },
  {
   "cell_type": "code",
   "execution_count": 15,
   "metadata": {},
   "outputs": [],
   "source": [
    "\n",
    "train_labels = [0]*len(train_dataset_1)\n",
    "train_labels_2 = [1]*len(train_dataset_2)\n",
    "\n",
    "train_labels.extend(train_labels_2)"
   ]
  },
  {
   "cell_type": "code",
   "execution_count": 16,
   "metadata": {},
   "outputs": [],
   "source": [
    "test_labels = [0]*len(test_dataset_1)\n",
    "test_labels_2 = [1]*len(test_dataset_2)\n",
    "\n",
    "test_labels.extend(test_labels_2)"
   ]
  },
  {
   "cell_type": "code",
   "execution_count": 17,
   "metadata": {},
   "outputs": [],
   "source": [
    "all_data = copy.deepcopy(train_dt_1_sizes)\n",
    "all_data.extend(train_dt_2_sizes)\n",
    "all_data.extend(test_dt_1_sizes)\n",
    "all_data.extend(test_dt_2_sizes)"
   ]
  },
  {
   "cell_type": "code",
   "execution_count": 18,
   "metadata": {},
   "outputs": [
    {
     "name": "stdout",
     "output_type": "stream",
     "text": [
      "520.6500000000001\n"
     ]
    },
    {
     "data": {
      "text/plain": [
       "<matplotlib.lines.Line2D at 0x16dbc8350>"
      ]
     },
     "execution_count": 18,
     "metadata": {},
     "output_type": "execute_result"
    },
    {
     "data": {
      "image/png": "[encoded data removed]",
      "text/plain": [
       "<Figure size 640x480 with 1 Axes>"
      ]
     },
     "metadata": {},
     "output_type": "display_data"
    }
   ],
   "source": [
    "plt.plot(all_data)\n",
    "percetile = np.percentile(all_data, 85)\n",
    "print(percetile)\n",
    "plt.axhline(y=percetile, color=\"red\")"
   ]
  },
  {
   "cell_type": "code",
   "execution_count": 19,
   "metadata": {},
   "outputs": [],
   "source": [
    "train_dt_2_sizes = get_paragraph_size_list(train_dataset_2)"
   ]
  },
  {
   "cell_type": "code",
   "execution_count": 20,
   "metadata": {},
   "outputs": [],
   "source": [
    "def normalize_data(data, rule):\n",
    "    while (len(data) < rule):\n",
    "        data.append(0)\n",
    "\n",
    "    if(len(data) > rule):\n",
    "        data = data[0:rule]\n",
    "    return data "
   ]
  },
  {
   "cell_type": "code",
   "execution_count": 21,
   "metadata": {},
   "outputs": [],
   "source": [
    "def tokenize_paragraph_set(paragraph_set):\n",
    "    tokenized_paragraph_set= []\n",
    "    for paragraph in paragraph_set:\n",
    "        lowered_paragraph = paragraph.lower()\n",
    "        tokenized_paragraph = tokenize_words_in_paragraph(lowered_paragraph, dictAuthors)\n",
    "        tokenized_paragraph = normalize_data(tokenized_paragraph, 520)\n",
    "        tokenized_paragraph_set.append(tokenized_paragraph)\n",
    "    return tokenized_paragraph_set"
   ]
  },
  {
   "cell_type": "code",
   "execution_count": 22,
   "metadata": {},
   "outputs": [],
   "source": [
    "tokenized_set1 = tokenize_paragraph_set(train_dataset_1)"
   ]
  },
  {
   "cell_type": "code",
   "execution_count": 23,
   "metadata": {},
   "outputs": [],
   "source": [
    "tokenized_set2 = tokenize_paragraph_set(train_dataset_2)"
   ]
  },
  {
   "cell_type": "code",
   "execution_count": 24,
   "metadata": {},
   "outputs": [],
   "source": [
    "train_dataset_both_tokenized = copy.deepcopy(tokenized_set1)\n",
    "train_dataset_both_tokenized.extend(tokenized_set2)"
   ]
  },
  {
   "cell_type": "code",
   "execution_count": 25,
   "metadata": {},
   "outputs": [],
   "source": [
    "tokenized_test1 = tokenize_paragraph_set(test_dataset_1)"
   ]
  },
  {
   "cell_type": "code",
   "execution_count": 26,
   "metadata": {},
   "outputs": [],
   "source": [
    "tokenized_test2 = tokenize_paragraph_set(test_dataset_2)"
   ]
  },
  {
   "cell_type": "code",
   "execution_count": 27,
   "metadata": {},
   "outputs": [],
   "source": [
    "test_dataset_both_tokenized = copy.deepcopy(tokenized_test1)\n",
    "test_dataset_both_tokenized.extend(tokenized_test2)"
   ]
  },
  {
   "cell_type": "code",
   "execution_count": 28,
   "metadata": {},
   "outputs": [
    {
     "data": {
      "text/plain": [
       "<function TextIOWrapper.close()>"
      ]
     },
     "execution_count": 28,
     "metadata": {},
     "output_type": "execute_result"
    }
   ],
   "source": [
    "with open('authorsDict.json', 'w', encoding='utf-8') as f:\n",
    "    json.dump(dictAuthors, f, ensure_ascii=False, indent=4)\n",
    "f.close"
   ]
  },
  {
   "cell_type": "code",
   "execution_count": 29,
   "metadata": {},
   "outputs": [],
   "source": [
    "def load_pretrained_vectors(word2idx, fname):\n",
    "    \n",
    "    print(\"Loading pretrained vectors...\")\n",
    "    fin = open(fname, 'r', encoding='utf-8', newline='\\n', errors='ignore')\n",
    "    n, d = map(int, fin.readline().split())\n",
    "\n",
    "    print(n)\n",
    "    print(d)\n",
    "\n",
    "    embeddings = np.random.uniform(-0.25, 0.25, (len(word2idx), d))\n",
    "    embeddings[word2idx['padding']] = np.zeros((d,))\n",
    "\n",
    "    count = 0\n",
    "    for line in fin:\n",
    "        #print(line)\n",
    "        tokens = line.rstrip().split(' ')\n",
    "        word = tokens[0]\n",
    "        if word in word2idx:\n",
    "            count += 1\n",
    "            embeddings[word2idx[word]] = np.array(tokens[1:], dtype=dtype_value_np)\n",
    "\n",
    "    print(f\"There are {count} / {len(word2idx)} pretrained vectors found.\")\n",
    "\n",
    "    return embeddings"
   ]
  },
  {
   "cell_type": "code",
   "execution_count": 30,
   "metadata": {},
   "outputs": [
    {
     "name": "stdout",
     "output_type": "stream",
     "text": [
      "Loading pretrained vectors...\n",
      "2000000\n",
      "300\n",
      "There are 20130 / 21344 pretrained vectors found.\n"
     ]
    }
   ],
   "source": [
    "embeddings = load_pretrained_vectors(dictAuthors, \"../cc.pt.300.vec\")\n",
    "embeddings = torch.tensor(embeddings)"
   ]
  },
  {
   "cell_type": "code",
   "execution_count": 31,
   "metadata": {},
   "outputs": [],
   "source": [
    "def data_loader(train_inputs, test_inputs, train_labels, test_labels,\n",
    "                batch_size=50):\n",
    "   \n",
    "    train_inputs, test_inputs, train_labels, test_labels =\\\n",
    "    tuple(torch.tensor(data) for data in\n",
    "          [train_inputs, test_inputs, train_labels, test_labels])\n",
    "\n",
    "    batch_size = 50\n",
    "\n",
    "    train_data = TensorDataset(train_inputs, train_labels)\n",
    "    train_sampler = RandomSampler(train_data)\n",
    "    train_dataloader = DataLoader(train_data, sampler=train_sampler, batch_size=batch_size)\n",
    "\n",
    "    test_data = TensorDataset(test_inputs, test_labels)\n",
    "    test_sampler = SequentialSampler(test_data)\n",
    "    test_dataloader = DataLoader(test_data, sampler=test_sampler, batch_size=batch_size)\n",
    "\n",
    "    return train_dataloader, test_dataloader"
   ]
  },
  {
   "cell_type": "code",
   "execution_count": 32,
   "metadata": {},
   "outputs": [],
   "source": [
    "\n",
    "train_dataloader, test_dataloader = data_loader(train_dataset_both_tokenized, test_dataset_both_tokenized, train_labels, test_labels, batch_size=50)"
   ]
  },
  {
   "cell_type": "code",
   "execution_count": 33,
   "metadata": {},
   "outputs": [],
   "source": [
    "filter_sizes = [2, 3, 4]\n",
    "num_filters = [2, 2, 2]"
   ]
  },
  {
   "cell_type": "code",
   "execution_count": 34,
   "metadata": {},
   "outputs": [],
   "source": [
    "class CNN_NLP(nn.Module):\n",
    "    def __init__(self,\n",
    "                 pretrained_embedding=None,\n",
    "                 freeze_embedding=False,\n",
    "                 vocab_size=None,\n",
    "                 embed_dim=300,\n",
    "                 filter_sizes=[3, 4, 5],\n",
    "                 num_filters=[100, 100, 100],\n",
    "                 num_classes=2,\n",
    "                 dropout=0.5):\n",
    "        \n",
    "        super(CNN_NLP, self).__init__()\n",
    "        \n",
    "        if pretrained_embedding is not None:\n",
    "            self.vocab_size, self.embed_dim = pretrained_embedding.shape\n",
    "            self.embedding = nn.Embedding.from_pretrained(pretrained_embedding,\n",
    "                                                          freeze=freeze_embedding)\n",
    "        else:\n",
    "            self.embed_dim = embed_dim\n",
    "            self.embedding = nn.Embedding(num_embeddings=vocab_size,\n",
    "                                          embedding_dim=self.embed_dim,\n",
    "                                          padding_idx=0,\n",
    "                                          max_norm=5.0)\n",
    "       \n",
    "        self.conv1d_list = nn.ModuleList([\n",
    "            nn.Conv1d(in_channels=self.embed_dim,\n",
    "                      out_channels=num_filters[i],\n",
    "                      kernel_size=filter_sizes[i])\n",
    "            for i in range(len(filter_sizes))\n",
    "        ])\n",
    "       \n",
    "        self.fc = nn.Linear(np.sum(num_filters), num_classes)\n",
    "        self.dropout = nn.Dropout(p=dropout)\n",
    "\n",
    "    def forward(self, input_ids):\n",
    "        \n",
    "        x_embed = self.embedding(input_ids)\n",
    "\n",
    "        x_reshaped = x_embed.permute(0, 2, 1)\n",
    "\n",
    "        x_conv_list = [F.relu(conv1d(x_reshaped)) for conv1d in self.conv1d_list]\n",
    "\n",
    "        x_pool_list = [F.max_pool1d(x_conv, kernel_size=x_conv.shape[2])\n",
    "            for x_conv in x_conv_list]\n",
    "        \n",
    "        x_fc = torch.cat([x_pool.squeeze(dim=2) for x_pool in x_pool_list],\n",
    "                         dim=1)\n",
    "        \n",
    "        logits = self.fc(self.dropout(x_fc))\n",
    "\n",
    "        return logits"
   ]
  },
  {
   "cell_type": "code",
   "execution_count": 35,
   "metadata": {},
   "outputs": [],
   "source": [
    "loss_fn = nn.CrossEntropyLoss()"
   ]
  },
  {
   "cell_type": "code",
   "execution_count": 36,
   "metadata": {},
   "outputs": [],
   "source": [
    "def set_seed(seed_value=42):\n",
    "\n",
    "    random.seed(seed_value)\n",
    "    np.random.seed(seed_value)\n",
    "    torch.manual_seed(seed_value)\n",
    "    torch.cuda.manual_seed_all(seed_value)"
   ]
  },
  {
   "cell_type": "code",
   "execution_count": 37,
   "metadata": {},
   "outputs": [],
   "source": [
    "def evaluate(model, test_dataloader):\n",
    "    model.eval()\n",
    "    evaluation_start_time = time.time()\n",
    "    test_accuracy = []\n",
    "    test_loss = []\n",
    "    for batch in test_dataloader:\n",
    "        b_input_ids, b_labels = tuple(t.to(device) for t in batch)\n",
    "\n",
    "        with torch.no_grad():\n",
    "            logits = model(b_input_ids)\n",
    "\n",
    "        loss = loss_fn(logits, b_labels)\n",
    "        test_loss.append(loss.item())\n",
    "\n",
    "        preds = torch.argmax(logits, dim=1).flatten()\n",
    "\n",
    "        accuracy = (preds == b_labels).cpu().numpy().mean() * 100\n",
    "        test_accuracy.append(accuracy)\n",
    "        \n",
    "    test_loss = np.mean(test_loss)\n",
    "    test_accuracy = np.mean(test_accuracy)\n",
    "\n",
    "    return test_loss, test_accuracy"
   ]
  },
  {
   "cell_type": "code",
   "execution_count": 38,
   "metadata": {},
   "outputs": [],
   "source": [
    "def train(model, optimizer, train_dataloader, test_dataloader=None, epochs=10):\n",
    "\n",
    "    best_accuracy = 0\n",
    "    training_start_time = time.time()\n",
    "    test_acc_hist=[]\n",
    "    test_loss_hist=[]\n",
    "    time_elapsed_hist=[]\n",
    "    best_acc_hist=[]\n",
    "\n",
    "\n",
    "    print(\"Start training...\\n\")\n",
    "    print(f\"{'Epoch':^7} | {'Train Loss':^12} | {'Test Loss':^10} | {'Test Acc':^9} | {'Elapsed':^9}\")\n",
    "    print(\"-\"*60)\n",
    "\n",
    "    for epoch_i in range(epochs):\n",
    "     \n",
    "        t0_epoch = time.time()\n",
    "        total_loss = 0\n",
    "\n",
    "        model.train()\n",
    "\n",
    "        for step, batch in enumerate(train_dataloader):\n",
    "           \n",
    "            b_input_ids, b_labels = tuple(t.to(device) for t in batch)\n",
    "            model.zero_grad()\n",
    "            logits = model(b_input_ids)\n",
    "            loss = loss_fn(logits, b_labels)\n",
    "            total_loss += loss.item()\n",
    "            loss.backward()\n",
    "            optimizer.step()\n",
    "\n",
    "        avg_train_loss = total_loss / len(train_dataloader)\n",
    "\n",
    "        if test_dataloader is not None:\n",
    "            test_loss, test_accuracy = evaluate(model, test_dataloader)\n",
    "            if test_accuracy > best_accuracy:\n",
    "                best_accuracy = test_accuracy\n",
    "                best_acc_hist.append(best_accuracy)\n",
    "            time_elapsed = time.time() - t0_epoch\n",
    "            print(f\"{epoch_i + 1:^7} | {avg_train_loss:^12.6f} | {test_loss:^10.6f} | {test_accuracy:^9.2f} | {time_elapsed:^9.2f}\")\n",
    "            \n",
    "        test_acc_hist.append(test_accuracy)\n",
    "        test_loss_hist.append(test_loss)\n",
    "        time_elapsed_hist.append(time_elapsed)\n",
    "\n",
    "    print(\"\\n\")\n",
    "    print(f\"Training complete! Best accuracy: {best_accuracy:.2f}%.\")\n",
    "    print('Training finished, took {:.2f}s'.format(time.time() - training_start_time))\n",
    "\n",
    "    figure, axis = plt.subplots(2, 2)\n",
    "\n",
    "    axis[0, 0].plot(test_acc_hist) \n",
    "\n",
    "    axis[0, 1].plot(test_loss_hist) \n",
    "\n",
    "    axis[1, 0].plot(time_elapsed_hist) \n",
    "  \n",
    "    axis[1, 1].plot(best_acc_hist) \n",
    "\n",
    "    plt.show() \n"
   ]
  },
  {
   "cell_type": "code",
   "execution_count": 39,
   "metadata": {},
   "outputs": [],
   "source": [
    "def initialize_model(pretrained_embedding=None,\n",
    "                    freeze_embedding=False,\n",
    "                    vocab_size=None,\n",
    "                    embed_dim=300,\n",
    "                    filter_sizes=[3, 4, 5],\n",
    "                    num_filters=[100, 100, 100],\n",
    "                    num_classes=2,\n",
    "                    dropout=0.5,\n",
    "                    learning_rate=0.01):\n",
    "\n",
    "    assert (len(filter_sizes) == len(num_filters)), \"filter_sizes and num_filters need to be of the same length.\"\n",
    "\n",
    "    cnn_model = CNN_NLP(pretrained_embedding=pretrained_embedding,\n",
    "                        freeze_embedding=freeze_embedding,\n",
    "                        vocab_size=vocab_size,\n",
    "                        embed_dim=embed_dim,\n",
    "                        filter_sizes=filter_sizes,\n",
    "                        num_filters=num_filters,\n",
    "                        num_classes=2,\n",
    "                        dropout=0.5)\n",
    "\n",
    "    cnn_model.to(device, dtype=dtype_value_torch)\n",
    "\n",
    "    optimizer = optim.Adadelta(cnn_model.parameters(), lr=learning_rate, rho=0.95)\n",
    "\n",
    "    return cnn_model, optimizer"
   ]
  },
  {
   "cell_type": "code",
   "execution_count": 40,
   "metadata": {},
   "outputs": [
    {
     "name": "stdout",
     "output_type": "stream",
     "text": [
      "Start training...\n",
      "\n",
      " Epoch  |  Train Loss  | Test Loss  | Test Acc  |  Elapsed \n",
      "------------------------------------------------------------\n",
      "   1    |   0.670751   |  0.642392  |   68.72   |   8.21   \n",
      "   2    |   0.621921   |  0.593592  |   69.47   |   7.56   \n",
      "   3    |   0.578044   |  0.582316  |   67.05   |   7.53   \n",
      "   4    |   0.542973   |  0.559063  |   70.34   |   7.55   \n",
      "\n",
      "\n",
      "Training complete! Best accuracy: 70.34%.\n",
      "Training finished, took 30.86s\n"
     ]
    },
    {
     "data": {
      "image/png": "[encoded data removed]",
      "text/plain": [
       "<Figure size 640x480 with 4 Axes>"
      ]
     },
     "metadata": {},
     "output_type": "display_data"
    }
   ],
   "source": [
    "set_seed(42)\n",
    "cnn_non_static, optimizer = initialize_model(pretrained_embedding=embeddings,\n",
    "                                            freeze_embedding=False,\n",
    "                                            learning_rate=0.25,\n",
    "                                            dropout=0.5)\n",
    "train(cnn_non_static, optimizer, train_dataloader, test_dataloader, epochs=4)"
   ]
  },
  {
   "cell_type": "code",
   "execution_count": 41,
   "metadata": {},
   "outputs": [],
   "source": [
    "def tokenize_words_in_paragraph_for_predict(paragraph, dict):\n",
    "    tensor = []\n",
    "    dict_lenght= len(dict)\n",
    "    parsed_paragraph = nt.word_tokenize(paragraph)\n",
    "    for word in parsed_paragraph:\n",
    "        token = map_to_number(dict, word)\n",
    "        if token > dict_lenght-2:\n",
    "            token = map_to_number(dict, \"unknown\")\n",
    "        tensor.append(token)\n",
    "    print(tensor) \n",
    "    return tensor"
   ]
  },
  {
   "cell_type": "code",
   "execution_count": 42,
   "metadata": {},
   "outputs": [],
   "source": [
    "def predict(text, model=cnn_non_static.to(device), max_len=520):\n",
    "\n",
    "    tokens = tokenize_words_in_paragraph_for_predict(text.lower(), dictAuthors)\n",
    "    padded_tokens = tokens + [0] * (max_len - len(tokens))\n",
    "\n",
    "    input_id = torch.tensor(padded_tokens).unsqueeze(dim=0)\n",
    "    logits = model.forward(input_id.to(device))\n",
    "\n",
    "    probs = F.softmax(logits, dim=1).squeeze(dim=0)\n",
    "\n",
    "    if probs[1] > 0.5:\n",
    "        print(f\"Esse parágrafo tem {probs[1] * 100:.2f}% de chance de ser Denser.\")\n",
    "    else:\n",
    "        chance = 1 -probs[1]\n",
    "        print(f\"Esse parágrafo tem {chance * 100:.2f}% de chance de ser Coutinho.\")\n"
   ]
  },
  {
   "cell_type": "code",
   "execution_count": 43,
   "metadata": {},
   "outputs": [
    {
     "name": "stdout",
     "output_type": "stream",
     "text": [
      "Saved PyTorch Model State to cnnns.pth\n"
     ]
    }
   ],
   "source": [
    "torch.save(cnn_non_static.state_dict(), \"cnnns.pth\")\n",
    "print(\"Saved PyTorch Model State to cnnns.pth\")"
   ]
  },
  {
   "cell_type": "code",
   "execution_count": 44,
   "metadata": {},
   "outputs": [
    {
     "data": {
      "text/plain": [
       "<All keys matched successfully>"
      ]
     },
     "execution_count": 44,
     "metadata": {},
     "output_type": "execute_result"
    }
   ],
   "source": [
    "model = cnn_non_static.to(device)\n",
    "model.load_state_dict(torch.load(\"cnnns.pth\"))"
   ]
  },
  {
   "cell_type": "code",
   "execution_count": 45,
   "metadata": {},
   "outputs": [],
   "source": [
    "from torchviz import make_dot\n",
    "\n",
    "input_ids = torch.tensor([[   65,   459,  1496,    52,  2832,    25,   459,  1496,   654,    52,\n",
    "          6528, 10169,   248, 10170,    73, 10171,    17, 10172,   185,  9928,\n",
    "            73,   436,   229,    75, 10173, 10174,    17,  9517,    17, 10175,\n",
    "           450,   477,   153,  1087,    17,   531,    43,   440,     6,  1588,\n",
    "           268,   120,   687,    52,   176,  3182,   450,    70,  4129, 10176,\n",
    "            54,  6038,  1412, 10177,     6,   120,   126, 10178,   457,    17,\n",
    "            60,   457,     6,    88, 10170,    73, 10171, 10179,    10, 10180,\n",
    "         10181, 10182,    43,  2517,  1115,  3469,  6195,   355, 10183,   436,\n",
    "            17, 10184,    17,  1115,  5111,    17,   160,  1899,   459,   496,\n",
    "           256,   153,  5283,    58,     6, 10185,   120, 10186,    17,    43,\n",
    "          1140, 10177,     6,   126, 10178,    75,  2806,    52,  2286,    17,\n",
    "           647,     8,   429, 10187,    80,   126,   120,  9736,    17,     8,\n",
    "           132,     9,    70, 10188,    15, 10189,    17,   817, 10190,    17,\n",
    "          2438, 10191,    17,  2438, 10191,    17,     8,  2823,    52,  6428,\n",
    "           266,  3287,    54,  6546,    17,   429,  2232,   219,  1261,     6,\n",
    "           459,  4806,    54,  2197,    11,    17,     6,    34,  1917,  2131,\n",
    "            17,    34,   614,   270, 10192,    17, 10193,    17,    34,  2092,\n",
    "         10194,   185,   817,  1419,    17,     8,    34,     9,     6,   126,\n",
    "         10195,  2339,    17,     8,    34,  2092, 10196,    17,   459,  1611,\n",
    "           219,    52,   120,  1676,  8884,  2377,     6,  1356,   268,  8828,\n",
    "           219,    52,   132,  2377,     6,  5996,    52,    34,   755,    17,\n",
    "          2695,    15, 10197,    43,     6,   607,  2197, 10198,    17,   929,\n",
    "           126,  1412,    34,     7,    43, 10199,  2887,    54,    43,  8601,\n",
    "         10200,  4590,   215,    39,   403, 10201,   375,   669,    73,  4410,\n",
    "          3480,  2351,  8601,   188,     6,     9,    70,  1705,    75,    39,\n",
    "         10202,   978,    75,    39, 10203,   745,  9607,    64,   780,   978,\n",
    "          4332, 10204,    10, 10205,    52,  3199,  1412,  8601,   188,   340,\n",
    "          2721,    17,   340, 10206,   346,    17,   340,  6844,  4075,    17,\n",
    "         10207,    15, 10208,   547,   185,  8386, 10209,   305,   372,     6,\n",
    "            34,     7,    54,   496,    34,   345, 10210,    75,  2806,    52,\n",
    "          2286,    17,    15,  1141,     6,   176,   468,  1873,    80,   496,\n",
    "          3263,    39,  6114,    15,  8417,    54,   437,    58,    71,    15,\n",
    "           124,    17,    43,  1255,  2363,    22,  1736, 10211,   961,  2643,\n",
    "            52,  1009,    17, 10184,    17,  1009,   429,   487,   340,  1117,\n",
    "            17, 10204,    17, 10212,    17,    65,     8,   266,   513,    15,\n",
    "         10212,  9593, 10213, 10214,   536, 10215,    75,  1891,  2145,  6668,\n",
    "            52,  7263,    52, 10216,    52, 10217,   250, 10218,   277,   315,\n",
    "           232,   147,     6,     8, 10219,    88,  1281, 10215,  2527,    52,\n",
    "         10220,    52,   340, 10221, 10222,    17,  2894,    80,    10,   838,\n",
    "          1115,  8601, 10177,     7,  3220,    19, 10223,    17,   667,    17,\n",
    "          6655,  9808,    15,  3518,    73,   403,     6,     8,   256,  2305,\n",
    "           647,   459,   910,    64, 10183,   105,    52,    15, 10224,    17,\n",
    "            73,   403,     6,     8,  2196, 10225,    52,  6655,    64,   412,\n",
    "           105,    17,    80,   126,   459,   120,    34,   354,   161,   153,\n",
    "          7770,    58,  8601,  9401,    17,   513,   403,     6,  2092, 10226,\n",
    "            54,  9061,    17,   358,    43,     6,     8,   433,   322, 10227,\n",
    "            43,    59,    52,   120,   126,  1676,    80,    70,   204,    17,\n",
    "            65,   459,   619,    31,    15, 10224,    52, 10228,    52,   327,\n",
    "            64,   148,    17,  1443,     6,     8,   120,   226,  1047,    43,\n",
    "         10229,    17,    10,  1265,    52,    43,  1065,    54, 10205,    17,\n",
    "           571,   459, 10230,    10,   644,    17, 10231,   153,    71,    15,\n",
    "             8,     6,   120,  5070,   340,  1220,    17,   961,   274,    17,\n",
    "           147, 10205,    17,  8952,    54,    43,  2605,    25,    80,   457,\n",
    "            25,    80,   461,    25,    80,   410,   232,    17,   323,  7269,\n",
    "            25,  4154,   459, 10232,    52,   429, 10233,    52,   433,   525,\n",
    "            17,     8,  3836,    43,  5609,    17,   172,   817,    17,  1443,\n",
    "             6,   459,    34, 10234,    34, 10235,   270,   560,    17,  1025,\n",
    "            88, 10170,    73, 10171,     6, 10236,    43,   440,   153,  1087,\n",
    "            17,  1846,   477,    15,  1986,    17,    80,   126,    34,   126,\n",
    "         10237,    54,   131,  8286,    52,   525,   131,  3910,    17,   176,\n",
    "           561,   284,    43, 10177, 10238,    54,    45,    17,    15,  2136,\n",
    "             6, 10239,    43,  2158, 10240,   707,   457,   215,    31,  6063,\n",
    "            54,    13,   232,    17,   459,    64,   105,    58,   440,    25,\n",
    "           525,    17, 10184,    17,   649,  2353,    17,   452,    52,  3346,\n",
    "            17, 10241,    17,    34,  3248,    17,   600,    17,  5858,    25,\n",
    "            65,    88,  2353,   628,    80,  2141, 10242,   215, 10243,    60,\n",
    "            56,   323,    43,   337,   147,     6, 10244,    64, 10183,  1390,\n",
    "            25,  5314,    17,  5314,    17,   319,  1479,   340,    56,    17,\n",
    "          5314,    17,  5314,    25,    52,    48,    17,     8,    34, 10245,\n",
    "           270,    17,    34,     9,  7960,    17,  5414,   319,  1217,   436,\n",
    "            17,     8,    34,     9,  8622,    52,   459,    17,  4402,    17,\n",
    "            52,    48,    17,     8,    34,     9, 10246,    17,     8,  1443,\n",
    "             9, 10247,    17,    52,   459,    17,  8728,    17,  1096,  8728,\n",
    "            17,   126,    34,     8,  8958,    17,   176,  1030,    17,   375,\n",
    "             6,    34,  1030,   303,    64,   412,  1390,    17,    52,    48,\n",
    "            17,  9455,    17,    34,   457,   305,   232,    17,    52,   459,\n",
    "            17,    65,  1535,     6,   817,  1065,   132,   395,  6063,    54,\n",
    "            13,   232,    25,    31,    17,  1375,    11,    25,    52,    48,\n",
    "            17,     8,    34,     9,   167,   466,    64,    87,    17,  5149,\n",
    "            19,    34,    17,    34,   652, 10248,    17,     7,    29,    25,\n",
    "            52,  1496,  4034,    17,    88,  1254, 10249,    17,   160,    34,\n",
    "           883,    17,   160,    34,  3182,    17,    34,  1375,    17,    34,\n",
    "           904,    17,   160,   817,  1065,    34,   395,  6063,    54,  1961,\n",
    "           183,    17,   817,  1065,    10,  7314, 10250,    52,   650,  2559,\n",
    "            73,   761,   428,  1034,    54,    43,  4276,  9669,    17, 10251,\n",
    "            52,   176,  7432,   315, 10252,    15,  7858,    52,  6348,    64,\n",
    "           412,   105,    25]])\n",
    "\n",
    "model = cnn_non_static\n",
    "y = model(input_ids.to(device))"
   ]
  },
  {
   "cell_type": "code",
   "execution_count": 46,
   "metadata": {},
   "outputs": [
    {
     "data": {
      "image/svg+xml": [
       "<?xml version=\"1.0\" encoding=\"UTF-8\" standalone=\"no\"?>\n",
       "<!DOCTYPE svg PUBLIC \"-//W3C//DTD SVG 1.1//EN\"\n",
       " \"http://www.w3.org/Graphics/SVG/1.1/DTD/svg11.dtd\">\n",
       "<!-- Generated by graphviz version 9.0.0 (20230911.1827)\n",
       " -->\n",
       "<!-- Pages: 1 -->\n",
       "<svg width=\"918pt\" height=\"712pt\"\n",
       " viewBox=\"0.00 0.00 918.00 712.12\" xmlns=\"http://www.w3.org/2000/svg\" xmlns:xlink=\"http://www.w3.org/1999/xlink\">\n",
       "<g id=\"graph0\" class=\"graph\" transform=\"scale(0.9 0.9) rotate(0) translate(4 787.25)\">\n",
       "<polygon fill=\"white\" stroke=\"none\" points=\"-4,4 -4,-787.25 1016,-787.25 1016,4 -4,4\"/>\n",
       "<!-- 6109486432 -->\n",
       "<g id=\"node1\" class=\"node\">\n",
       "<title>6109486432</title>\n",
       "<polygon fill=\"#caff70\" stroke=\"black\" points=\"748,-31.25 694,-31.25 694,0 748,0 748,-31.25\"/>\n",
       "<text text-anchor=\"middle\" x=\"721\" y=\"-5.75\" font-family=\"monospace\" font-size=\"10.00\"> ()</text>\n",
       "</g>\n",
       "<!-- 6143672528 -->\n",
       "<g id=\"node2\" class=\"node\">\n",
       "<title>6143672528</title>\n",
       "<polygon fill=\"lightgrey\" stroke=\"black\" points=\"768,-86.5 674,-86.5 674,-67.25 768,-67.25 768,-86.5\"/>\n",
       "<text text-anchor=\"middle\" x=\"721\" y=\"-73\" font-family=\"monospace\" font-size=\"10.00\">MeanBackward0</text>\n",
       "</g>\n",
       "<!-- 6143672528&#45;&gt;6109486432 -->\n",
       "<g id=\"edge43\" class=\"edge\">\n",
       "<title>6143672528&#45;&gt;6109486432</title>\n",
       "<path fill=\"none\" stroke=\"black\" d=\"M721,-66.88C721,-60.54 721,-51.7 721,-43.2\"/>\n",
       "<polygon fill=\"black\" stroke=\"black\" points=\"724.5,-43.22 721,-33.22 717.5,-43.22 724.5,-43.22\"/>\n",
       "</g>\n",
       "<!-- 6143673152 -->\n",
       "<g id=\"node3\" class=\"node\">\n",
       "<title>6143673152</title>\n",
       "<polygon fill=\"lightgrey\" stroke=\"black\" points=\"774,-141.75 668,-141.75 668,-122.5 774,-122.5 774,-141.75\"/>\n",
       "<text text-anchor=\"middle\" x=\"721\" y=\"-128.25\" font-family=\"monospace\" font-size=\"10.00\">LinearBackward0</text>\n",
       "</g>\n",
       "<!-- 6143673152&#45;&gt;6143672528 -->\n",
       "<g id=\"edge1\" class=\"edge\">\n",
       "<title>6143673152&#45;&gt;6143672528</title>\n",
       "<path fill=\"none\" stroke=\"black\" d=\"M721,-122.33C721,-115.82 721,-106.67 721,-98.37\"/>\n",
       "<polygon fill=\"black\" stroke=\"black\" points=\"724.5,-98.37 721,-88.37 717.5,-98.37 724.5,-98.37\"/>\n",
       "</g>\n",
       "<!-- 6143686160 -->\n",
       "<g id=\"node4\" class=\"node\">\n",
       "<title>6143686160</title>\n",
       "<polygon fill=\"lightgrey\" stroke=\"black\" points=\"598,-197 510,-197 510,-177.75 598,-177.75 598,-197\"/>\n",
       "<text text-anchor=\"middle\" x=\"554\" y=\"-183.5\" font-family=\"monospace\" font-size=\"10.00\">CatBackward0</text>\n",
       "</g>\n",
       "<!-- 6143686160&#45;&gt;6143673152 -->\n",
       "<g id=\"edge2\" class=\"edge\">\n",
       "<title>6143686160&#45;&gt;6143673152</title>\n",
       "<path fill=\"none\" stroke=\"black\" d=\"M582.33,-177.34C609.68,-168.62 651.32,-155.34 681.84,-145.61\"/>\n",
       "<polygon fill=\"black\" stroke=\"black\" points=\"682.63,-149.03 691.09,-142.66 680.5,-142.37 682.63,-149.03\"/>\n",
       "</g>\n",
       "<!-- 6143685584 -->\n",
       "<g id=\"node5\" class=\"node\">\n",
       "<title>6143685584</title>\n",
       "<polygon fill=\"lightgrey\" stroke=\"black\" points=\"386,-257.88 274,-257.88 274,-238.62 386,-238.62 386,-257.88\"/>\n",
       "<text text-anchor=\"middle\" x=\"330\" y=\"-244.38\" font-family=\"monospace\" font-size=\"10.00\">SqueezeBackward1</text>\n",
       "</g>\n",
       "<!-- 6143685584&#45;&gt;6143686160 -->\n",
       "<g id=\"edge3\" class=\"edge\">\n",
       "<title>6143685584&#45;&gt;6143686160</title>\n",
       "<path fill=\"none\" stroke=\"black\" d=\"M364.51,-238.18C403.15,-228.02 465.93,-211.52 508.54,-200.32\"/>\n",
       "<polygon fill=\"black\" stroke=\"black\" points=\"509.21,-203.77 517.99,-197.84 507.43,-197 509.21,-203.77\"/>\n",
       "</g>\n",
       "<!-- 6143685344 -->\n",
       "<g id=\"node6\" class=\"node\">\n",
       "<title>6143685344</title>\n",
       "<polygon fill=\"lightgrey\" stroke=\"black\" points=\"386,-318.75 274,-318.75 274,-299.5 386,-299.5 386,-318.75\"/>\n",
       "<text text-anchor=\"middle\" x=\"330\" y=\"-305.25\" font-family=\"monospace\" font-size=\"10.00\">SqueezeBackward1</text>\n",
       "</g>\n",
       "<!-- 6143685344&#45;&gt;6143685584 -->\n",
       "<g id=\"edge4\" class=\"edge\">\n",
       "<title>6143685344&#45;&gt;6143685584</title>\n",
       "<path fill=\"none\" stroke=\"black\" d=\"M330,-299.18C330,-291.4 330,-279.83 330,-269.78\"/>\n",
       "<polygon fill=\"black\" stroke=\"black\" points=\"333.5,-269.79 330,-259.79 326.5,-269.79 333.5,-269.79\"/>\n",
       "</g>\n",
       "<!-- 6143685248 -->\n",
       "<g id=\"node7\" class=\"node\">\n",
       "<title>6143685248</title>\n",
       "<polygon fill=\"lightgrey\" stroke=\"black\" points=\"385,-374 195,-374 195,-354.75 385,-354.75 385,-374\"/>\n",
       "<text text-anchor=\"middle\" x=\"290\" y=\"-360.5\" font-family=\"monospace\" font-size=\"10.00\">MaxPool2DWithIndicesBackward0</text>\n",
       "</g>\n",
       "<!-- 6143685248&#45;&gt;6143685344 -->\n",
       "<g id=\"edge5\" class=\"edge\">\n",
       "<title>6143685248&#45;&gt;6143685344</title>\n",
       "<path fill=\"none\" stroke=\"black\" d=\"M296.61,-354.58C301.96,-347.46 309.68,-337.18 316.35,-328.3\"/>\n",
       "<polygon fill=\"black\" stroke=\"black\" points=\"319.13,-330.42 322.34,-320.32 313.54,-326.21 319.13,-330.42\"/>\n",
       "</g>\n",
       "<!-- 6143685200 -->\n",
       "<g id=\"node8\" class=\"node\">\n",
       "<title>6143685200</title>\n",
       "<polygon fill=\"lightgrey\" stroke=\"black\" points=\"349,-429.25 225,-429.25 225,-410 349,-410 349,-429.25\"/>\n",
       "<text text-anchor=\"middle\" x=\"287\" y=\"-415.75\" font-family=\"monospace\" font-size=\"10.00\">UnsqueezeBackward0</text>\n",
       "</g>\n",
       "<!-- 6143685200&#45;&gt;6143685248 -->\n",
       "<g id=\"edge6\" class=\"edge\">\n",
       "<title>6143685200&#45;&gt;6143685248</title>\n",
       "<path fill=\"none\" stroke=\"black\" d=\"M287.5,-409.83C287.87,-403.24 288.39,-393.96 288.86,-385.57\"/>\n",
       "<polygon fill=\"black\" stroke=\"black\" points=\"292.34,-386.05 289.41,-375.87 285.35,-385.66 292.34,-386.05\"/>\n",
       "</g>\n",
       "<!-- 6143686880 -->\n",
       "<g id=\"node9\" class=\"node\">\n",
       "<title>6143686880</title>\n",
       "<polygon fill=\"lightgrey\" stroke=\"black\" points=\"296,-484.5 202,-484.5 202,-465.25 296,-465.25 296,-484.5\"/>\n",
       "<text text-anchor=\"middle\" x=\"249\" y=\"-471\" font-family=\"monospace\" font-size=\"10.00\">ReluBackward0</text>\n",
       "</g>\n",
       "<!-- 6143686880&#45;&gt;6143685200 -->\n",
       "<g id=\"edge7\" class=\"edge\">\n",
       "<title>6143686880&#45;&gt;6143685200</title>\n",
       "<path fill=\"none\" stroke=\"black\" d=\"M255.27,-465.08C260.36,-457.96 267.7,-447.68 274.03,-438.8\"/>\n",
       "<polygon fill=\"black\" stroke=\"black\" points=\"276.75,-441.01 279.71,-430.84 271.05,-436.95 276.75,-441.01\"/>\n",
       "</g>\n",
       "<!-- 6143686976 -->\n",
       "<g id=\"node10\" class=\"node\">\n",
       "<title>6143686976</title>\n",
       "<polygon fill=\"lightgrey\" stroke=\"black\" points=\"298,-539.75 162,-539.75 162,-520.5 298,-520.5 298,-539.75\"/>\n",
       "<text text-anchor=\"middle\" x=\"230\" y=\"-526.25\" font-family=\"monospace\" font-size=\"10.00\">ConvolutionBackward0</text>\n",
       "</g>\n",
       "<!-- 6143686976&#45;&gt;6143686880 -->\n",
       "<g id=\"edge8\" class=\"edge\">\n",
       "<title>6143686976&#45;&gt;6143686880</title>\n",
       "<path fill=\"none\" stroke=\"black\" d=\"M233.14,-520.33C235.54,-513.59 238.96,-504.02 242,-495.49\"/>\n",
       "<polygon fill=\"black\" stroke=\"black\" points=\"245.22,-496.88 245.29,-486.28 238.63,-494.53 245.22,-496.88\"/>\n",
       "</g>\n",
       "<!-- 6143685776 -->\n",
       "<g id=\"node11\" class=\"node\">\n",
       "<title>6143685776</title>\n",
       "<polygon fill=\"lightgrey\" stroke=\"black\" points=\"423,-595 311,-595 311,-575.75 423,-575.75 423,-595\"/>\n",
       "<text text-anchor=\"middle\" x=\"367\" y=\"-581.5\" font-family=\"monospace\" font-size=\"10.00\">PermuteBackward0</text>\n",
       "</g>\n",
       "<!-- 6143685776&#45;&gt;6143686976 -->\n",
       "<g id=\"edge9\" class=\"edge\">\n",
       "<title>6143685776&#45;&gt;6143686976</title>\n",
       "<path fill=\"none\" stroke=\"black\" d=\"M343.76,-575.34C321.81,-566.81 288.65,-553.92 263.79,-544.26\"/>\n",
       "<polygon fill=\"black\" stroke=\"black\" points=\"265.35,-541.11 254.76,-540.75 262.82,-547.64 265.35,-541.11\"/>\n",
       "</g>\n",
       "<!-- 6143687072 -->\n",
       "<g id=\"node24\" class=\"node\">\n",
       "<title>6143687072</title>\n",
       "<polygon fill=\"lightgrey\" stroke=\"black\" points=\"568,-539.75 432,-539.75 432,-520.5 568,-520.5 568,-539.75\"/>\n",
       "<text text-anchor=\"middle\" x=\"500\" y=\"-526.25\" font-family=\"monospace\" font-size=\"10.00\">ConvolutionBackward0</text>\n",
       "</g>\n",
       "<!-- 6143685776&#45;&gt;6143687072 -->\n",
       "<g id=\"edge23\" class=\"edge\">\n",
       "<title>6143685776&#45;&gt;6143687072</title>\n",
       "<path fill=\"none\" stroke=\"black\" d=\"M389.56,-575.34C410.77,-566.85 442.77,-554.04 466.88,-544.39\"/>\n",
       "<polygon fill=\"black\" stroke=\"black\" points=\"467.94,-547.73 475.92,-540.77 465.34,-541.23 467.94,-547.73\"/>\n",
       "</g>\n",
       "<!-- 6143674592 -->\n",
       "<g id=\"node34\" class=\"node\">\n",
       "<title>6143674592</title>\n",
       "<polygon fill=\"lightgrey\" stroke=\"black\" points=\"839,-539.75 703,-539.75 703,-520.5 839,-520.5 839,-539.75\"/>\n",
       "<text text-anchor=\"middle\" x=\"771\" y=\"-526.25\" font-family=\"monospace\" font-size=\"10.00\">ConvolutionBackward0</text>\n",
       "</g>\n",
       "<!-- 6143685776&#45;&gt;6143674592 -->\n",
       "<g id=\"edge34\" class=\"edge\">\n",
       "<title>6143685776&#45;&gt;6143674592</title>\n",
       "<path fill=\"none\" stroke=\"black\" d=\"M423.17,-576.97C492.92,-567.78 612.32,-552.04 691.46,-541.61\"/>\n",
       "<polygon fill=\"black\" stroke=\"black\" points=\"691.87,-545.08 701.33,-540.31 690.96,-538.14 691.87,-545.08\"/>\n",
       "</g>\n",
       "<!-- 6143687168 -->\n",
       "<g id=\"node12\" class=\"node\">\n",
       "<title>6143687168</title>\n",
       "<polygon fill=\"lightgrey\" stroke=\"black\" points=\"420,-655.88 296,-655.88 296,-636.62 420,-636.62 420,-655.88\"/>\n",
       "<text text-anchor=\"middle\" x=\"358\" y=\"-642.38\" font-family=\"monospace\" font-size=\"10.00\">EmbeddingBackward0</text>\n",
       "</g>\n",
       "<!-- 6143687168&#45;&gt;6143685776 -->\n",
       "<g id=\"edge10\" class=\"edge\">\n",
       "<title>6143687168&#45;&gt;6143685776</title>\n",
       "<path fill=\"none\" stroke=\"black\" d=\"M359.37,-636.31C360.57,-628.44 362.36,-616.7 363.91,-606.57\"/>\n",
       "<polygon fill=\"black\" stroke=\"black\" points=\"367.34,-607.31 365.39,-596.9 360.42,-606.25 367.34,-607.31\"/>\n",
       "</g>\n",
       "<!-- 6143687264 -->\n",
       "<g id=\"node13\" class=\"node\">\n",
       "<title>6143687264</title>\n",
       "<polygon fill=\"lightgrey\" stroke=\"black\" points=\"408,-716.75 308,-716.75 308,-697.5 408,-697.5 408,-716.75\"/>\n",
       "<text text-anchor=\"middle\" x=\"358\" y=\"-703.25\" font-family=\"monospace\" font-size=\"10.00\">AccumulateGrad</text>\n",
       "</g>\n",
       "<!-- 6143687264&#45;&gt;6143687168 -->\n",
       "<g id=\"edge11\" class=\"edge\">\n",
       "<title>6143687264&#45;&gt;6143687168</title>\n",
       "<path fill=\"none\" stroke=\"black\" d=\"M358,-697.18C358,-689.4 358,-677.83 358,-667.78\"/>\n",
       "<polygon fill=\"black\" stroke=\"black\" points=\"361.5,-667.79 358,-657.79 354.5,-667.79 361.5,-667.79\"/>\n",
       "</g>\n",
       "<!-- 6109492272 -->\n",
       "<g id=\"node14\" class=\"node\">\n",
       "<title>6109492272</title>\n",
       "<polygon fill=\"lightblue\" stroke=\"black\" points=\"414,-783.25 302,-783.25 302,-752.75 414,-752.75 414,-783.25\"/>\n",
       "<text text-anchor=\"middle\" x=\"358\" y=\"-769.75\" font-family=\"monospace\" font-size=\"10.00\">embedding.weight</text>\n",
       "<text text-anchor=\"middle\" x=\"358\" y=\"-758.5\" font-family=\"monospace\" font-size=\"10.00\"> (21344, 300)</text>\n",
       "</g>\n",
       "<!-- 6109492272&#45;&gt;6143687264 -->\n",
       "<g id=\"edge12\" class=\"edge\">\n",
       "<title>6109492272&#45;&gt;6143687264</title>\n",
       "<path fill=\"none\" stroke=\"black\" d=\"M358,-752.45C358,-745.21 358,-736.34 358,-728.44\"/>\n",
       "<polygon fill=\"black\" stroke=\"black\" points=\"361.5,-728.71 358,-718.71 354.5,-728.71 361.5,-728.71\"/>\n",
       "</g>\n",
       "<!-- 6143685728 -->\n",
       "<g id=\"node15\" class=\"node\">\n",
       "<title>6143685728</title>\n",
       "<polygon fill=\"lightgrey\" stroke=\"black\" points=\"142,-595 42,-595 42,-575.75 142,-575.75 142,-595\"/>\n",
       "<text text-anchor=\"middle\" x=\"92\" y=\"-581.5\" font-family=\"monospace\" font-size=\"10.00\">AccumulateGrad</text>\n",
       "</g>\n",
       "<!-- 6143685728&#45;&gt;6143686976 -->\n",
       "<g id=\"edge13\" class=\"edge\">\n",
       "<title>6143685728&#45;&gt;6143686976</title>\n",
       "<path fill=\"none\" stroke=\"black\" d=\"M115.41,-575.34C137.52,-566.81 170.92,-553.92 195.97,-544.26\"/>\n",
       "<polygon fill=\"black\" stroke=\"black\" points=\"196.99,-547.61 205.06,-540.75 194.47,-541.08 196.99,-547.61\"/>\n",
       "</g>\n",
       "<!-- 6109377904 -->\n",
       "<g id=\"node16\" class=\"node\">\n",
       "<title>6109377904</title>\n",
       "<polygon fill=\"lightblue\" stroke=\"black\" points=\"136,-661.5 0,-661.5 0,-631 136,-631 136,-661.5\"/>\n",
       "<text text-anchor=\"middle\" x=\"68\" y=\"-648\" font-family=\"monospace\" font-size=\"10.00\">conv1d_list.0.weight</text>\n",
       "<text text-anchor=\"middle\" x=\"68\" y=\"-636.75\" font-family=\"monospace\" font-size=\"10.00\"> (100, 300, 3)</text>\n",
       "</g>\n",
       "<!-- 6109377904&#45;&gt;6143685728 -->\n",
       "<g id=\"edge14\" class=\"edge\">\n",
       "<title>6109377904&#45;&gt;6143685728</title>\n",
       "<path fill=\"none\" stroke=\"black\" d=\"M73.93,-630.7C76.99,-623.2 80.76,-613.95 84.06,-605.85\"/>\n",
       "<polygon fill=\"black\" stroke=\"black\" points=\"87.19,-607.43 87.73,-596.85 80.71,-604.79 87.19,-607.43\"/>\n",
       "</g>\n",
       "<!-- 6143685440 -->\n",
       "<g id=\"node17\" class=\"node\">\n",
       "<title>6143685440</title>\n",
       "<polygon fill=\"lightgrey\" stroke=\"black\" points=\"275,-595 175,-595 175,-575.75 275,-575.75 275,-595\"/>\n",
       "<text text-anchor=\"middle\" x=\"225\" y=\"-581.5\" font-family=\"monospace\" font-size=\"10.00\">AccumulateGrad</text>\n",
       "</g>\n",
       "<!-- 6143685440&#45;&gt;6143686976 -->\n",
       "<g id=\"edge15\" class=\"edge\">\n",
       "<title>6143685440&#45;&gt;6143686976</title>\n",
       "<path fill=\"none\" stroke=\"black\" d=\"M225.83,-575.58C226.44,-568.99 227.32,-559.71 228.1,-551.32\"/>\n",
       "<polygon fill=\"black\" stroke=\"black\" points=\"231.56,-551.9 229.01,-541.62 224.6,-551.25 231.56,-551.9\"/>\n",
       "</g>\n",
       "<!-- 6136157104 -->\n",
       "<g id=\"node18\" class=\"node\">\n",
       "<title>6136157104</title>\n",
       "<polygon fill=\"lightblue\" stroke=\"black\" points=\"278,-661.5 154,-661.5 154,-631 278,-631 278,-661.5\"/>\n",
       "<text text-anchor=\"middle\" x=\"216\" y=\"-648\" font-family=\"monospace\" font-size=\"10.00\">conv1d_list.0.bias</text>\n",
       "<text text-anchor=\"middle\" x=\"216\" y=\"-636.75\" font-family=\"monospace\" font-size=\"10.00\"> (100)</text>\n",
       "</g>\n",
       "<!-- 6136157104&#45;&gt;6143685440 -->\n",
       "<g id=\"edge16\" class=\"edge\">\n",
       "<title>6136157104&#45;&gt;6143685440</title>\n",
       "<path fill=\"none\" stroke=\"black\" d=\"M218.22,-630.7C219.33,-623.46 220.69,-614.59 221.89,-606.69\"/>\n",
       "<polygon fill=\"black\" stroke=\"black\" points=\"225.33,-607.36 223.38,-596.95 218.41,-606.3 225.33,-607.36\"/>\n",
       "</g>\n",
       "<!-- 6143686064 -->\n",
       "<g id=\"node19\" class=\"node\">\n",
       "<title>6143686064</title>\n",
       "<polygon fill=\"lightgrey\" stroke=\"black\" points=\"556,-257.88 444,-257.88 444,-238.62 556,-238.62 556,-257.88\"/>\n",
       "<text text-anchor=\"middle\" x=\"500\" y=\"-244.38\" font-family=\"monospace\" font-size=\"10.00\">SqueezeBackward1</text>\n",
       "</g>\n",
       "<!-- 6143686064&#45;&gt;6143686160 -->\n",
       "<g id=\"edge17\" class=\"edge\">\n",
       "<title>6143686064&#45;&gt;6143686160</title>\n",
       "<path fill=\"none\" stroke=\"black\" d=\"M508.2,-238.31C516.13,-229.66 528.35,-216.34 538.18,-205.62\"/>\n",
       "<polygon fill=\"black\" stroke=\"black\" points=\"540.52,-208.25 544.7,-198.52 535.36,-203.52 540.52,-208.25\"/>\n",
       "</g>\n",
       "<!-- 6143673536 -->\n",
       "<g id=\"node20\" class=\"node\">\n",
       "<title>6143673536</title>\n",
       "<polygon fill=\"lightgrey\" stroke=\"black\" points=\"556,-318.75 444,-318.75 444,-299.5 556,-299.5 556,-318.75\"/>\n",
       "<text text-anchor=\"middle\" x=\"500\" y=\"-305.25\" font-family=\"monospace\" font-size=\"10.00\">SqueezeBackward1</text>\n",
       "</g>\n",
       "<!-- 6143673536&#45;&gt;6143686064 -->\n",
       "<g id=\"edge18\" class=\"edge\">\n",
       "<title>6143673536&#45;&gt;6143686064</title>\n",
       "<path fill=\"none\" stroke=\"black\" d=\"M500,-299.18C500,-291.4 500,-279.83 500,-269.78\"/>\n",
       "<polygon fill=\"black\" stroke=\"black\" points=\"503.5,-269.79 500,-259.79 496.5,-269.79 503.5,-269.79\"/>\n",
       "</g>\n",
       "<!-- 6143686928 -->\n",
       "<g id=\"node21\" class=\"node\">\n",
       "<title>6143686928</title>\n",
       "<polygon fill=\"lightgrey\" stroke=\"black\" points=\"595,-374 405,-374 405,-354.75 595,-354.75 595,-374\"/>\n",
       "<text text-anchor=\"middle\" x=\"500\" y=\"-360.5\" font-family=\"monospace\" font-size=\"10.00\">MaxPool2DWithIndicesBackward0</text>\n",
       "</g>\n",
       "<!-- 6143686928&#45;&gt;6143673536 -->\n",
       "<g id=\"edge19\" class=\"edge\">\n",
       "<title>6143686928&#45;&gt;6143673536</title>\n",
       "<path fill=\"none\" stroke=\"black\" d=\"M500,-354.58C500,-348.07 500,-338.92 500,-330.62\"/>\n",
       "<polygon fill=\"black\" stroke=\"black\" points=\"503.5,-330.62 500,-320.62 496.5,-330.62 503.5,-330.62\"/>\n",
       "</g>\n",
       "<!-- 6143687120 -->\n",
       "<g id=\"node22\" class=\"node\">\n",
       "<title>6143687120</title>\n",
       "<polygon fill=\"lightgrey\" stroke=\"black\" points=\"562,-429.25 438,-429.25 438,-410 562,-410 562,-429.25\"/>\n",
       "<text text-anchor=\"middle\" x=\"500\" y=\"-415.75\" font-family=\"monospace\" font-size=\"10.00\">UnsqueezeBackward0</text>\n",
       "</g>\n",
       "<!-- 6143687120&#45;&gt;6143686928 -->\n",
       "<g id=\"edge20\" class=\"edge\">\n",
       "<title>6143687120&#45;&gt;6143686928</title>\n",
       "<path fill=\"none\" stroke=\"black\" d=\"M500,-409.83C500,-403.32 500,-394.17 500,-385.87\"/>\n",
       "<polygon fill=\"black\" stroke=\"black\" points=\"503.5,-385.87 500,-375.87 496.5,-385.87 503.5,-385.87\"/>\n",
       "</g>\n",
       "<!-- 6143674928 -->\n",
       "<g id=\"node23\" class=\"node\">\n",
       "<title>6143674928</title>\n",
       "<polygon fill=\"lightgrey\" stroke=\"black\" points=\"547,-484.5 453,-484.5 453,-465.25 547,-465.25 547,-484.5\"/>\n",
       "<text text-anchor=\"middle\" x=\"500\" y=\"-471\" font-family=\"monospace\" font-size=\"10.00\">ReluBackward0</text>\n",
       "</g>\n",
       "<!-- 6143674928&#45;&gt;6143687120 -->\n",
       "<g id=\"edge21\" class=\"edge\">\n",
       "<title>6143674928&#45;&gt;6143687120</title>\n",
       "<path fill=\"none\" stroke=\"black\" d=\"M500,-465.08C500,-458.57 500,-449.42 500,-441.12\"/>\n",
       "<polygon fill=\"black\" stroke=\"black\" points=\"503.5,-441.12 500,-431.12 496.5,-441.12 503.5,-441.12\"/>\n",
       "</g>\n",
       "<!-- 6143687072&#45;&gt;6143674928 -->\n",
       "<g id=\"edge22\" class=\"edge\">\n",
       "<title>6143687072&#45;&gt;6143674928</title>\n",
       "<path fill=\"none\" stroke=\"black\" d=\"M500,-520.33C500,-513.82 500,-504.67 500,-496.37\"/>\n",
       "<polygon fill=\"black\" stroke=\"black\" points=\"503.5,-496.37 500,-486.37 496.5,-496.37 503.5,-496.37\"/>\n",
       "</g>\n",
       "<!-- 6143674832 -->\n",
       "<g id=\"node25\" class=\"node\">\n",
       "<title>6143674832</title>\n",
       "<polygon fill=\"lightgrey\" stroke=\"black\" points=\"683,-595 583,-595 583,-575.75 683,-575.75 683,-595\"/>\n",
       "<text text-anchor=\"middle\" x=\"633\" y=\"-581.5\" font-family=\"monospace\" font-size=\"10.00\">AccumulateGrad</text>\n",
       "</g>\n",
       "<!-- 6143674832&#45;&gt;6143687072 -->\n",
       "<g id=\"edge24\" class=\"edge\">\n",
       "<title>6143674832&#45;&gt;6143687072</title>\n",
       "<path fill=\"none\" stroke=\"black\" d=\"M610.44,-575.34C589.23,-566.85 557.23,-554.04 533.12,-544.39\"/>\n",
       "<polygon fill=\"black\" stroke=\"black\" points=\"534.66,-541.23 524.08,-540.77 532.06,-547.73 534.66,-541.23\"/>\n",
       "</g>\n",
       "<!-- 6142637664 -->\n",
       "<g id=\"node26\" class=\"node\">\n",
       "<title>6142637664</title>\n",
       "<polygon fill=\"lightblue\" stroke=\"black\" points=\"716,-661.5 580,-661.5 580,-631 716,-631 716,-661.5\"/>\n",
       "<text text-anchor=\"middle\" x=\"648\" y=\"-648\" font-family=\"monospace\" font-size=\"10.00\">conv1d_list.1.weight</text>\n",
       "<text text-anchor=\"middle\" x=\"648\" y=\"-636.75\" font-family=\"monospace\" font-size=\"10.00\"> (100, 300, 4)</text>\n",
       "</g>\n",
       "<!-- 6142637664&#45;&gt;6143674832 -->\n",
       "<g id=\"edge25\" class=\"edge\">\n",
       "<title>6142637664&#45;&gt;6143674832</title>\n",
       "<path fill=\"none\" stroke=\"black\" d=\"M644.29,-630.7C642.43,-623.37 640.13,-614.37 638.1,-606.41\"/>\n",
       "<polygon fill=\"black\" stroke=\"black\" points=\"641.55,-605.74 635.69,-596.92 634.76,-607.47 641.55,-605.74\"/>\n",
       "</g>\n",
       "<!-- 6143674880 -->\n",
       "<g id=\"node27\" class=\"node\">\n",
       "<title>6143674880</title>\n",
       "<polygon fill=\"lightgrey\" stroke=\"black\" points=\"550,-595 450,-595 450,-575.75 550,-575.75 550,-595\"/>\n",
       "<text text-anchor=\"middle\" x=\"500\" y=\"-581.5\" font-family=\"monospace\" font-size=\"10.00\">AccumulateGrad</text>\n",
       "</g>\n",
       "<!-- 6143674880&#45;&gt;6143687072 -->\n",
       "<g id=\"edge26\" class=\"edge\">\n",
       "<title>6143674880&#45;&gt;6143687072</title>\n",
       "<path fill=\"none\" stroke=\"black\" d=\"M500,-575.58C500,-569.07 500,-559.92 500,-551.62\"/>\n",
       "<polygon fill=\"black\" stroke=\"black\" points=\"503.5,-551.62 500,-541.62 496.5,-551.62 503.5,-551.62\"/>\n",
       "</g>\n",
       "<!-- 6142636944 -->\n",
       "<g id=\"node28\" class=\"node\">\n",
       "<title>6142636944</title>\n",
       "<polygon fill=\"lightblue\" stroke=\"black\" points=\"562,-661.5 438,-661.5 438,-631 562,-631 562,-661.5\"/>\n",
       "<text text-anchor=\"middle\" x=\"500\" y=\"-648\" font-family=\"monospace\" font-size=\"10.00\">conv1d_list.1.bias</text>\n",
       "<text text-anchor=\"middle\" x=\"500\" y=\"-636.75\" font-family=\"monospace\" font-size=\"10.00\"> (100)</text>\n",
       "</g>\n",
       "<!-- 6142636944&#45;&gt;6143674880 -->\n",
       "<g id=\"edge27\" class=\"edge\">\n",
       "<title>6142636944&#45;&gt;6143674880</title>\n",
       "<path fill=\"none\" stroke=\"black\" d=\"M500,-630.7C500,-623.46 500,-614.59 500,-606.69\"/>\n",
       "<polygon fill=\"black\" stroke=\"black\" points=\"503.5,-606.96 500,-596.96 496.5,-606.96 503.5,-606.96\"/>\n",
       "</g>\n",
       "<!-- 6143686112 -->\n",
       "<g id=\"node29\" class=\"node\">\n",
       "<title>6143686112</title>\n",
       "<polygon fill=\"lightgrey\" stroke=\"black\" points=\"686,-257.88 574,-257.88 574,-238.62 686,-238.62 686,-257.88\"/>\n",
       "<text text-anchor=\"middle\" x=\"630\" y=\"-244.38\" font-family=\"monospace\" font-size=\"10.00\">SqueezeBackward1</text>\n",
       "</g>\n",
       "<!-- 6143686112&#45;&gt;6143686160 -->\n",
       "<g id=\"edge28\" class=\"edge\">\n",
       "<title>6143686112&#45;&gt;6143686160</title>\n",
       "<path fill=\"none\" stroke=\"black\" d=\"M618.46,-238.31C606.85,-229.32 588.71,-215.26 574.62,-204.35\"/>\n",
       "<polygon fill=\"black\" stroke=\"black\" points=\"576.9,-201.69 566.85,-198.33 572.61,-207.22 576.9,-201.69\"/>\n",
       "</g>\n",
       "<!-- 6143685824 -->\n",
       "<g id=\"node30\" class=\"node\">\n",
       "<title>6143685824</title>\n",
       "<polygon fill=\"lightgrey\" stroke=\"black\" points=\"727,-318.75 615,-318.75 615,-299.5 727,-299.5 727,-318.75\"/>\n",
       "<text text-anchor=\"middle\" x=\"671\" y=\"-305.25\" font-family=\"monospace\" font-size=\"10.00\">SqueezeBackward1</text>\n",
       "</g>\n",
       "<!-- 6143685824&#45;&gt;6143686112 -->\n",
       "<g id=\"edge29\" class=\"edge\">\n",
       "<title>6143685824&#45;&gt;6143686112</title>\n",
       "<path fill=\"none\" stroke=\"black\" d=\"M664.77,-299.18C658.93,-290.8 650.03,-278.01 642.69,-267.47\"/>\n",
       "<polygon fill=\"black\" stroke=\"black\" points=\"645.74,-265.72 637.15,-259.52 639.99,-269.72 645.74,-265.72\"/>\n",
       "</g>\n",
       "<!-- 6143687312 -->\n",
       "<g id=\"node31\" class=\"node\">\n",
       "<title>6143687312</title>\n",
       "<polygon fill=\"lightgrey\" stroke=\"black\" points=\"807,-374 617,-374 617,-354.75 807,-354.75 807,-374\"/>\n",
       "<text text-anchor=\"middle\" x=\"712\" y=\"-360.5\" font-family=\"monospace\" font-size=\"10.00\">MaxPool2DWithIndicesBackward0</text>\n",
       "</g>\n",
       "<!-- 6143687312&#45;&gt;6143685824 -->\n",
       "<g id=\"edge30\" class=\"edge\">\n",
       "<title>6143687312&#45;&gt;6143685824</title>\n",
       "<path fill=\"none\" stroke=\"black\" d=\"M705.23,-354.58C699.68,-347.38 691.66,-336.96 684.77,-328.01\"/>\n",
       "<polygon fill=\"black\" stroke=\"black\" points=\"687.71,-326.1 678.84,-320.31 682.17,-330.37 687.71,-326.1\"/>\n",
       "</g>\n",
       "<!-- 6143674784 -->\n",
       "<g id=\"node32\" class=\"node\">\n",
       "<title>6143674784</title>\n",
       "<polygon fill=\"lightgrey\" stroke=\"black\" points=\"782,-429.25 658,-429.25 658,-410 782,-410 782,-429.25\"/>\n",
       "<text text-anchor=\"middle\" x=\"720\" y=\"-415.75\" font-family=\"monospace\" font-size=\"10.00\">UnsqueezeBackward0</text>\n",
       "</g>\n",
       "<!-- 6143674784&#45;&gt;6143687312 -->\n",
       "<g id=\"edge31\" class=\"edge\">\n",
       "<title>6143674784&#45;&gt;6143687312</title>\n",
       "<path fill=\"none\" stroke=\"black\" d=\"M718.68,-409.83C717.69,-403.24 716.29,-393.96 715.03,-385.57\"/>\n",
       "<polygon fill=\"black\" stroke=\"black\" points=\"718.52,-385.22 713.57,-375.86 711.6,-386.26 718.52,-385.22\"/>\n",
       "</g>\n",
       "<!-- 6143674688 -->\n",
       "<g id=\"node33\" class=\"node\">\n",
       "<title>6143674688</title>\n",
       "<polygon fill=\"lightgrey\" stroke=\"black\" points=\"801,-484.5 707,-484.5 707,-465.25 801,-465.25 801,-484.5\"/>\n",
       "<text text-anchor=\"middle\" x=\"754\" y=\"-471\" font-family=\"monospace\" font-size=\"10.00\">ReluBackward0</text>\n",
       "</g>\n",
       "<!-- 6143674688&#45;&gt;6143674784 -->\n",
       "<g id=\"edge32\" class=\"edge\">\n",
       "<title>6143674688&#45;&gt;6143674784</title>\n",
       "<path fill=\"none\" stroke=\"black\" d=\"M748.39,-465.08C743.88,-458.03 737.41,-447.9 731.79,-439.08\"/>\n",
       "<polygon fill=\"black\" stroke=\"black\" points=\"734.88,-437.43 726.55,-430.88 728.98,-441.2 734.88,-437.43\"/>\n",
       "</g>\n",
       "<!-- 6143674592&#45;&gt;6143674688 -->\n",
       "<g id=\"edge33\" class=\"edge\">\n",
       "<title>6143674592&#45;&gt;6143674688</title>\n",
       "<path fill=\"none\" stroke=\"black\" d=\"M768.19,-520.33C766.06,-513.67 763.06,-504.24 760.36,-495.78\"/>\n",
       "<polygon fill=\"black\" stroke=\"black\" points=\"763.7,-494.76 757.33,-486.3 757.04,-496.89 763.7,-494.76\"/>\n",
       "</g>\n",
       "<!-- 6143674496 -->\n",
       "<g id=\"node35\" class=\"node\">\n",
       "<title>6143674496</title>\n",
       "<polygon fill=\"lightgrey\" stroke=\"black\" points=\"826,-595 726,-595 726,-575.75 826,-575.75 826,-595\"/>\n",
       "<text text-anchor=\"middle\" x=\"776\" y=\"-581.5\" font-family=\"monospace\" font-size=\"10.00\">AccumulateGrad</text>\n",
       "</g>\n",
       "<!-- 6143674496&#45;&gt;6143674592 -->\n",
       "<g id=\"edge35\" class=\"edge\">\n",
       "<title>6143674496&#45;&gt;6143674592</title>\n",
       "<path fill=\"none\" stroke=\"black\" d=\"M775.17,-575.58C774.56,-568.99 773.68,-559.71 772.9,-551.32\"/>\n",
       "<polygon fill=\"black\" stroke=\"black\" points=\"776.4,-551.25 771.99,-541.62 769.44,-551.9 776.4,-551.25\"/>\n",
       "</g>\n",
       "<!-- 6143038784 -->\n",
       "<g id=\"node36\" class=\"node\">\n",
       "<title>6143038784</title>\n",
       "<polygon fill=\"lightblue\" stroke=\"black\" points=\"870,-661.5 734,-661.5 734,-631 870,-631 870,-661.5\"/>\n",
       "<text text-anchor=\"middle\" x=\"802\" y=\"-648\" font-family=\"monospace\" font-size=\"10.00\">conv1d_list.2.weight</text>\n",
       "<text text-anchor=\"middle\" x=\"802\" y=\"-636.75\" font-family=\"monospace\" font-size=\"10.00\"> (100, 300, 5)</text>\n",
       "</g>\n",
       "<!-- 6143038784&#45;&gt;6143674496 -->\n",
       "<g id=\"edge36\" class=\"edge\">\n",
       "<title>6143038784&#45;&gt;6143674496</title>\n",
       "<path fill=\"none\" stroke=\"black\" d=\"M795.57,-630.7C792.26,-623.2 788.18,-613.95 784.6,-605.85\"/>\n",
       "<polygon fill=\"black\" stroke=\"black\" points=\"787.86,-604.57 780.62,-596.84 781.46,-607.4 787.86,-604.57\"/>\n",
       "</g>\n",
       "<!-- 6143674544 -->\n",
       "<g id=\"node37\" class=\"node\">\n",
       "<title>6143674544</title>\n",
       "<polygon fill=\"lightgrey\" stroke=\"black\" points=\"972,-595 872,-595 872,-575.75 972,-575.75 972,-595\"/>\n",
       "<text text-anchor=\"middle\" x=\"922\" y=\"-581.5\" font-family=\"monospace\" font-size=\"10.00\">AccumulateGrad</text>\n",
       "</g>\n",
       "<!-- 6143674544&#45;&gt;6143674592 -->\n",
       "<g id=\"edge37\" class=\"edge\">\n",
       "<title>6143674544&#45;&gt;6143674592</title>\n",
       "<path fill=\"none\" stroke=\"black\" d=\"M896.38,-575.34C871.98,-566.74 834.99,-553.69 807.5,-544\"/>\n",
       "<polygon fill=\"black\" stroke=\"black\" points=\"808.76,-540.73 798.17,-540.71 806.43,-547.33 808.76,-540.73\"/>\n",
       "</g>\n",
       "<!-- 6143038864 -->\n",
       "<g id=\"node38\" class=\"node\">\n",
       "<title>6143038864</title>\n",
       "<polygon fill=\"lightblue\" stroke=\"black\" points=\"1012,-661.5 888,-661.5 888,-631 1012,-631 1012,-661.5\"/>\n",
       "<text text-anchor=\"middle\" x=\"950\" y=\"-648\" font-family=\"monospace\" font-size=\"10.00\">conv1d_list.2.bias</text>\n",
       "<text text-anchor=\"middle\" x=\"950\" y=\"-636.75\" font-family=\"monospace\" font-size=\"10.00\"> (100)</text>\n",
       "</g>\n",
       "<!-- 6143038864&#45;&gt;6143674544 -->\n",
       "<g id=\"edge38\" class=\"edge\">\n",
       "<title>6143038864&#45;&gt;6143674544</title>\n",
       "<path fill=\"none\" stroke=\"black\" d=\"M943.08,-630.7C939.51,-623.2 935.11,-613.95 931.26,-605.85\"/>\n",
       "<polygon fill=\"black\" stroke=\"black\" points=\"934.42,-604.35 926.97,-596.82 928.1,-607.35 934.42,-604.35\"/>\n",
       "</g>\n",
       "<!-- 6143673200 -->\n",
       "<g id=\"node39\" class=\"node\">\n",
       "<title>6143673200</title>\n",
       "<polygon fill=\"lightgrey\" stroke=\"black\" points=\"771,-197 671,-197 671,-177.75 771,-177.75 771,-197\"/>\n",
       "<text text-anchor=\"middle\" x=\"721\" y=\"-183.5\" font-family=\"monospace\" font-size=\"10.00\">AccumulateGrad</text>\n",
       "</g>\n",
       "<!-- 6143673200&#45;&gt;6143673152 -->\n",
       "<g id=\"edge39\" class=\"edge\">\n",
       "<title>6143673200&#45;&gt;6143673152</title>\n",
       "<path fill=\"none\" stroke=\"black\" d=\"M721,-177.58C721,-171.07 721,-161.92 721,-153.62\"/>\n",
       "<polygon fill=\"black\" stroke=\"black\" points=\"724.5,-153.62 721,-143.62 717.5,-153.62 724.5,-153.62\"/>\n",
       "</g>\n",
       "<!-- 6142321648 -->\n",
       "<g id=\"node40\" class=\"node\">\n",
       "<title>6142321648</title>\n",
       "<polygon fill=\"lightblue\" stroke=\"black\" points=\"774,-263.5 704,-263.5 704,-233 774,-233 774,-263.5\"/>\n",
       "<text text-anchor=\"middle\" x=\"739\" y=\"-250\" font-family=\"monospace\" font-size=\"10.00\">fc.weight</text>\n",
       "<text text-anchor=\"middle\" x=\"739\" y=\"-238.75\" font-family=\"monospace\" font-size=\"10.00\"> (2, 300)</text>\n",
       "</g>\n",
       "<!-- 6142321648&#45;&gt;6143673200 -->\n",
       "<g id=\"edge40\" class=\"edge\">\n",
       "<title>6142321648&#45;&gt;6143673200</title>\n",
       "<path fill=\"none\" stroke=\"black\" d=\"M734.55,-232.7C732.31,-225.37 729.56,-216.37 727.12,-208.41\"/>\n",
       "<polygon fill=\"black\" stroke=\"black\" points=\"730.49,-207.44 724.22,-198.9 723.79,-209.49 730.49,-207.44\"/>\n",
       "</g>\n",
       "<!-- 6143685872 -->\n",
       "<g id=\"node41\" class=\"node\">\n",
       "<title>6143685872</title>\n",
       "<polygon fill=\"lightgrey\" stroke=\"black\" points=\"889,-197 789,-197 789,-177.75 889,-177.75 889,-197\"/>\n",
       "<text text-anchor=\"middle\" x=\"839\" y=\"-183.5\" font-family=\"monospace\" font-size=\"10.00\">AccumulateGrad</text>\n",
       "</g>\n",
       "<!-- 6143685872&#45;&gt;6143673152 -->\n",
       "<g id=\"edge41\" class=\"edge\">\n",
       "<title>6143685872&#45;&gt;6143673152</title>\n",
       "<path fill=\"none\" stroke=\"black\" d=\"M818.98,-177.34C800.51,-169 772.79,-156.5 751.55,-146.91\"/>\n",
       "<polygon fill=\"black\" stroke=\"black\" points=\"753.05,-143.75 742.49,-142.83 750.17,-150.13 753.05,-143.75\"/>\n",
       "</g>\n",
       "<!-- 6109378064 -->\n",
       "<g id=\"node42\" class=\"node\">\n",
       "<title>6109378064</title>\n",
       "<polygon fill=\"lightblue\" stroke=\"black\" points=\"868,-263.5 810,-263.5 810,-233 868,-233 868,-263.5\"/>\n",
       "<text text-anchor=\"middle\" x=\"839\" y=\"-250\" font-family=\"monospace\" font-size=\"10.00\">fc.bias</text>\n",
       "<text text-anchor=\"middle\" x=\"839\" y=\"-238.75\" font-family=\"monospace\" font-size=\"10.00\"> (2)</text>\n",
       "</g>\n",
       "<!-- 6109378064&#45;&gt;6143685872 -->\n",
       "<g id=\"edge42\" class=\"edge\">\n",
       "<title>6109378064&#45;&gt;6143685872</title>\n",
       "<path fill=\"none\" stroke=\"black\" d=\"M839,-232.7C839,-225.46 839,-216.59 839,-208.69\"/>\n",
       "<polygon fill=\"black\" stroke=\"black\" points=\"842.5,-208.96 839,-198.96 835.5,-208.96 842.5,-208.96\"/>\n",
       "</g>\n",
       "</g>\n",
       "</svg>\n"
      ],
      "text/plain": [
       "<graphviz.graphs.Digraph at 0x16de6fd50>"
      ]
     },
     "execution_count": 46,
     "metadata": {},
     "output_type": "execute_result"
    }
   ],
   "source": [
    "make_dot(y.mean(), params=dict(model.named_parameters()))"
   ]
  },
  {
   "cell_type": "code",
   "execution_count": 47,
   "metadata": {},
   "outputs": [
    {
     "name": "stdout",
     "output_type": "stream",
     "text": [
      "[2, 140, 1253, 61, 1223, 124, 140, 1253, 2954, 61, 4795, 10576, 321, 10519, 49, 10577, 18, 10578, 44, 10579, 49, 214, 3015, 102, 10580, 10581, 18, 10311, 18, 10582, 679, 452, 191, 1299, 18, 3515, 13, 135, 16, 2659, 808, 526, 724, 61, 377, 3717, 679, 38, 5755, 10583, 11, 10584, 1495, 10585, 16, 526, 106, 10586, 1013, 18, 491, 1013, 16, 9, 10519, 49, 10577, 10587, 27, 10588, 10589, 10590, 13, 3148, 1709, 1476, 4590, 172, 7724, 214, 18, 5477, 18, 1709, 1783, 18, 121, 148, 140, 843, 308, 191, 1038, 247, 16, 10591, 526, 10592, 18, 13, 1738, 10585, 16, 106, 10586, 102, 1698, 61, 370, 18, 319, 129, 198, 10593, 76, 106, 526, 2059, 18, 129, 440, 136, 38, 10108, 23, 10594, 18, 151, 10595, 18, 1652, 10596, 18, 1652, 10596, 18, 129, 5113, 61, 6015, 99, 6464, 11, 4762, 18, 198, 1241, 133, 202, 16, 140, 1042, 11, 2615, 681, 18, 16, 183, 4491, 739, 18, 183, 290, 167, 10597, 18, 10598, 18, 183, 3969, 10599, 44, 151, 1854, 18, 129, 183, 136, 16, 106, 10600, 3321, 18, 129, 183, 3969, 4078, 18, 140, 2443, 133, 61, 526, 564, 2187, 828, 16, 3128, 808, 4360, 133, 61, 440, 828, 16, 4362, 61, 183, 3382, 18, 9281, 23, 10601, 13, 16, 600, 2615, 10602, 18, 1954, 106, 1495, 183, 17, 13, 10603, 15, 11, 13, 5147, 10604, 8076, 320, 56, 131, 10605, 82, 200, 49, 6777, 1025, 2482, 5147, 455, 16, 136, 38, 1827, 102, 56, 10606, 9057, 102, 56, 10607, 8131, 10608, 3, 470, 9057, 4561, 10609, 27, 10610, 61, 2724, 1495, 5147, 455, 40, 2165, 18, 40, 10611, 2647, 18, 40, 4179, 5107, 18, 10612, 23, 10613, 8257, 44, 3469, 10614, 3060, 52, 16, 183, 17, 11, 843, 183, 1715, 10615, 102, 1698, 61, 370, 18, 23, 421, 16, 377, 297, 385, 76, 843, 7447, 56, 2930, 23, 10616, 11, 334, 247, 453, 23, 387, 18, 13, 2341, 3403, 111, 593, 10617, 980, 1331, 61, 157, 18, 5477, 18, 157, 198, 775, 40, 1417, 18, 10609, 18, 10618, 18, 2, 129, 99, 126, 23, 10618, 10010, 10619, 10620, 2531, 10621, 102, 2079, 3209, 10622, 61, 9547, 61, 10623, 61, 10624, 53, 10625, 59, 735, 144, 109, 16, 129, 9657, 9, 4688, 10621, 5252, 61, 10626, 61, 40, 10627, 10628, 18, 3528, 76, 27, 1086, 1709, 5147, 10585, 17, 2889, 402, 388, 18, 4298, 18, 7078, 10629, 23, 7959, 49, 131, 16, 129, 308, 1023, 319, 140, 3652, 3, 7724, 571, 61, 23, 10037, 18, 49, 131, 16, 129, 1725, 10630, 61, 7078, 3, 566, 571, 18, 76, 106, 140, 526, 183, 2348, 381, 191, 1644, 247, 5147, 6062, 18, 126, 131, 16, 3969, 5058, 11, 9649, 18, 165, 13, 16, 129, 350, 3065, 10631, 13, 1063, 61, 526, 106, 564, 76, 38, 3001, 18, 2, 140, 62, 351, 23, 10037, 61, 10632, 61, 1384, 3, 324, 18, 390, 16, 129, 526, 216, 6532, 13, 10633, 18, 27, 5154, 61, 13, 1630, 11, 10610, 18, 138, 140, 10634, 27, 2111, 18, 10635, 191, 453, 23, 129, 16, 526, 2554, 40, 3146, 18, 980, 405, 18, 109, 10610, 18, 9288, 11, 13, 2236, 124, 76, 1013, 124, 76, 6, 124, 76, 125, 144, 18, 65, 9673, 124, 2691, 140, 10636, 61, 198, 10637, 61, 350, 653, 18, 129, 1666, 13, 2215, 18, 2428, 151, 18, 390, 16, 140, 183, 10638, 183, 10639, 167, 1815, 18, 180, 9, 10519, 49, 10577, 16, 10640, 13, 135, 191, 1299, 18, 520, 452, 23, 3094, 18, 76, 106, 183, 106, 10641, 11, 204, 4073, 61, 653, 204, 3636, 18, 377, 3523, 295, 13, 10585, 10642, 11, 316, 18, 23, 5260, 16, 10643, 13, 2387, 10644, 1442, 1013, 320, 351, 8745, 11, 26, 144, 18, 140, 3, 571, 247, 135, 124, 653, 18, 5477, 18, 208, 2214, 18, 518, 61, 6477, 18, 10645, 18, 183, 4917, 18, 544, 18, 6304, 124, 2, 9, 2214, 693, 76, 4196, 10646, 320, 10647, 491, 220, 65, 13, 347, 109, 16, 10648, 3, 7724, 3987, 124, 1671, 18, 1671, 18, 98, 1553, 40, 220, 18, 1671, 18, 1671, 124, 61, 159, 18, 129, 183, 10649, 167, 18, 183, 136, 9022, 18, 8569, 98, 887, 214, 18, 129, 183, 136, 4699, 61, 140, 18, 7633, 18, 61, 159, 18, 129, 183, 136, 10158, 18, 129, 390, 136, 10650, 18, 61, 140, 18, 10651, 18, 740, 10651, 18, 106, 183, 129, 3868, 18, 377, 186, 18, 82, 16, 183, 186, 852, 3, 566, 3987, 18, 61, 159, 18, 4038, 18, 183, 1013, 3060, 144, 18, 61, 140, 18, 2, 1177, 16, 151, 1630, 440, 785, 8745, 11, 26, 144, 124, 351, 18, 1641, 681, 124, 61, 159, 18, 129, 183, 136, 744, 448, 3, 1046, 18, 10103, 402, 183, 18, 183, 1491, 6035, 18, 17, 139, 124, 61, 1253, 7897, 18, 9, 811, 10652, 18, 121, 183, 425, 18, 121, 183, 3717, 18, 183, 1641, 18, 183, 615, 18, 121, 151, 1630, 183, 785, 8745, 11, 1026, 231, 18, 151, 1630, 27, 8254, 10653, 61, 260, 1441, 49, 142, 1089, 190, 11, 13, 3341, 9761, 18, 10654, 61, 377, 368, 735, 10655, 23, 895, 61, 6592, 3, 566, 571, 124]\n",
      "Esse parágrafo tem 71.03% de chance de ser Denser.\n"
     ]
    }
   ],
   "source": [
    "#Parágrafo extraido do conto \"Horizontes\" de Márcia Denser\n",
    "predict(\"Mas eu fui e voltei. Eu fui ontem e seriam 23h58 nos relógios da Paulista, 23h55 no farol da Casa Branca com Peixoto Gomide, porra, deviam estar andando ao contrário, contando o tempo que perdi ou já passou e então devo estar um bocado atrasada para desmanchar esse cirquinho que já se armou antes, muito antes que os relógios da Paulista começassem a contagem regressiva apontando o sentido desse passeio noturno à tua casa, Marcos, desse desvio, porque sou eu quem vai ao encontro do que praticamente já rodou, o tal cirquinho que se armou com unhas e dentes, embora você me recebesse como se já esperasse, você também tem um faro de perdigueiro, meu chapa, I know, I know, você comendo e  falando sem pausa para respirar, me deixar falar aquilo que eu vim para te dizer, que não somos nós, não há nada conosco, ok, não precisa embarcar no meu sonho, Você não tem que se arrebentar junto, você não precisa sofrer, eu tentando falar e já sentindo piedade daquilo que falava ou tentava falar e também daquilo que comia e não ouvia, repetindo de orelhada o que alguém te orelhou, ora se esse não é o gancho perfeito para o teu melodrama espanhol: uma mulher ansiosa por volta da meia-noite passando nesse teu apartamento que tem um vaso com uma arvorezinha seca com uma bandeirinha vermelha plantada na terra seca escrito Bem-vindo a Parati e observando esse teu apartamento tão pequeno, tão 21° andar, tão bloco C, caixinha de fósforos pairando no oceano cleptomaníaco dessa Cidade que não é para quem não pode conquistá-la com unhas e dentes, de maneira que então fica aí como quem comprou uma vitrine de doces para ficar do lado de fora, o nariz contra as luzes refletidas lá embaixo e isto, Marcos, isto me deixa tão triste, bem-vindo, welcome, mas você sem essa de welcome contudo botando filhodaputamente uns cds com aquelas músicas tristes e úmidas e burras e relembrando (reminds) aquela noite em que você botou os mesmos cds úmidos e burros e tão Philip Glass, percebe como a armação desse teu cirquinho é maluca? Roda, gira, sofrendo antecipadamente de saudades da mulher que você vai mandar embora eu esteja na tua frente e de touca, da mulher que você ama desesperadamente e sofrendo na minha frente, como se eu já não estivesse mais ao alcance do teu abraço, essa mulher que precisa beber para trepar, foi o que você disse subitamente desviando o rosto e já se sentindo como um vômito, mas eu ainda estava de touca e inocente e parada na sua, só que você já tinha dado o pira, a alma e o coração para Parati, enquanto eu tirava a roupa, deitava ao lado de você que já dormia tão distante, lá longe, em Parati, virado para o canto. Como antes. Como sempre. Como toda noite, até amanhecer. Daí eu levantei e me vesti e disse sim, você fez o possível, amor meu, só que eu não programei não engendrei nada disso, foram os relógios da Paulista que marcavam o tempo ao contrário, estavam andando de costas, como se não se importassem para onde iam e sim onde estiveram, então encontrei aqui o cirquinho armado para amanhã, de forma que flagrei o destino 24 horas antes: estava marcado para esta noite, eu na frente do tempo. Sim, Marcos, muitos problemas, meus e teus, individualmente, não nossos, claro, claríssimo. Mas os problemas são como velhos aquecedores: funcionam muito bem até o dia em que explodem na tua cara. Tique-taque, tique-taque, tudo ia tão bem, tique-taque, tique-taque. E ele, você não arruma nada, não tem estrutura, joga tudo pela casa, você não tem modos e eu, calada, e ele, você não tem grana, você só tem pose, e eu, enumere, vamos enumere, se não você cai, então diz, por que não diz logo na minha cara, e ele, misterioso, não antes dessa noite, e eu, mas acontece que meu coração também está marcado para esta noite. Estava, quero dizer. E ele, você não tem outra coisa na cabeça, garota? Não, não tenho saco, é isso. E fui descendo, os olhos mareados, porque não posso, porque não devo, não quero, não preciso, porque meu coração não está marcado para hora nenhuma, meu coração a ti pertence e às nove da manhã fiz sinal para o Vila Madalena, subi e então ri aquela muralha de corpos e bancos na minha frente.\")"
   ]
  },
  {
   "cell_type": "code",
   "execution_count": 48,
   "metadata": {},
   "outputs": [
    {
     "name": "stdout",
     "output_type": "stream",
     "text": [
      "[183, 122, 13, 5945, 5946, 247, 45, 34, 124, 27, 1508, 562, 5947, 1179, 18, 3, 623, 2435, 214, 124, 76, 56, 4747, 23, 997, 124, 447, 448, 5948, 18, 417, 1674, 964, 5949, 124]\n",
      "Esse parágrafo tem 87.98% de chance de ser Coutinho.\n"
     ]
    }
   ],
   "source": [
    "#Parágrafo extraido do conto \"Sagrada Família\" de Sônia Coutinho\n",
    "predict(\"Não era o vocabulário habitual do seu pai. A palavra caso soou estranha, na varanda daquela casa. Como uma fala de teatro. Alguma coisa ensaiada, dita num momento previsto.\")"
   ]
  },
  {
   "cell_type": "code",
   "execution_count": 49,
   "metadata": {},
   "outputs": [
    {
     "name": "stdout",
     "output_type": "stream",
     "text": [
      "[151, 1269, 17, 5946, 61, 76, 56, 4747, 1179, 14561, 1]\n",
      "Esse parágrafo tem 66.19% de chance de ser Coutinho.\n"
     ]
    }
   ],
   "source": [
    "#Frase inventada\n",
    "predict(\"Meu nome é habitual e como uma fala estranha abajur paralelepipedo\")"
   ]
  },
  {
   "cell_type": "code",
   "execution_count": 50,
   "metadata": {},
   "outputs": [
    {
     "name": "stdout",
     "output_type": "stream",
     "text": [
      "[808, 12337, 124]\n",
      "Esse parágrafo tem 53.78% de chance de ser Denser.\n"
     ]
    }
   ],
   "source": [
    "#Parágrafo extraido do conto \"Horizontes\" de Márcia Denser\n",
    "predict(\"Ou cruzes.\")"
   ]
  },
  {
   "cell_type": "code",
   "execution_count": 51,
   "metadata": {},
   "outputs": [
    {
     "data": {
      "text/plain": [
       "torch.Size([21344, 300])"
      ]
     },
     "execution_count": 51,
     "metadata": {},
     "output_type": "execute_result"
    }
   ],
   "source": [
    "embeddings.shape"
   ]
  }
 ],
 "metadata": {
  "kernelspec": {
   "display_name": "Python 3",
   "language": "python",
   "name": "python3"
  },
  "language_info": {
   "codemirror_mode": {
    "name": "ipython",
    "version": 3
   },
   "file_extension": ".py",
   "mimetype": "text/x-python",
   "name": "python",
   "nbconvert_exporter": "python",
   "pygments_lexer": "ipython3",
   "version": "3.11.3"
  },
  "orig_nbformat": 4
 },
 "nbformat": 4,
 "nbformat_minor": 2
}
