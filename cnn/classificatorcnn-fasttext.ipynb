{
 "cells": [
  {
   "cell_type": "code",
   "execution_count": 18,
   "metadata": {},
   "outputs": [],
   "source": [
    "import time\n",
    "import nltk.tokenize as nt\n",
    "import json\n",
    "import torch\n",
    "import copy\n",
    "import numpy as np\n",
    "import matplotlib.pyplot as plt\n",
    "import random\n",
    "import time\n",
    "from torch.utils.data import (TensorDataset, DataLoader, RandomSampler,\n",
    "                              SequentialSampler)\n",
    "import torch\n",
    "import torch.nn as nn\n",
    "import torch.nn.functional as F\n",
    "import torch.optim as optim\n",
    "import sys\n",
    "\n",
    "sys.path.append('..')\n",
    "import datasetgenerator as dsg"
   ]
  },
  {
   "cell_type": "code",
   "execution_count": 19,
   "metadata": {},
   "outputs": [
    {
     "name": "stdout",
     "output_type": "stream",
     "text": [
      "Using mps device\n"
     ]
    }
   ],
   "source": [
    "device = (\n",
    "    \"cuda\"\n",
    "    if torch.cuda.is_available()\n",
    "    else \"mps\"\n",
    "    if torch.backends.mps.is_available()\n",
    "    else \"cpu\"\n",
    ")\n",
    "print(f\"Using {device} device\")"
   ]
  },
  {
   "cell_type": "code",
   "execution_count": 20,
   "metadata": {},
   "outputs": [],
   "source": [
    "if device == \"mps\":\n",
    "    dtype_value_torch = dtype=torch.float32\n",
    "    dtype_value_np = dtype=np.float32\n",
    "else:\n",
    "    dtype_value_torch = dtype=torch.float64\n",
    "    dtype_value_np = dtype=np.float64"
   ]
  },
  {
   "cell_type": "code",
   "execution_count": 21,
   "metadata": {},
   "outputs": [],
   "source": [
    "AUTHOR1 = \"coutinho-dataset\"\n",
    "AUTHOR2 = \"denser-dataset\"\n",
    "PATH_TO_RAW_DATA = \"data/raw/\"\n",
    "PATH_TO_PARSED_DATA = \"data/parsed/\"\n",
    "\n",
    "ds_gen = dsg.ds_gen()"
   ]
  },
  {
   "cell_type": "code",
   "execution_count": 22,
   "metadata": {},
   "outputs": [
    {
     "name": "stdout",
     "output_type": "stream",
     "text": [
      "1614\n"
     ]
    }
   ],
   "source": [
    "len_data = ds_gen.get_data_length(dsg.ds_gen.DENSER, go_up_on_path=1)\n",
    "print(len_data)"
   ]
  },
  {
   "cell_type": "code",
   "execution_count": 23,
   "metadata": {},
   "outputs": [],
   "source": [
    "dictAuthors = dict()"
   ]
  },
  {
   "cell_type": "code",
   "execution_count": 24,
   "metadata": {},
   "outputs": [],
   "source": [
    "def map_to_number(dict, word):\n",
    "    if(word in dict.keys()):\n",
    "        return dict.get(word)\n",
    "    else:\n",
    "        next_value = len(dict.keys())\n",
    "        dict.update({word: next_value})\n",
    "        return next_value"
   ]
  },
  {
   "cell_type": "code",
   "execution_count": 25,
   "metadata": {},
   "outputs": [
    {
     "data": {
      "text/plain": [
       "1"
      ]
     },
     "execution_count": 25,
     "metadata": {},
     "output_type": "execute_result"
    }
   ],
   "source": [
    "dictAuthors.update({\"padding\": 0})\n",
    "map_to_number(dictAuthors, \"unknown\")"
   ]
  },
  {
   "cell_type": "code",
   "execution_count": 26,
   "metadata": {},
   "outputs": [],
   "source": [
    "def tokenize_words_in_paragraph(paragraph, dict):\n",
    "    tensor = []\n",
    "    parsed_paragraph = nt.word_tokenize(paragraph)\n",
    "    for word in parsed_paragraph:\n",
    "        token = map_to_number(dict, word)\n",
    "        tensor.append(token)\n",
    "    return tensor"
   ]
  },
  {
   "cell_type": "code",
   "execution_count": 27,
   "metadata": {},
   "outputs": [],
   "source": [
    "def get_paragraph_size_list(paragraph_set):\n",
    "    paragraph_sizes = []\n",
    "    for paragraph in paragraph_set:\n",
    "        paragraph_size = len(paragraph)\n",
    "        paragraph_sizes.append(paragraph_size)\n",
    "    return paragraph_sizes"
   ]
  },
  {
   "cell_type": "code",
   "execution_count": 28,
   "metadata": {},
   "outputs": [],
   "source": [
    "train_dataset_1, test_dataset_1 = ds_gen.get_dataset_from_author(dsg.ds_gen.COUTINHO, 0.8, 1614, go_up_on_path=1)\n",
    "train_dataset_2, test_dataset_2 = ds_gen.get_dataset_from_author(dsg.ds_gen.DENSER, 0.8, 1614, go_up_on_path=1)"
   ]
  },
  {
   "cell_type": "code",
   "execution_count": 29,
   "metadata": {},
   "outputs": [],
   "source": [
    "train_dataset_1 = list(train_dataset_1.values())\n",
    "train_dataset_2 = list(train_dataset_2.values())\n",
    "test_dataset_1 = list(test_dataset_1.values())\n",
    "test_dataset_2 = list(test_dataset_2.values())"
   ]
  },
  {
   "cell_type": "code",
   "execution_count": 30,
   "metadata": {},
   "outputs": [],
   "source": [
    "train_dt_1_sizes = get_paragraph_size_list(train_dataset_1)\n",
    "train_dt_2_sizes = get_paragraph_size_list(train_dataset_2)\n",
    "test_dt_1_sizes = get_paragraph_size_list(test_dataset_1)\n",
    "test_dt_2_sizes = get_paragraph_size_list(test_dataset_2)"
   ]
  },
  {
   "cell_type": "code",
   "execution_count": 31,
   "metadata": {},
   "outputs": [],
   "source": [
    "train_dataset_raw_both = copy.deepcopy(train_dataset_1)\n",
    "train_dataset_raw_both.extend(train_dataset_2)"
   ]
  },
  {
   "cell_type": "code",
   "execution_count": 32,
   "metadata": {},
   "outputs": [],
   "source": [
    "test_dataset_raw_both = copy.deepcopy(test_dataset_1)\n",
    "test_dataset_raw_both.extend(test_dataset_2)"
   ]
  },
  {
   "cell_type": "code",
   "execution_count": 33,
   "metadata": {},
   "outputs": [],
   "source": [
    "\n",
    "train_labels = [0]*len(train_dataset_1)\n",
    "train_labels_2 = [1]*len(train_dataset_2)\n",
    "\n",
    "train_labels.extend(train_labels_2)"
   ]
  },
  {
   "cell_type": "code",
   "execution_count": 34,
   "metadata": {},
   "outputs": [],
   "source": [
    "test_labels = [0]*len(test_dataset_1)\n",
    "test_labels_2 = [1]*len(test_dataset_2)\n",
    "\n",
    "test_labels.extend(test_labels_2)"
   ]
  },
  {
   "cell_type": "code",
   "execution_count": 35,
   "metadata": {},
   "outputs": [],
   "source": [
    "all_data = copy.deepcopy(train_dt_1_sizes)\n",
    "all_data.extend(train_dt_2_sizes)\n",
    "all_data.extend(test_dt_1_sizes)\n",
    "all_data.extend(test_dt_2_sizes)"
   ]
  },
  {
   "cell_type": "code",
   "execution_count": 36,
   "metadata": {},
   "outputs": [
    {
     "name": "stdout",
     "output_type": "stream",
     "text": [
      "521.0\n"
     ]
    },
    {
     "data": {
      "text/plain": [
       "<matplotlib.lines.Line2D at 0x2880bbe90>"
      ]
     },
     "execution_count": 36,
     "metadata": {},
     "output_type": "execute_result"
    },
    {
     "data": {
      "image/png": "[encoded data removed]",
      "text/plain": [
       "<Figure size 640x480 with 1 Axes>"
      ]
     },
     "metadata": {},
     "output_type": "display_data"
    }
   ],
   "source": [
    "plt.plot(all_data)\n",
    "percetile = np.percentile(all_data, 85)\n",
    "print(percetile)\n",
    "plt.axhline(y=percetile, color=\"red\")"
   ]
  },
  {
   "cell_type": "code",
   "execution_count": 37,
   "metadata": {},
   "outputs": [],
   "source": [
    "train_dt_2_sizes = get_paragraph_size_list(train_dataset_2)"
   ]
  },
  {
   "cell_type": "code",
   "execution_count": 38,
   "metadata": {},
   "outputs": [],
   "source": [
    "def normalize_data(data, rule):\n",
    "    while (len(data) < rule):\n",
    "        data.append(0)\n",
    "\n",
    "    if(len(data) > rule):\n",
    "        data = data[0:rule]\n",
    "    return data "
   ]
  },
  {
   "cell_type": "code",
   "execution_count": 39,
   "metadata": {},
   "outputs": [],
   "source": [
    "def tokenize_paragraph_set(paragraph_set):\n",
    "    tokenized_paragraph_set= []\n",
    "    for paragraph in paragraph_set:\n",
    "        lowered_paragraph = paragraph.lower()\n",
    "        tokenized_paragraph = tokenize_words_in_paragraph(lowered_paragraph, dictAuthors)\n",
    "        tokenized_paragraph = normalize_data(tokenized_paragraph, 520)\n",
    "        tokenized_paragraph_set.append(tokenized_paragraph)\n",
    "    return tokenized_paragraph_set"
   ]
  },
  {
   "cell_type": "code",
   "execution_count": 40,
   "metadata": {},
   "outputs": [],
   "source": [
    "tokenized_set1 = tokenize_paragraph_set(train_dataset_1)"
   ]
  },
  {
   "cell_type": "code",
   "execution_count": 41,
   "metadata": {},
   "outputs": [],
   "source": [
    "tokenized_set2 = tokenize_paragraph_set(train_dataset_2)"
   ]
  },
  {
   "cell_type": "code",
   "execution_count": 42,
   "metadata": {},
   "outputs": [],
   "source": [
    "train_dataset_both_tokenized = copy.deepcopy(tokenized_set1)\n",
    "train_dataset_both_tokenized.extend(tokenized_set2)"
   ]
  },
  {
   "cell_type": "code",
   "execution_count": 43,
   "metadata": {},
   "outputs": [],
   "source": [
    "tokenized_test1 = tokenize_paragraph_set(test_dataset_1)"
   ]
  },
  {
   "cell_type": "code",
   "execution_count": 44,
   "metadata": {},
   "outputs": [
    {
     "name": "stdout",
     "output_type": "stream",
     "text": [
      "Parágrafo original:  Seus parentes moram em outra cidade\n",
      "Tokenização normalizada:  [19934, 687, 5058, 144, 176, 147, 0, 0, 0, 0, 0, 0, 0, 0, 0, 0, 0, 0, 0, 0, 0, 0, 0, 0, 0, 0, 0, 0, 0, 0, 0, 0, 0, 0, 0, 0, 0, 0, 0, 0, 0, 0, 0, 0, 0, 0, 0, 0, 0, 0, 0, 0, 0, 0, 0, 0, 0, 0, 0, 0, 0, 0, 0, 0, 0, 0, 0, 0, 0, 0, 0, 0, 0, 0, 0, 0, 0, 0, 0, 0, 0, 0, 0, 0, 0, 0, 0, 0, 0, 0, 0, 0, 0, 0, 0, 0, 0, 0, 0, 0, 0, 0, 0, 0, 0, 0, 0, 0, 0, 0, 0, 0, 0, 0, 0, 0, 0, 0, 0, 0, 0, 0, 0, 0, 0, 0, 0, 0, 0, 0, 0, 0, 0, 0, 0, 0, 0, 0, 0, 0, 0, 0, 0, 0, 0, 0, 0, 0, 0, 0, 0, 0, 0, 0, 0, 0, 0, 0, 0, 0, 0, 0, 0, 0, 0, 0, 0, 0, 0, 0, 0, 0, 0, 0, 0, 0, 0, 0, 0, 0, 0, 0, 0, 0, 0, 0, 0, 0, 0, 0, 0, 0, 0, 0, 0, 0, 0, 0, 0, 0, 0, 0, 0, 0, 0, 0, 0, 0, 0, 0, 0, 0, 0, 0, 0, 0, 0, 0, 0, 0, 0, 0, 0, 0, 0, 0, 0, 0, 0, 0, 0, 0, 0, 0, 0, 0, 0, 0, 0, 0, 0, 0, 0, 0, 0, 0, 0, 0, 0, 0, 0, 0, 0, 0, 0, 0, 0, 0, 0, 0, 0, 0, 0, 0, 0, 0, 0, 0, 0, 0, 0, 0, 0, 0, 0, 0, 0, 0, 0, 0, 0, 0, 0, 0, 0, 0, 0, 0, 0, 0, 0, 0, 0, 0, 0, 0, 0, 0, 0, 0, 0, 0, 0, 0, 0, 0, 0, 0, 0, 0, 0, 0, 0, 0, 0, 0, 0, 0, 0, 0, 0, 0, 0, 0, 0, 0, 0, 0, 0, 0, 0, 0, 0, 0, 0, 0, 0, 0, 0, 0, 0, 0, 0, 0, 0, 0, 0, 0, 0, 0, 0, 0, 0, 0, 0, 0, 0, 0, 0, 0, 0, 0, 0, 0, 0, 0, 0, 0, 0, 0, 0, 0, 0, 0, 0, 0, 0, 0, 0, 0, 0, 0, 0, 0, 0, 0, 0, 0, 0, 0, 0, 0, 0, 0, 0, 0, 0, 0, 0, 0, 0, 0, 0, 0, 0, 0, 0, 0, 0, 0, 0, 0, 0, 0, 0, 0, 0, 0, 0, 0, 0, 0, 0, 0, 0, 0, 0, 0, 0, 0, 0, 0, 0, 0, 0, 0, 0, 0, 0, 0, 0, 0, 0, 0, 0, 0, 0, 0, 0, 0, 0, 0, 0, 0, 0, 0, 0, 0, 0, 0, 0, 0, 0, 0, 0, 0, 0, 0, 0, 0, 0, 0, 0, 0, 0, 0, 0, 0, 0, 0, 0, 0, 0, 0, 0, 0, 0, 0, 0, 0, 0, 0, 0, 0, 0, 0, 0, 0, 0, 0, 0, 0, 0, 0, 0, 0, 0, 0, 0, 0, 0, 0, 0, 0, 0, 0, 0, 0, 0, 0]\n"
     ]
    }
   ],
   "source": [
    "paragrafo_original = \"Seus parentes moram em outra cidade\"\n",
    "paragrafo_tokenizado = tokenize_words_in_paragraph(paragrafo_original, dictAuthors)\n",
    "paragrafo_normalizado = normalize_data(paragrafo_tokenizado, 520)\n",
    "print(\"Parágrafo original: \", paragrafo_original)\n",
    "print(\"Tokenização normalizada: \",paragrafo_normalizado)"
   ]
  },
  {
   "cell_type": "code",
   "execution_count": 45,
   "metadata": {},
   "outputs": [],
   "source": [
    "tokenized_test2 = tokenize_paragraph_set(test_dataset_2)"
   ]
  },
  {
   "cell_type": "code",
   "execution_count": 46,
   "metadata": {},
   "outputs": [],
   "source": [
    "test_dataset_both_tokenized = copy.deepcopy(tokenized_test1)\n",
    "test_dataset_both_tokenized.extend(tokenized_test2)"
   ]
  },
  {
   "cell_type": "code",
   "execution_count": 47,
   "metadata": {},
   "outputs": [
    {
     "data": {
      "text/plain": [
       "<function TextIOWrapper.close()>"
      ]
     },
     "execution_count": 47,
     "metadata": {},
     "output_type": "execute_result"
    }
   ],
   "source": [
    "with open('authorsDict.json', 'w', encoding='utf-8') as f:\n",
    "    json.dump(dictAuthors, f, ensure_ascii=False, indent=4)\n",
    "f.close"
   ]
  },
  {
   "cell_type": "code",
   "execution_count": 48,
   "metadata": {},
   "outputs": [],
   "source": [
    "def load_pretrained_vectors(word2idx, fname):\n",
    "    \n",
    "    print(\"Loading pretrained vectors...\")\n",
    "    fin = open(fname, 'r', encoding='utf-8', newline='\\n', errors='ignore')\n",
    "    n, d = map(int, fin.readline().split())\n",
    "\n",
    "    print(n)\n",
    "    print(d)\n",
    "\n",
    "    embeddings = np.random.uniform(-0.25, 0.25, (len(word2idx), d))\n",
    "    embeddings[word2idx['padding']] = np.zeros((d,))\n",
    "\n",
    "    count = 0\n",
    "    for line in fin:\n",
    "        tokens = line.rstrip().split(' ')\n",
    "        word = tokens[0]\n",
    "        if word in word2idx:\n",
    "            count += 1\n",
    "            embeddings[word2idx[word]] = np.array(tokens[1:], dtype=dtype_value_np)\n",
    "\n",
    "    print(f\"There are {count} / {len(word2idx)} pretrained vectors found.\")\n",
    "\n",
    "    return embeddings"
   ]
  },
  {
   "cell_type": "code",
   "execution_count": 49,
   "metadata": {},
   "outputs": [
    {
     "name": "stdout",
     "output_type": "stream",
     "text": [
      "Loading pretrained vectors...\n",
      "2000000\n",
      "300\n",
      "There are 20198 / 21424 pretrained vectors found.\n"
     ]
    }
   ],
   "source": [
    "# Run the following command lines on the repo's root folder to download the embedding file and uncompress it.\n",
    "# curl https://dl.fbaipublicfiles.com/fasttext/vectors-crawl/cc.pt.300.vec.gz --output cc.pt.300.vec.gz\n",
    "# gzip -dk cc.pt.300.vec.gz\n",
    "embeddings = load_pretrained_vectors(dictAuthors, \"../cc.pt.300.vec\")\n",
    "embeddings = torch.tensor(embeddings)"
   ]
  },
  {
   "cell_type": "code",
   "execution_count": 50,
   "metadata": {},
   "outputs": [],
   "source": [
    "def data_loader(train_inputs, test_inputs, train_labels, test_labels,\n",
    "                batch_size=50):\n",
    "   \n",
    "    train_inputs, test_inputs, train_labels, test_labels =\\\n",
    "    tuple(torch.tensor(data) for data in\n",
    "          [train_inputs, test_inputs, train_labels, test_labels])\n",
    "\n",
    "    batch_size = 50\n",
    "\n",
    "    train_data = TensorDataset(train_inputs, train_labels)\n",
    "    train_sampler = RandomSampler(train_data)\n",
    "    train_dataloader = DataLoader(train_data, sampler=train_sampler, batch_size=batch_size)\n",
    "\n",
    "    test_data = TensorDataset(test_inputs, test_labels)\n",
    "    test_sampler = SequentialSampler(test_data)\n",
    "    test_dataloader = DataLoader(test_data, sampler=test_sampler, batch_size=batch_size)\n",
    "\n",
    "    return train_dataloader, test_dataloader"
   ]
  },
  {
   "cell_type": "code",
   "execution_count": 51,
   "metadata": {},
   "outputs": [],
   "source": [
    "\n",
    "train_dataloader, test_dataloader = data_loader(train_dataset_both_tokenized, test_dataset_both_tokenized, train_labels, test_labels, batch_size=50)"
   ]
  },
  {
   "cell_type": "code",
   "execution_count": 52,
   "metadata": {},
   "outputs": [],
   "source": [
    "filter_sizes = [2, 3, 4]\n",
    "num_filters = [2, 2, 2]"
   ]
  },
  {
   "cell_type": "code",
   "execution_count": 53,
   "metadata": {},
   "outputs": [],
   "source": [
    "class CNN_NLP(nn.Module):\n",
    "    def __init__(self,\n",
    "                 pretrained_embedding=None,\n",
    "                 freeze_embedding=False,\n",
    "                 vocab_size=None,\n",
    "                 embed_dim=300,\n",
    "                 filter_sizes=[3, 4, 5],\n",
    "                 num_filters=[100, 100, 100],\n",
    "                 num_classes=2,\n",
    "                 dropout=0.5):\n",
    "        \n",
    "        super(CNN_NLP, self).__init__()\n",
    "        \n",
    "        if pretrained_embedding is not None:\n",
    "            self.vocab_size, self.embed_dim = pretrained_embedding.shape\n",
    "            self.embedding = nn.Embedding.from_pretrained(pretrained_embedding,\n",
    "                                                          freeze=freeze_embedding)\n",
    "        else:\n",
    "            self.embed_dim = embed_dim\n",
    "            self.embedding = nn.Embedding(num_embeddings=vocab_size,\n",
    "                                          embedding_dim=self.embed_dim,\n",
    "                                          padding_idx=0,\n",
    "                                          max_norm=5.0)\n",
    "       \n",
    "        self.conv1d_list = nn.ModuleList([\n",
    "            nn.Conv1d(in_channels=self.embed_dim,\n",
    "                      out_channels=num_filters[i],\n",
    "                      kernel_size=filter_sizes[i])\n",
    "            for i in range(len(filter_sizes))\n",
    "        ])\n",
    "       \n",
    "        self.fc = nn.Linear(np.sum(num_filters), num_classes)\n",
    "        self.dropout = nn.Dropout(p=dropout)\n",
    "\n",
    "    def forward(self, input_ids):\n",
    "        \n",
    "        x_embed = self.embedding(input_ids)\n",
    "\n",
    "        x_reshaped = x_embed.permute(0, 2, 1)\n",
    "\n",
    "        x_conv_list = [F.relu(conv1d(x_reshaped)) for conv1d in self.conv1d_list]\n",
    "\n",
    "        x_pool_list = [F.max_pool1d(x_conv, kernel_size=x_conv.shape[2])\n",
    "            for x_conv in x_conv_list]\n",
    "        \n",
    "        x_fc = torch.cat([x_pool.squeeze(dim=2) for x_pool in x_pool_list],\n",
    "                         dim=1)\n",
    "        \n",
    "        logits = self.fc(self.dropout(x_fc))\n",
    "\n",
    "        return logits"
   ]
  },
  {
   "cell_type": "code",
   "execution_count": 54,
   "metadata": {},
   "outputs": [],
   "source": [
    "loss_fn = nn.CrossEntropyLoss()"
   ]
  },
  {
   "cell_type": "code",
   "execution_count": 55,
   "metadata": {},
   "outputs": [],
   "source": [
    "def set_seed(seed_value=42):\n",
    "\n",
    "    random.seed(seed_value)\n",
    "    np.random.seed(seed_value)\n",
    "    torch.manual_seed(seed_value)\n",
    "    torch.cuda.manual_seed_all(seed_value)"
   ]
  },
  {
   "cell_type": "code",
   "execution_count": 56,
   "metadata": {},
   "outputs": [],
   "source": [
    "def evaluate(model, test_dataloader):\n",
    "    model.eval()\n",
    "    evaluation_start_time = time.time()\n",
    "    test_accuracy = []\n",
    "    test_loss = []\n",
    "    for batch in test_dataloader:\n",
    "        b_input_ids, b_labels = tuple(t.to(device) for t in batch)\n",
    "\n",
    "        with torch.no_grad():\n",
    "            logits = model(b_input_ids)\n",
    "\n",
    "        loss = loss_fn(logits, b_labels)\n",
    "        test_loss.append(loss.item())\n",
    "\n",
    "        preds = torch.argmax(logits, dim=1).flatten()\n",
    "\n",
    "        accuracy = (preds == b_labels).cpu().numpy().mean() * 100\n",
    "        test_accuracy.append(accuracy)\n",
    "        \n",
    "    test_loss = np.mean(test_loss)\n",
    "    test_accuracy = np.mean(test_accuracy)\n",
    "\n",
    "    return test_loss, test_accuracy"
   ]
  },
  {
   "cell_type": "code",
   "execution_count": 57,
   "metadata": {},
   "outputs": [],
   "source": [
    "def train(model, optimizer, train_dataloader, test_dataloader=None, epochs=10):\n",
    "\n",
    "    best_accuracy = 0\n",
    "    training_start_time = time.time()\n",
    "    test_acc_hist=[]\n",
    "    test_loss_hist=[]\n",
    "    time_elapsed_hist=[]\n",
    "    best_acc_hist=[]\n",
    "\n",
    "\n",
    "    print(\"Start training...\\n\")\n",
    "    print(f\"{'Epoch':^7} | {'Train Loss':^12} | {'Test Loss':^10} | {'Test Acc':^9} | {'Elapsed':^9}\")\n",
    "    print(\"-\"*60)\n",
    "\n",
    "    for epoch_i in range(epochs):\n",
    "     \n",
    "        t0_epoch = time.time()\n",
    "        total_loss = 0\n",
    "\n",
    "        model.train()\n",
    "\n",
    "        for step, batch in enumerate(train_dataloader):\n",
    "           \n",
    "            b_input_ids, b_labels = tuple(t.to(device) for t in batch)\n",
    "            model.zero_grad()\n",
    "            logits = model(b_input_ids)\n",
    "            loss = loss_fn(logits, b_labels)\n",
    "            total_loss += loss.item()\n",
    "            loss.backward()\n",
    "            optimizer.step()\n",
    "\n",
    "        avg_train_loss = total_loss / len(train_dataloader)\n",
    "\n",
    "        if test_dataloader is not None:\n",
    "            test_loss, test_accuracy = evaluate(model, test_dataloader)\n",
    "            if test_accuracy > best_accuracy:\n",
    "                best_accuracy = test_accuracy\n",
    "                best_acc_hist.append(best_accuracy)\n",
    "            time_elapsed = time.time() - t0_epoch\n",
    "            print(f\"{epoch_i + 1:^7} | {avg_train_loss:^12.6f} | {test_loss:^10.6f} | {test_accuracy:^9.2f} | {time_elapsed:^9.2f}\")\n",
    "            \n",
    "        test_acc_hist.append(test_accuracy)\n",
    "        test_loss_hist.append(test_loss)\n",
    "        time_elapsed_hist.append(time_elapsed)\n",
    "\n",
    "    print(\"\\n\")\n",
    "    print(f\"Training complete! Best accuracy: {best_accuracy:.2f}%.\")\n",
    "    print('Training finished, took {:.2f}s'.format(time.time() - training_start_time))\n",
    "\n",
    "    figure, axis = plt.subplots(2, 2)\n",
    "\n",
    "    axis[0, 0].plot(test_acc_hist) \n",
    "\n",
    "    axis[0, 1].plot(test_loss_hist) \n",
    "\n",
    "    axis[1, 0].plot(time_elapsed_hist) \n",
    "  \n",
    "    axis[1, 1].plot(best_acc_hist) \n",
    "\n",
    "    plt.show() \n"
   ]
  },
  {
   "cell_type": "code",
   "execution_count": 58,
   "metadata": {},
   "outputs": [],
   "source": [
    "def initialize_model(pretrained_embedding=None,\n",
    "                    freeze_embedding=False,\n",
    "                    vocab_size=None,\n",
    "                    embed_dim=300,\n",
    "                    filter_sizes=[3, 4, 5],\n",
    "                    num_filters=[100, 100, 100],\n",
    "                    num_classes=2,\n",
    "                    dropout=0.5,\n",
    "                    learning_rate=0.01):\n",
    "\n",
    "    assert (len(filter_sizes) == len(num_filters))\n",
    "\n",
    "    cnn_model = CNN_NLP(pretrained_embedding=pretrained_embedding,\n",
    "                        freeze_embedding=freeze_embedding,\n",
    "                        vocab_size=vocab_size,\n",
    "                        embed_dim=embed_dim,\n",
    "                        filter_sizes=filter_sizes,\n",
    "                        num_filters=num_filters,\n",
    "                        num_classes=2,\n",
    "                        dropout=0.5)\n",
    "\n",
    "    cnn_model.to(device, dtype=dtype_value_torch)\n",
    "\n",
    "    optimizer = optim.Adadelta(cnn_model.parameters(), lr=learning_rate, rho=0.95)\n",
    "\n",
    "    return cnn_model, optimizer"
   ]
  },
  {
   "cell_type": "code",
   "execution_count": 59,
   "metadata": {},
   "outputs": [
    {
     "name": "stdout",
     "output_type": "stream",
     "text": [
      "Start training...\n",
      "\n",
      " Epoch  |  Train Loss  | Test Loss  | Test Acc  |  Elapsed \n",
      "------------------------------------------------------------\n",
      "   1    |   0.673130   |  0.639218  |   71.74   |   8.21   \n",
      "   2    |   0.625678   |  0.586797  |   72.64   |   7.66   \n",
      "   3    |   0.580487   |  0.552434  |   74.33   |   7.56   \n",
      "   4    |   0.553277   |  0.528186  |   74.01   |   7.55   \n",
      "   5    |   0.530142   |  0.506313  |   76.92   |   7.56   \n",
      "\n",
      "\n",
      "Training complete! Best accuracy: 76.92%.\n",
      "Training finished, took 38.54s\n"
     ]
    },
    {
     "data": {
      "image/png": "[encoded data removed]",
      "text/plain": [
       "<Figure size 640x480 with 4 Axes>"
      ]
     },
     "metadata": {},
     "output_type": "display_data"
    }
   ],
   "source": [
    "set_seed(42)\n",
    "cnn_non_static, optimizer = initialize_model(pretrained_embedding=embeddings,\n",
    "                                            freeze_embedding=False,\n",
    "                                            learning_rate=0.25,\n",
    "                                            dropout=0.5)\n",
    "train(cnn_non_static, optimizer, train_dataloader, test_dataloader, epochs=5)"
   ]
  },
  {
   "cell_type": "code",
   "execution_count": 60,
   "metadata": {},
   "outputs": [],
   "source": [
    "# set_seed(42)\n",
    "# cnn_non_static, optimizer = initialize_model(pretrained_embedding=embeddings,\n",
    "#                                             freeze_embedding=False,\n",
    "#                                             learning_rate=0.25,\n",
    "#                                             dropout=0.5)\n",
    "# train(cnn_non_static, optimizer, train_dataloader, test_dataloader, epochs=520)"
   ]
  },
  {
   "cell_type": "code",
   "execution_count": 61,
   "metadata": {},
   "outputs": [],
   "source": [
    "# set_seed(42)\n",
    "# cnn_non_static, optimizer = initialize_model(pretrained_embedding=embeddings,\n",
    "#                                             freeze_embedding=False,\n",
    "#                                             learning_rate=0.25,\n",
    "#                                             dropout=0.5)\n",
    "# train(cnn_non_static, optimizer, train_dataloader, test_dataloader, epochs=1040)"
   ]
  },
  {
   "cell_type": "code",
   "execution_count": 62,
   "metadata": {},
   "outputs": [],
   "source": [
    "def tokenize_words_in_paragraph_for_predict(paragraph, dict):\n",
    "    tensor = []\n",
    "    dict_lenght= len(dict)\n",
    "    parsed_paragraph = nt.word_tokenize(paragraph)\n",
    "    for word in parsed_paragraph:\n",
    "        token = map_to_number(dict, word)\n",
    "        if token > dict_lenght-2:\n",
    "            token = map_to_number(dict, \"unknown\")\n",
    "        tensor.append(token)\n",
    "    print(tensor) \n",
    "    return tensor"
   ]
  },
  {
   "cell_type": "code",
   "execution_count": 63,
   "metadata": {},
   "outputs": [],
   "source": [
    "def predict(text, model=cnn_non_static, max_len=520):\n",
    "\n",
    "    tokens = tokenize_words_in_paragraph_for_predict(text.lower(), dictAuthors)\n",
    "    padded_tokens = tokens + [0] * (max_len - len(tokens))\n",
    "\n",
    "    input_id = torch.tensor(padded_tokens).unsqueeze(dim=0)\n",
    "    model.to(device, dtype=dtype_value_torch)\n",
    "\n",
    "    logits = model.forward(input_id.to(device))\n",
    "    \n",
    "\n",
    "    probs = F.softmax(logits, dim=1).squeeze(dim=0)\n",
    "    print(padded_tokens)\n",
    "\n",
    "    if probs[1] > 0.5:\n",
    "        print(f\"Esse parágrafo tem {probs[1] * 100:.2f}% de chance de ser Denser.\")\n",
    "    else:\n",
    "        chance = 1 -probs[1]\n",
    "        print(f\"Esse parágrafo tem {chance * 100:.2f}% de chance de ser Coutinho.\")\n"
   ]
  },
  {
   "cell_type": "code",
   "execution_count": 64,
   "metadata": {},
   "outputs": [
    {
     "data": {
      "image/png": "[encoded data removed]",
      "text/plain": [
       "<Figure size 1200x700 with 2 Axes>"
      ]
     },
     "metadata": {},
     "output_type": "display_data"
    }
   ],
   "source": [
    "from sklearn.metrics import confusion_matrix\n",
    "import seaborn as sn\n",
    "import pandas as pd\n",
    "\n",
    "y_pred = []\n",
    "y_true = []\n",
    "\n",
    "for inputs, labels in test_dataloader:\n",
    "        output = cnn_non_static(inputs.to(device))\n",
    "\n",
    "        output = (torch.max(torch.exp(output), 1)[1]).data.cpu().numpy()\n",
    "        y_pred.extend(output) \n",
    "        \n",
    "        labels = labels.data.cpu().numpy()\n",
    "        y_true.extend(labels) \n",
    "\n",
    "classes = ('Coutinho', 'Denser')\n",
    "\n",
    "cf_matrix = confusion_matrix(y_true, y_pred)\n",
    "df_cm = pd.DataFrame(cf_matrix / np.sum(cf_matrix, axis=1)[:, None], index = [i for i in classes],\n",
    "                     columns = [i for i in classes])\n",
    "plt.figure(figsize = (12,7))\n",
    "sn.heatmap(df_cm, annot=True)\n",
    "plt.savefig('output.png')"
   ]
  },
  {
   "cell_type": "code",
   "execution_count": 65,
   "metadata": {},
   "outputs": [
    {
     "name": "stdout",
     "output_type": "stream",
     "text": [
      "Saved PyTorch Model State to cnnns.pth\n"
     ]
    }
   ],
   "source": [
    "torch.save(cnn_non_static.state_dict(), \"cnnns.pth\")\n",
    "print(\"Saved PyTorch Model State to cnnns.pth\")"
   ]
  },
  {
   "cell_type": "code",
   "execution_count": 66,
   "metadata": {},
   "outputs": [
    {
     "data": {
      "text/plain": [
       "<All keys matched successfully>"
      ]
     },
     "execution_count": 66,
     "metadata": {},
     "output_type": "execute_result"
    }
   ],
   "source": [
    "model = cnn_non_static.to(device, dtype=dtype_value_torch)\n",
    "model.load_state_dict(torch.load(\"cnnns.pth\"))"
   ]
  },
  {
   "cell_type": "code",
   "execution_count": 67,
   "metadata": {},
   "outputs": [
    {
     "name": "stdout",
     "output_type": "stream",
     "text": [
      "[41, 182, 591, 18, 5414, 6, 182, 591, 6098, 18, 3516, 11022, 271, 10627, 16, 9722, 4, 11023, 42, 11024, 16, 191, 2356, 25, 11025, 11026, 4, 10628, 4, 11027, 1288, 1188, 21, 1773, 4, 198, 44, 303, 26, 3336, 146, 642, 448, 18, 275, 2810, 1288, 84, 1303, 11028, 103, 3092, 943, 11029, 26, 642, 27, 11030, 382, 4, 91, 382, 26, 53, 10627, 16, 9722, 11031, 29, 11032, 11033, 11034, 44, 1170, 1146, 6489, 1552, 207, 2491, 191, 4, 1901, 4, 1146, 5041, 4, 1710, 1761, 182, 426, 124, 21, 3233, 149, 26, 11035, 642, 11036, 4, 44, 4838, 11029, 26, 27, 11030, 25, 4094, 18, 988, 4, 370, 164, 195, 11037, 52, 27, 642, 3365, 4, 164, 1419, 159, 84, 11038, 31, 11039, 4, 315, 11040, 4, 3454, 11041, 4, 3454, 11041, 4, 164, 2485, 18, 129, 167, 6533, 103, 5381, 4, 195, 1223, 1988, 1556, 26, 182, 6465, 103, 141, 225, 4, 26, 3, 2833, 343, 4, 3, 138, 48, 11042, 4, 9758, 4, 3, 1144, 9555, 42, 315, 2541, 4, 164, 3, 159, 26, 27, 11043, 2183, 4, 164, 3, 1144, 4975, 4, 182, 1014, 1988, 18, 642, 2077, 6276, 2721, 26, 3679, 146, 8412, 1988, 18, 1419, 2721, 26, 10967, 18, 3, 1553, 4, 5841, 31, 11044, 44, 26, 156, 141, 11045, 4, 12, 27, 943, 3, 9, 44, 11046, 1663, 103, 44, 2490, 11047, 8541, 380, 104, 839, 11048, 10, 480, 16, 1473, 626, 242, 2490, 700, 26, 159, 84, 289, 25, 104, 11049, 6952, 25, 104, 11050, 2044, 11051, 221, 384, 6952, 2723, 11052, 29, 11053, 18, 1749, 943, 2490, 700, 211, 922, 4, 211, 11054, 738, 4, 211, 5713, 6437, 4, 11055, 31, 11056, 7415, 42, 8485, 11057, 2290, 147, 26, 3, 9, 103, 426, 3, 771, 11058, 25, 4094, 18, 988, 4, 31, 858, 26, 275, 737, 11, 52, 426, 2776, 104, 8287, 31, 3754, 103, 817, 149, 496, 31, 959, 4, 44, 3493, 1190, 169, 483, 10386, 157, 619, 18, 799, 4, 1901, 4, 799, 195, 2571, 211, 1451, 4, 11052, 4, 11059, 4, 41, 164, 167, 190, 31, 11059, 10815, 11060, 11061, 1241, 11062, 25, 2327, 2754, 11063, 18, 4609, 18, 11064, 18, 10880, 227, 11065, 231, 683, 163, 144, 26, 164, 6980, 53, 2649, 11062, 6560, 18, 10791, 18, 211, 11066, 11067, 4, 2643, 52, 29, 3665, 1146, 2490, 11029, 9, 1811, 131, 5081, 4, 2765, 4, 5330, 10665, 31, 3651, 16, 839, 26, 164, 124, 155, 370, 182, 5885, 221, 2491, 532, 18, 31, 11068, 4, 16, 839, 26, 164, 8887, 11069, 18, 5330, 221, 337, 532, 4, 52, 27, 182, 642, 3, 175, 160, 21, 9706, 149, 2490, 9265, 4, 190, 839, 26, 1144, 1885, 103, 9229, 4, 342, 44, 26, 164, 506, 4806, 11070, 44, 1417, 18, 642, 27, 2077, 52, 84, 1491, 4, 41, 182, 406, 1403, 31, 11068, 18, 11071, 18, 3200, 221, 300, 4, 746, 26, 164, 642, 389, 1930, 44, 11072, 4, 29, 4206, 18, 44, 3724, 103, 11053, 4, 487, 182, 11073, 29, 777, 4, 11074, 21, 496, 31, 164, 26, 642, 3570, 211, 3694, 4, 157, 752, 4, 144, 11053, 4, 11075, 103, 44, 3630, 6, 52, 382, 6, 52, 46, 6, 52, 296, 163, 4, 253, 5615, 6, 4005, 182, 11076, 18, 195, 11077, 18, 506, 152, 4, 164, 1943, 44, 3864, 4, 1745, 315, 4, 746, 26, 182, 3, 11078, 3, 11079, 48, 804, 4, 415, 53, 10627, 16, 9722, 26, 11080, 44, 303, 21, 1773, 4, 814, 1188, 31, 2879, 4, 52, 27, 3, 27, 11081, 103, 471, 2002, 18, 152, 471, 5870, 4, 275, 634, 447, 44, 11029, 11082, 103, 2264, 4, 31, 1597, 26, 11083, 44, 111, 9710, 521, 382, 380, 1403, 3548, 103, 698, 163, 4, 182, 221, 532, 149, 303, 6, 152, 4, 1901, 4, 413, 2101, 4, 264, 18, 7064, 4, 11084, 4, 3, 8351, 4, 298, 4, 5955, 6, 41, 53, 2101, 319, 52, 2751, 11085, 380, 11086, 91, 92, 253, 44, 206, 144, 26, 11087, 221, 2491, 3415, 6, 4485, 4, 4485, 4, 332, 3094, 211, 92, 4, 4485, 4, 4485, 6, 18, 89, 4, 164, 3, 11088, 48, 4, 3, 159, 9482, 4, 6719, 332, 635, 191, 4, 164, 3, 159, 2666, 18, 182, 4, 6378, 4, 18, 89, 4, 164, 3, 159, 11089, 4, 164, 746, 159, 10119, 4, 18, 182, 4, 5520, 4, 1767, 5520, 4, 27, 3, 164, 535, 4, 275, 1822, 4, 10, 26, 3, 1822, 881, 221, 337, 3415, 4, 18, 89, 4, 4842, 4, 3, 382, 2290, 163, 4, 18, 182, 4, 41, 430, 26, 315, 3724, 1419, 335, 3548, 103, 698, 163, 6, 1403, 4, 650, 225, 6, 18, 89, 4, 164, 3, 159, 176, 179, 221, 590, 4, 5265, 131, 3, 4, 3, 186, 6738, 4, 9, 376, 6, 18, 591, 6778, 4, 53, 605, 11090, 4, 1710, 3, 154, 4, 1710, 3, 2810, 4, 3, 650, 4, 3, 14, 4, 1710, 315, 3724, 3, 335, 3548, 103, 699, 603, 4, 315, 3724, 29, 11091, 11092, 18, 516, 7505, 16, 1096, 2205, 1753, 103, 44, 11093, 10526, 4, 7734, 18, 275, 5248, 683, 11094, 31, 3606, 18, 9287, 221, 337, 532, 6]\n",
      "[41, 182, 591, 18, 5414, 6, 182, 591, 6098, 18, 3516, 11022, 271, 10627, 16, 9722, 4, 11023, 42, 11024, 16, 191, 2356, 25, 11025, 11026, 4, 10628, 4, 11027, 1288, 1188, 21, 1773, 4, 198, 44, 303, 26, 3336, 146, 642, 448, 18, 275, 2810, 1288, 84, 1303, 11028, 103, 3092, 943, 11029, 26, 642, 27, 11030, 382, 4, 91, 382, 26, 53, 10627, 16, 9722, 11031, 29, 11032, 11033, 11034, 44, 1170, 1146, 6489, 1552, 207, 2491, 191, 4, 1901, 4, 1146, 5041, 4, 1710, 1761, 182, 426, 124, 21, 3233, 149, 26, 11035, 642, 11036, 4, 44, 4838, 11029, 26, 27, 11030, 25, 4094, 18, 988, 4, 370, 164, 195, 11037, 52, 27, 642, 3365, 4, 164, 1419, 159, 84, 11038, 31, 11039, 4, 315, 11040, 4, 3454, 11041, 4, 3454, 11041, 4, 164, 2485, 18, 129, 167, 6533, 103, 5381, 4, 195, 1223, 1988, 1556, 26, 182, 6465, 103, 141, 225, 4, 26, 3, 2833, 343, 4, 3, 138, 48, 11042, 4, 9758, 4, 3, 1144, 9555, 42, 315, 2541, 4, 164, 3, 159, 26, 27, 11043, 2183, 4, 164, 3, 1144, 4975, 4, 182, 1014, 1988, 18, 642, 2077, 6276, 2721, 26, 3679, 146, 8412, 1988, 18, 1419, 2721, 26, 10967, 18, 3, 1553, 4, 5841, 31, 11044, 44, 26, 156, 141, 11045, 4, 12, 27, 943, 3, 9, 44, 11046, 1663, 103, 44, 2490, 11047, 8541, 380, 104, 839, 11048, 10, 480, 16, 1473, 626, 242, 2490, 700, 26, 159, 84, 289, 25, 104, 11049, 6952, 25, 104, 11050, 2044, 11051, 221, 384, 6952, 2723, 11052, 29, 11053, 18, 1749, 943, 2490, 700, 211, 922, 4, 211, 11054, 738, 4, 211, 5713, 6437, 4, 11055, 31, 11056, 7415, 42, 8485, 11057, 2290, 147, 26, 3, 9, 103, 426, 3, 771, 11058, 25, 4094, 18, 988, 4, 31, 858, 26, 275, 737, 11, 52, 426, 2776, 104, 8287, 31, 3754, 103, 817, 149, 496, 31, 959, 4, 44, 3493, 1190, 169, 483, 10386, 157, 619, 18, 799, 4, 1901, 4, 799, 195, 2571, 211, 1451, 4, 11052, 4, 11059, 4, 41, 164, 167, 190, 31, 11059, 10815, 11060, 11061, 1241, 11062, 25, 2327, 2754, 11063, 18, 4609, 18, 11064, 18, 10880, 227, 11065, 231, 683, 163, 144, 26, 164, 6980, 53, 2649, 11062, 6560, 18, 10791, 18, 211, 11066, 11067, 4, 2643, 52, 29, 3665, 1146, 2490, 11029, 9, 1811, 131, 5081, 4, 2765, 4, 5330, 10665, 31, 3651, 16, 839, 26, 164, 124, 155, 370, 182, 5885, 221, 2491, 532, 18, 31, 11068, 4, 16, 839, 26, 164, 8887, 11069, 18, 5330, 221, 337, 532, 4, 52, 27, 182, 642, 3, 175, 160, 21, 9706, 149, 2490, 9265, 4, 190, 839, 26, 1144, 1885, 103, 9229, 4, 342, 44, 26, 164, 506, 4806, 11070, 44, 1417, 18, 642, 27, 2077, 52, 84, 1491, 4, 41, 182, 406, 1403, 31, 11068, 18, 11071, 18, 3200, 221, 300, 4, 746, 26, 164, 642, 389, 1930, 44, 11072, 4, 29, 4206, 18, 44, 3724, 103, 11053, 4, 487, 182, 11073, 29, 777, 4, 11074, 21, 496, 31, 164, 26, 642, 3570, 211, 3694, 4, 157, 752, 4, 144, 11053, 4, 11075, 103, 44, 3630, 6, 52, 382, 6, 52, 46, 6, 52, 296, 163, 4, 253, 5615, 6, 4005, 182, 11076, 18, 195, 11077, 18, 506, 152, 4, 164, 1943, 44, 3864, 4, 1745, 315, 4, 746, 26, 182, 3, 11078, 3, 11079, 48, 804, 4, 415, 53, 10627, 16, 9722, 26, 11080, 44, 303, 21, 1773, 4, 814, 1188, 31, 2879, 4, 52, 27, 3, 27, 11081, 103, 471, 2002, 18, 152, 471, 5870, 4, 275, 634, 447, 44, 11029, 11082, 103, 2264, 4, 31, 1597, 26, 11083, 44, 111, 9710, 521, 382, 380, 1403, 3548, 103, 698, 163, 4, 182, 221, 532, 149, 303, 6, 152, 4, 1901, 4, 413, 2101, 4, 264, 18, 7064, 4, 11084, 4, 3, 8351, 4, 298, 4, 5955, 6, 41, 53, 2101, 319, 52, 2751, 11085, 380, 11086, 91, 92, 253, 44, 206, 144, 26, 11087, 221, 2491, 3415, 6, 4485, 4, 4485, 4, 332, 3094, 211, 92, 4, 4485, 4, 4485, 6, 18, 89, 4, 164, 3, 11088, 48, 4, 3, 159, 9482, 4, 6719, 332, 635, 191, 4, 164, 3, 159, 2666, 18, 182, 4, 6378, 4, 18, 89, 4, 164, 3, 159, 11089, 4, 164, 746, 159, 10119, 4, 18, 182, 4, 5520, 4, 1767, 5520, 4, 27, 3, 164, 535, 4, 275, 1822, 4, 10, 26, 3, 1822, 881, 221, 337, 3415, 4, 18, 89, 4, 4842, 4, 3, 382, 2290, 163, 4, 18, 182, 4, 41, 430, 26, 315, 3724, 1419, 335, 3548, 103, 698, 163, 6, 1403, 4, 650, 225, 6, 18, 89, 4, 164, 3, 159, 176, 179, 221, 590, 4, 5265, 131, 3, 4, 3, 186, 6738, 4, 9, 376, 6, 18, 591, 6778, 4, 53, 605, 11090, 4, 1710, 3, 154, 4, 1710, 3, 2810, 4, 3, 650, 4, 3, 14, 4, 1710, 315, 3724, 3, 335, 3548, 103, 699, 603, 4, 315, 3724, 29, 11091, 11092, 18, 516, 7505, 16, 1096, 2205, 1753, 103, 44, 11093, 10526, 4, 7734, 18, 275, 5248, 683, 11094, 31, 3606, 18, 9287, 221, 337, 532, 6]\n",
      "Esse parágrafo tem 88.34% de chance de ser Denser.\n"
     ]
    }
   ],
   "source": [
    "#Parágrafo extraido do conto \"Horizontes\" de Márcia Denser\n",
    "predict(\"Mas eu fui e voltei. Eu fui ontem e seriam 23h58 nos relógios da Paulista, 23h55 no farol da Casa Branca com Peixoto Gomide, porra, deviam estar andando ao contrário, contando o tempo que perdi ou já passou e então devo estar um bocado atrasada para desmanchar esse cirquinho que já se armou antes, muito antes que os relógios da Paulista começassem a contagem regressiva apontando o sentido desse passeio noturno à tua casa, Marcos, desse desvio, porque sou eu quem vai ao encontro do que praticamente já rodou, o tal cirquinho que se armou com unhas e dentes, embora você me recebesse como se já esperasse, você também tem um faro de perdigueiro, meu chapa, I know, I know, você comendo e  falando sem pausa para respirar, me deixar falar aquilo que eu vim para te dizer, que não somos nós, não há nada conosco, ok, não precisa embarcar no meu sonho, Você não tem que se arrebentar junto, você não precisa sofrer, eu tentando falar e já sentindo piedade daquilo que falava ou tentava falar e também daquilo que comia e não ouvia, repetindo de orelhada o que alguém te orelhou, ora se esse não é o gancho perfeito para o teu melodrama espanhol: uma mulher ansiosa por volta da meia-noite passando nesse teu apartamento que tem um vaso com uma arvorezinha seca com uma bandeirinha vermelha plantada na terra seca escrito Bem-vindo a Parati e observando esse teu apartamento tão pequeno, tão 21° andar, tão bloco C, caixinha de fósforos pairando no oceano cleptomaníaco dessa Cidade que não é para quem não pode conquistá-la com unhas e dentes, de maneira que então fica aí como quem comprou uma vitrine de doces para ficar do lado de fora, o nariz contra as luzes refletidas lá embaixo e isto, Marcos, isto me deixa tão triste, bem-vindo, welcome, mas você sem essa de welcome contudo botando filhodaputamente uns cds com aquelas músicas tristes e úmidas e burras e relembrando (reminds) aquela noite em que você botou os mesmos cds úmidos e burros e tão Philip Glass, percebe como a armação desse teu cirquinho é maluca? Roda, gira, sofrendo antecipadamente de saudades da mulher que você vai mandar embora eu esteja na tua frente e de touca, da mulher que você ama desesperadamente e sofrendo na minha frente, como se eu já não estivesse mais ao alcance do teu abraço, essa mulher que precisa beber para trepar, foi o que você disse subitamente desviando o rosto e já se sentindo como um vômito, mas eu ainda estava de touca e inocente e parada na sua, só que você já tinha dado o pira, a alma e o coração para Parati, enquanto eu tirava a roupa, deitava ao lado de você que já dormia tão distante, lá longe, em Parati, virado para o canto. Como antes. Como sempre. Como toda noite, até amanhecer. Daí eu levantei e me vesti e disse sim, você fez o possível, amor meu, só que eu não programei não engendrei nada disso, foram os relógios da Paulista que marcavam o tempo ao contrário, estavam andando de costas, como se não se importassem para onde iam e sim onde estiveram, então encontrei aqui o cirquinho armado para amanhã, de forma que flagrei o destino 24 horas antes: estava marcado para esta noite, eu na frente do tempo. Sim, Marcos, muitos problemas, meus e teus, individualmente, não nossos, claro, claríssimo. Mas os problemas são como velhos aquecedores: funcionam muito bem até o dia em que explodem na tua cara. Tique-taque, tique-taque, tudo ia tão bem, tique-taque, tique-taque. E ele, você não arruma nada, não tem estrutura, joga tudo pela casa, você não tem modos e eu, calada, e ele, você não tem grana, você só tem pose, e eu, enumere, vamos enumere, se não você cai, então diz, por que não diz logo na minha cara, e ele, misterioso, não antes dessa noite, e eu, mas acontece que meu coração também está marcado para esta noite. Estava, quero dizer. E ele, você não tem outra coisa na cabeça, garota? Não, não tenho saco, é isso. E fui descendo, os olhos mareados, porque não posso, porque não devo, não quero, não preciso, porque meu coração não está marcado para hora nenhuma, meu coração a ti pertence e às nove da manhã fiz sinal para o Vila Madalena, subi e então ri aquela muralha de corpos e bancos na minha frente.\")"
   ]
  },
  {
   "cell_type": "code",
   "execution_count": 68,
   "metadata": {},
   "outputs": [
    {
     "name": "stdout",
     "output_type": "stream",
     "text": [
      "[3, 13, 44, 5255, 5256, 149, 107, 539, 6, 29, 855, 944, 5257, 3180, 4, 221, 2529, 596, 191, 6, 52, 104, 2269, 31, 1199, 6, 36, 179, 5258, 4, 5259, 247, 243, 5260, 6]\n",
      "[3, 13, 44, 5255, 5256, 149, 107, 539, 6, 29, 855, 944, 5257, 3180, 4, 221, 2529, 596, 191, 6, 52, 104, 2269, 31, 1199, 6, 36, 179, 5258, 4, 5259, 247, 243, 5260, 6, 0, 0, 0, 0, 0, 0, 0, 0, 0, 0, 0, 0, 0, 0, 0, 0, 0, 0, 0, 0, 0, 0, 0, 0, 0, 0, 0, 0, 0, 0, 0, 0, 0, 0, 0, 0, 0, 0, 0, 0, 0, 0, 0, 0, 0, 0, 0, 0, 0, 0, 0, 0, 0, 0, 0, 0, 0, 0, 0, 0, 0, 0, 0, 0, 0, 0, 0, 0, 0, 0, 0, 0, 0, 0, 0, 0, 0, 0, 0, 0, 0, 0, 0, 0, 0, 0, 0, 0, 0, 0, 0, 0, 0, 0, 0, 0, 0, 0, 0, 0, 0, 0, 0, 0, 0, 0, 0, 0, 0, 0, 0, 0, 0, 0, 0, 0, 0, 0, 0, 0, 0, 0, 0, 0, 0, 0, 0, 0, 0, 0, 0, 0, 0, 0, 0, 0, 0, 0, 0, 0, 0, 0, 0, 0, 0, 0, 0, 0, 0, 0, 0, 0, 0, 0, 0, 0, 0, 0, 0, 0, 0, 0, 0, 0, 0, 0, 0, 0, 0, 0, 0, 0, 0, 0, 0, 0, 0, 0, 0, 0, 0, 0, 0, 0, 0, 0, 0, 0, 0, 0, 0, 0, 0, 0, 0, 0, 0, 0, 0, 0, 0, 0, 0, 0, 0, 0, 0, 0, 0, 0, 0, 0, 0, 0, 0, 0, 0, 0, 0, 0, 0, 0, 0, 0, 0, 0, 0, 0, 0, 0, 0, 0, 0, 0, 0, 0, 0, 0, 0, 0, 0, 0, 0, 0, 0, 0, 0, 0, 0, 0, 0, 0, 0, 0, 0, 0, 0, 0, 0, 0, 0, 0, 0, 0, 0, 0, 0, 0, 0, 0, 0, 0, 0, 0, 0, 0, 0, 0, 0, 0, 0, 0, 0, 0, 0, 0, 0, 0, 0, 0, 0, 0, 0, 0, 0, 0, 0, 0, 0, 0, 0, 0, 0, 0, 0, 0, 0, 0, 0, 0, 0, 0, 0, 0, 0, 0, 0, 0, 0, 0, 0, 0, 0, 0, 0, 0, 0, 0, 0, 0, 0, 0, 0, 0, 0, 0, 0, 0, 0, 0, 0, 0, 0, 0, 0, 0, 0, 0, 0, 0, 0, 0, 0, 0, 0, 0, 0, 0, 0, 0, 0, 0, 0, 0, 0, 0, 0, 0, 0, 0, 0, 0, 0, 0, 0, 0, 0, 0, 0, 0, 0, 0, 0, 0, 0, 0, 0, 0, 0, 0, 0, 0, 0, 0, 0, 0, 0, 0, 0, 0, 0, 0, 0, 0, 0, 0, 0, 0, 0, 0, 0, 0, 0, 0, 0, 0, 0, 0, 0, 0, 0, 0, 0, 0, 0, 0, 0, 0, 0, 0, 0, 0, 0, 0, 0, 0, 0, 0, 0, 0, 0, 0, 0, 0, 0, 0, 0, 0, 0, 0, 0, 0, 0, 0, 0, 0, 0, 0, 0, 0, 0, 0, 0, 0, 0, 0, 0, 0, 0, 0, 0, 0, 0, 0, 0, 0, 0, 0, 0, 0, 0, 0, 0, 0, 0]\n",
      "Esse parágrafo tem 88.92% de chance de ser Coutinho.\n"
     ]
    }
   ],
   "source": [
    "#Parágrafo extraido do conto \"Sagrada Família\" de Sônia Coutinho\n",
    "predict(\"Não era o vocabulário habitual do seu pai. A palavra caso soou estranha, na varanda daquela casa. Como uma fala de teatro. Alguma coisa ensaiada, dita num momento previsto.\")"
   ]
  },
  {
   "cell_type": "code",
   "execution_count": 69,
   "metadata": {},
   "outputs": [
    {
     "name": "stdout",
     "output_type": "stream",
     "text": [
      "[315, 1384, 9, 5256, 18, 52, 104, 2269, 3180, 9351, 1]\n",
      "[315, 1384, 9, 5256, 18, 52, 104, 2269, 3180, 9351, 1, 0, 0, 0, 0, 0, 0, 0, 0, 0, 0, 0, 0, 0, 0, 0, 0, 0, 0, 0, 0, 0, 0, 0, 0, 0, 0, 0, 0, 0, 0, 0, 0, 0, 0, 0, 0, 0, 0, 0, 0, 0, 0, 0, 0, 0, 0, 0, 0, 0, 0, 0, 0, 0, 0, 0, 0, 0, 0, 0, 0, 0, 0, 0, 0, 0, 0, 0, 0, 0, 0, 0, 0, 0, 0, 0, 0, 0, 0, 0, 0, 0, 0, 0, 0, 0, 0, 0, 0, 0, 0, 0, 0, 0, 0, 0, 0, 0, 0, 0, 0, 0, 0, 0, 0, 0, 0, 0, 0, 0, 0, 0, 0, 0, 0, 0, 0, 0, 0, 0, 0, 0, 0, 0, 0, 0, 0, 0, 0, 0, 0, 0, 0, 0, 0, 0, 0, 0, 0, 0, 0, 0, 0, 0, 0, 0, 0, 0, 0, 0, 0, 0, 0, 0, 0, 0, 0, 0, 0, 0, 0, 0, 0, 0, 0, 0, 0, 0, 0, 0, 0, 0, 0, 0, 0, 0, 0, 0, 0, 0, 0, 0, 0, 0, 0, 0, 0, 0, 0, 0, 0, 0, 0, 0, 0, 0, 0, 0, 0, 0, 0, 0, 0, 0, 0, 0, 0, 0, 0, 0, 0, 0, 0, 0, 0, 0, 0, 0, 0, 0, 0, 0, 0, 0, 0, 0, 0, 0, 0, 0, 0, 0, 0, 0, 0, 0, 0, 0, 0, 0, 0, 0, 0, 0, 0, 0, 0, 0, 0, 0, 0, 0, 0, 0, 0, 0, 0, 0, 0, 0, 0, 0, 0, 0, 0, 0, 0, 0, 0, 0, 0, 0, 0, 0, 0, 0, 0, 0, 0, 0, 0, 0, 0, 0, 0, 0, 0, 0, 0, 0, 0, 0, 0, 0, 0, 0, 0, 0, 0, 0, 0, 0, 0, 0, 0, 0, 0, 0, 0, 0, 0, 0, 0, 0, 0, 0, 0, 0, 0, 0, 0, 0, 0, 0, 0, 0, 0, 0, 0, 0, 0, 0, 0, 0, 0, 0, 0, 0, 0, 0, 0, 0, 0, 0, 0, 0, 0, 0, 0, 0, 0, 0, 0, 0, 0, 0, 0, 0, 0, 0, 0, 0, 0, 0, 0, 0, 0, 0, 0, 0, 0, 0, 0, 0, 0, 0, 0, 0, 0, 0, 0, 0, 0, 0, 0, 0, 0, 0, 0, 0, 0, 0, 0, 0, 0, 0, 0, 0, 0, 0, 0, 0, 0, 0, 0, 0, 0, 0, 0, 0, 0, 0, 0, 0, 0, 0, 0, 0, 0, 0, 0, 0, 0, 0, 0, 0, 0, 0, 0, 0, 0, 0, 0, 0, 0, 0, 0, 0, 0, 0, 0, 0, 0, 0, 0, 0, 0, 0, 0, 0, 0, 0, 0, 0, 0, 0, 0, 0, 0, 0, 0, 0, 0, 0, 0, 0, 0, 0, 0, 0, 0, 0, 0, 0, 0, 0, 0, 0, 0, 0, 0, 0, 0, 0, 0, 0, 0, 0, 0, 0, 0, 0, 0, 0, 0, 0, 0, 0, 0, 0, 0, 0, 0, 0, 0, 0, 0, 0, 0, 0]\n",
      "Esse parágrafo tem 67.47% de chance de ser Coutinho.\n"
     ]
    }
   ],
   "source": [
    "#Frase inventada\n",
    "predict(\"Meu nome é habitual e como uma fala estranha abajur paralelepipedo\") "
   ]
  },
  {
   "cell_type": "code",
   "execution_count": 70,
   "metadata": {},
   "outputs": [
    {
     "name": "stdout",
     "output_type": "stream",
     "text": [
      "[146, 9907, 6]\n",
      "[146, 9907, 6, 0, 0, 0, 0, 0, 0, 0, 0, 0, 0, 0, 0, 0, 0, 0, 0, 0, 0, 0, 0, 0, 0, 0, 0, 0, 0, 0, 0, 0, 0, 0, 0, 0, 0, 0, 0, 0, 0, 0, 0, 0, 0, 0, 0, 0, 0, 0, 0, 0, 0, 0, 0, 0, 0, 0, 0, 0, 0, 0, 0, 0, 0, 0, 0, 0, 0, 0, 0, 0, 0, 0, 0, 0, 0, 0, 0, 0, 0, 0, 0, 0, 0, 0, 0, 0, 0, 0, 0, 0, 0, 0, 0, 0, 0, 0, 0, 0, 0, 0, 0, 0, 0, 0, 0, 0, 0, 0, 0, 0, 0, 0, 0, 0, 0, 0, 0, 0, 0, 0, 0, 0, 0, 0, 0, 0, 0, 0, 0, 0, 0, 0, 0, 0, 0, 0, 0, 0, 0, 0, 0, 0, 0, 0, 0, 0, 0, 0, 0, 0, 0, 0, 0, 0, 0, 0, 0, 0, 0, 0, 0, 0, 0, 0, 0, 0, 0, 0, 0, 0, 0, 0, 0, 0, 0, 0, 0, 0, 0, 0, 0, 0, 0, 0, 0, 0, 0, 0, 0, 0, 0, 0, 0, 0, 0, 0, 0, 0, 0, 0, 0, 0, 0, 0, 0, 0, 0, 0, 0, 0, 0, 0, 0, 0, 0, 0, 0, 0, 0, 0, 0, 0, 0, 0, 0, 0, 0, 0, 0, 0, 0, 0, 0, 0, 0, 0, 0, 0, 0, 0, 0, 0, 0, 0, 0, 0, 0, 0, 0, 0, 0, 0, 0, 0, 0, 0, 0, 0, 0, 0, 0, 0, 0, 0, 0, 0, 0, 0, 0, 0, 0, 0, 0, 0, 0, 0, 0, 0, 0, 0, 0, 0, 0, 0, 0, 0, 0, 0, 0, 0, 0, 0, 0, 0, 0, 0, 0, 0, 0, 0, 0, 0, 0, 0, 0, 0, 0, 0, 0, 0, 0, 0, 0, 0, 0, 0, 0, 0, 0, 0, 0, 0, 0, 0, 0, 0, 0, 0, 0, 0, 0, 0, 0, 0, 0, 0, 0, 0, 0, 0, 0, 0, 0, 0, 0, 0, 0, 0, 0, 0, 0, 0, 0, 0, 0, 0, 0, 0, 0, 0, 0, 0, 0, 0, 0, 0, 0, 0, 0, 0, 0, 0, 0, 0, 0, 0, 0, 0, 0, 0, 0, 0, 0, 0, 0, 0, 0, 0, 0, 0, 0, 0, 0, 0, 0, 0, 0, 0, 0, 0, 0, 0, 0, 0, 0, 0, 0, 0, 0, 0, 0, 0, 0, 0, 0, 0, 0, 0, 0, 0, 0, 0, 0, 0, 0, 0, 0, 0, 0, 0, 0, 0, 0, 0, 0, 0, 0, 0, 0, 0, 0, 0, 0, 0, 0, 0, 0, 0, 0, 0, 0, 0, 0, 0, 0, 0, 0, 0, 0, 0, 0, 0, 0, 0, 0, 0, 0, 0, 0, 0, 0, 0, 0, 0, 0, 0, 0, 0, 0, 0, 0, 0, 0, 0, 0, 0, 0, 0, 0, 0, 0, 0, 0, 0, 0, 0, 0, 0, 0, 0, 0, 0, 0, 0, 0, 0, 0, 0, 0, 0, 0, 0, 0, 0, 0, 0, 0, 0]\n",
      "Esse parágrafo tem 56.51% de chance de ser Denser.\n"
     ]
    }
   ],
   "source": [
    "#Parágrafo extraido do conto \"Horizontes\" de Márcia Denser\n",
    "predict(\"Ou cruzes.\")"
   ]
  },
  {
   "cell_type": "code",
   "execution_count": 71,
   "metadata": {},
   "outputs": [
    {
     "data": {
      "text/plain": [
       "torch.Size([21424, 300])"
      ]
     },
     "execution_count": 71,
     "metadata": {},
     "output_type": "execute_result"
    }
   ],
   "source": [
    "embeddings.shape"
   ]
  }
 ],
 "metadata": {
  "kernelspec": {
   "display_name": "Python 3",
   "language": "python",
   "name": "python3"
  },
  "language_info": {
   "codemirror_mode": {
    "name": "ipython",
    "version": 3
   },
   "file_extension": ".py",
   "mimetype": "text/x-python",
   "name": "python",
   "nbconvert_exporter": "python",
   "pygments_lexer": "ipython3",
   "version": "3.11.3"
  },
  "orig_nbformat": 4
 },
 "nbformat": 4,
 "nbformat_minor": 2
}
