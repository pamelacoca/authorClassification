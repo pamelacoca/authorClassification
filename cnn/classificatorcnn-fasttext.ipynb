{
 "cells": [
  {
   "cell_type": "code",
   "execution_count": 5,
   "metadata": {},
   "outputs": [],
   "source": [
    "import time\n",
    "import nltk.tokenize as nt\n",
    "import json\n",
    "import torch\n",
    "import copy\n",
    "import numpy as np\n",
    "import matplotlib.pyplot as plt\n",
    "import random\n",
    "import time\n",
    "from torch.utils.data import (TensorDataset, DataLoader, RandomSampler,\n",
    "                              SequentialSampler)\n",
    "import torch\n",
    "import torch.nn as nn\n",
    "import torch.nn.functional as F\n",
    "import torch.optim as optim\n",
    "import sys\n",
    "\n",
    "sys.path.append('..')\n",
    "import datasetgenerator as dsg"
   ]
  },
  {
   "cell_type": "code",
   "execution_count": 6,
   "metadata": {},
   "outputs": [
    {
     "name": "stdout",
     "output_type": "stream",
     "text": [
      "Using mps device\n"
     ]
    }
   ],
   "source": [
    "device = (\n",
    "    \"cuda\"\n",
    "    if torch.cuda.is_available()\n",
    "    else \"mps\"\n",
    "    if torch.backends.mps.is_available()\n",
    "    else \"cpu\"\n",
    ")\n",
    "print(f\"Using {device} device\")"
   ]
  },
  {
   "cell_type": "code",
   "execution_count": 7,
   "metadata": {},
   "outputs": [],
   "source": [
    "if device == \"mps\":\n",
    "    dtype_value_torch = dtype=torch.float32\n",
    "    dtype_value_np = dtype=np.float32\n",
    "else:\n",
    "    dtype_value_torch = dtype=torch.float64\n",
    "    dtype_value_np = dtype=np.float64"
   ]
  },
  {
   "cell_type": "code",
   "execution_count": 8,
   "metadata": {},
   "outputs": [],
   "source": [
    "AUTHOR1 = \"coutinho-dataset\"\n",
    "AUTHOR2 = \"denser-dataset\"\n",
    "PATH_TO_RAW_DATA = \"data/raw/\"\n",
    "PATH_TO_PARSED_DATA = \"data/parsed/\"\n",
    "\n",
    "ds_gen = dsg.ds_gen()"
   ]
  },
  {
   "cell_type": "code",
   "execution_count": 9,
   "metadata": {},
   "outputs": [
    {
     "name": "stdout",
     "output_type": "stream",
     "text": [
      "1614\n"
     ]
    }
   ],
   "source": [
    "len_data = ds_gen.get_data_length(dsg.ds_gen.DENSER, go_up_on_path=1)\n",
    "print(len_data)"
   ]
  },
  {
   "cell_type": "code",
   "execution_count": 10,
   "metadata": {},
   "outputs": [],
   "source": [
    "dictAuthors = dict()"
   ]
  },
  {
   "cell_type": "code",
   "execution_count": 11,
   "metadata": {},
   "outputs": [],
   "source": [
    "def map_to_number(dict, word):\n",
    "    if(word in dict.keys()):\n",
    "        return dict.get(word)\n",
    "    else:\n",
    "        next_value = len(dict.keys())\n",
    "        dict.update({word: next_value})\n",
    "        return next_value"
   ]
  },
  {
   "cell_type": "code",
   "execution_count": 12,
   "metadata": {},
   "outputs": [
    {
     "data": {
      "text/plain": [
       "1"
      ]
     },
     "execution_count": 12,
     "metadata": {},
     "output_type": "execute_result"
    }
   ],
   "source": [
    "dictAuthors.update({\"padding\": 0})\n",
    "map_to_number(dictAuthors, \"unknown\")"
   ]
  },
  {
   "cell_type": "code",
   "execution_count": 13,
   "metadata": {},
   "outputs": [],
   "source": [
    "def tokenize_words_in_paragraph(paragraph, dict):\n",
    "    tensor = []\n",
    "    parsed_paragraph = nt.word_tokenize(paragraph)\n",
    "    for word in parsed_paragraph:\n",
    "        token = map_to_number(dict, word)\n",
    "        tensor.append(token)\n",
    "    return tensor"
   ]
  },
  {
   "cell_type": "code",
   "execution_count": 14,
   "metadata": {},
   "outputs": [],
   "source": [
    "def get_paragraph_size_list(paragraph_set):\n",
    "    paragraph_sizes = []\n",
    "    for paragraph in paragraph_set:\n",
    "        paragraph_size = len(paragraph)\n",
    "        paragraph_sizes.append(paragraph_size)\n",
    "    return paragraph_sizes"
   ]
  },
  {
   "cell_type": "code",
   "execution_count": 15,
   "metadata": {},
   "outputs": [],
   "source": [
    "train_dataset_1, test_dataset_1 = ds_gen.get_dataset_from_author(dsg.ds_gen.COUTINHO, 0.8, 1614, go_up_on_path=1)\n",
    "train_dataset_2, test_dataset_2 = ds_gen.get_dataset_from_author(dsg.ds_gen.DENSER, 0.8, 1614, go_up_on_path=1)"
   ]
  },
  {
   "cell_type": "code",
   "execution_count": 16,
   "metadata": {},
   "outputs": [],
   "source": [
    "train_dt_1_sizes = get_paragraph_size_list(train_dataset_1)\n",
    "train_dt_2_sizes = get_paragraph_size_list(train_dataset_2)\n",
    "test_dt_1_sizes = get_paragraph_size_list(test_dataset_1)\n",
    "test_dt_2_sizes = get_paragraph_size_list(test_dataset_2)"
   ]
  },
  {
   "cell_type": "code",
   "execution_count": 17,
   "metadata": {},
   "outputs": [],
   "source": [
    "train_dataset_raw_both = copy.deepcopy(train_dataset_1)\n",
    "train_dataset_raw_both.extend(train_dataset_2)"
   ]
  },
  {
   "cell_type": "code",
   "execution_count": 18,
   "metadata": {},
   "outputs": [],
   "source": [
    "test_dataset_raw_both = copy.deepcopy(test_dataset_1)\n",
    "test_dataset_raw_both.extend(test_dataset_2)"
   ]
  },
  {
   "cell_type": "code",
   "execution_count": 19,
   "metadata": {},
   "outputs": [],
   "source": [
    "\n",
    "train_labels = [0]*len(train_dataset_1)\n",
    "train_labels_2 = [1]*len(train_dataset_2)\n",
    "\n",
    "train_labels.extend(train_labels_2)"
   ]
  },
  {
   "cell_type": "code",
   "execution_count": 20,
   "metadata": {},
   "outputs": [],
   "source": [
    "test_labels = [0]*len(test_dataset_1)\n",
    "test_labels_2 = [1]*len(test_dataset_2)\n",
    "\n",
    "test_labels.extend(test_labels_2)"
   ]
  },
  {
   "cell_type": "code",
   "execution_count": 21,
   "metadata": {},
   "outputs": [],
   "source": [
    "all_data = copy.deepcopy(train_dt_1_sizes)\n",
    "all_data.extend(train_dt_2_sizes)\n",
    "all_data.extend(test_dt_1_sizes)\n",
    "all_data.extend(test_dt_2_sizes)"
   ]
  },
  {
   "cell_type": "code",
   "execution_count": 22,
   "metadata": {},
   "outputs": [
    {
     "name": "stdout",
     "output_type": "stream",
     "text": [
      "521.0\n"
     ]
    },
    {
     "data": {
      "text/plain": [
       "<matplotlib.lines.Line2D at 0x161ebded0>"
      ]
     },
     "execution_count": 22,
     "metadata": {},
     "output_type": "execute_result"
    },
    {
     "data": {
      "image/png": "[encoded data removed]",
      "text/plain": [
       "<Figure size 640x480 with 1 Axes>"
      ]
     },
     "metadata": {},
     "output_type": "display_data"
    }
   ],
   "source": [
    "plt.plot(all_data)\n",
    "percetile = np.percentile(all_data, 85)\n",
    "print(percetile)\n",
    "plt.axhline(y=percetile, color=\"red\")"
   ]
  },
  {
   "cell_type": "code",
   "execution_count": 23,
   "metadata": {},
   "outputs": [],
   "source": [
    "train_dt_2_sizes = get_paragraph_size_list(train_dataset_2)"
   ]
  },
  {
   "cell_type": "code",
   "execution_count": 24,
   "metadata": {},
   "outputs": [],
   "source": [
    "def normalize_data(data, rule):\n",
    "    while (len(data) < rule):\n",
    "        data.append(0)\n",
    "\n",
    "    if(len(data) > rule):\n",
    "        data = data[0:rule]\n",
    "    return data "
   ]
  },
  {
   "cell_type": "code",
   "execution_count": 25,
   "metadata": {},
   "outputs": [],
   "source": [
    "def tokenize_paragraph_set(paragraph_set):\n",
    "    tokenized_paragraph_set= []\n",
    "    for paragraph in paragraph_set:\n",
    "        lowered_paragraph = paragraph.lower()\n",
    "        tokenized_paragraph = tokenize_words_in_paragraph(lowered_paragraph, dictAuthors)\n",
    "        tokenized_paragraph = normalize_data(tokenized_paragraph, 520)\n",
    "        tokenized_paragraph_set.append(tokenized_paragraph)\n",
    "    return tokenized_paragraph_set"
   ]
  },
  {
   "cell_type": "code",
   "execution_count": 26,
   "metadata": {},
   "outputs": [],
   "source": [
    "tokenized_set1 = tokenize_paragraph_set(train_dataset_1)"
   ]
  },
  {
   "cell_type": "code",
   "execution_count": 27,
   "metadata": {},
   "outputs": [],
   "source": [
    "tokenized_set2 = tokenize_paragraph_set(train_dataset_2)"
   ]
  },
  {
   "cell_type": "code",
   "execution_count": 28,
   "metadata": {},
   "outputs": [],
   "source": [
    "train_dataset_both_tokenized = copy.deepcopy(tokenized_set1)\n",
    "train_dataset_both_tokenized.extend(tokenized_set2)"
   ]
  },
  {
   "cell_type": "code",
   "execution_count": 29,
   "metadata": {},
   "outputs": [],
   "source": [
    "tokenized_test1 = tokenize_paragraph_set(test_dataset_1)"
   ]
  },
  {
   "cell_type": "code",
   "execution_count": 30,
   "metadata": {},
   "outputs": [
    {
     "name": "stdout",
     "output_type": "stream",
     "text": [
      "Parágrafo original:  Seus parentes moram em outra cidade\n",
      "Tokenização normalizada:  [20059, 3194, 5760, 121, 316, 49, 0, 0, 0, 0, 0, 0, 0, 0, 0, 0, 0, 0, 0, 0, 0, 0, 0, 0, 0, 0, 0, 0, 0, 0, 0, 0, 0, 0, 0, 0, 0, 0, 0, 0, 0, 0, 0, 0, 0, 0, 0, 0, 0, 0, 0, 0, 0, 0, 0, 0, 0, 0, 0, 0, 0, 0, 0, 0, 0, 0, 0, 0, 0, 0, 0, 0, 0, 0, 0, 0, 0, 0, 0, 0, 0, 0, 0, 0, 0, 0, 0, 0, 0, 0, 0, 0, 0, 0, 0, 0, 0, 0, 0, 0, 0, 0, 0, 0, 0, 0, 0, 0, 0, 0, 0, 0, 0, 0, 0, 0, 0, 0, 0, 0, 0, 0, 0, 0, 0, 0, 0, 0, 0, 0, 0, 0, 0, 0, 0, 0, 0, 0, 0, 0, 0, 0, 0, 0, 0, 0, 0, 0, 0, 0, 0, 0, 0, 0, 0, 0, 0, 0, 0, 0, 0, 0, 0, 0, 0, 0, 0, 0, 0, 0, 0, 0, 0, 0, 0, 0, 0, 0, 0, 0, 0, 0, 0, 0, 0, 0, 0, 0, 0, 0, 0, 0, 0, 0, 0, 0, 0, 0, 0, 0, 0, 0, 0, 0, 0, 0, 0, 0, 0, 0, 0, 0, 0, 0, 0, 0, 0, 0, 0, 0, 0, 0, 0, 0, 0, 0, 0, 0, 0, 0, 0, 0, 0, 0, 0, 0, 0, 0, 0, 0, 0, 0, 0, 0, 0, 0, 0, 0, 0, 0, 0, 0, 0, 0, 0, 0, 0, 0, 0, 0, 0, 0, 0, 0, 0, 0, 0, 0, 0, 0, 0, 0, 0, 0, 0, 0, 0, 0, 0, 0, 0, 0, 0, 0, 0, 0, 0, 0, 0, 0, 0, 0, 0, 0, 0, 0, 0, 0, 0, 0, 0, 0, 0, 0, 0, 0, 0, 0, 0, 0, 0, 0, 0, 0, 0, 0, 0, 0, 0, 0, 0, 0, 0, 0, 0, 0, 0, 0, 0, 0, 0, 0, 0, 0, 0, 0, 0, 0, 0, 0, 0, 0, 0, 0, 0, 0, 0, 0, 0, 0, 0, 0, 0, 0, 0, 0, 0, 0, 0, 0, 0, 0, 0, 0, 0, 0, 0, 0, 0, 0, 0, 0, 0, 0, 0, 0, 0, 0, 0, 0, 0, 0, 0, 0, 0, 0, 0, 0, 0, 0, 0, 0, 0, 0, 0, 0, 0, 0, 0, 0, 0, 0, 0, 0, 0, 0, 0, 0, 0, 0, 0, 0, 0, 0, 0, 0, 0, 0, 0, 0, 0, 0, 0, 0, 0, 0, 0, 0, 0, 0, 0, 0, 0, 0, 0, 0, 0, 0, 0, 0, 0, 0, 0, 0, 0, 0, 0, 0, 0, 0, 0, 0, 0, 0, 0, 0, 0, 0, 0, 0, 0, 0, 0, 0, 0, 0, 0, 0, 0, 0, 0, 0, 0, 0, 0, 0, 0, 0, 0, 0, 0, 0, 0, 0, 0, 0, 0, 0, 0, 0, 0, 0, 0, 0, 0, 0, 0, 0, 0, 0, 0, 0, 0, 0, 0, 0, 0, 0, 0, 0, 0, 0, 0, 0, 0, 0, 0, 0, 0, 0]\n"
     ]
    }
   ],
   "source": [
    "paragrafo_original = \"Seus parentes moram em outra cidade\"\n",
    "paragrafo_tokenizado = tokenize_words_in_paragraph(paragrafo_original, dictAuthors)\n",
    "paragrafo_normalizado = normalize_data(paragrafo_tokenizado, 520)\n",
    "print(\"Parágrafo original: \", paragrafo_original)\n",
    "print(\"Tokenização normalizada: \",paragrafo_normalizado)"
   ]
  },
  {
   "cell_type": "code",
   "execution_count": 31,
   "metadata": {},
   "outputs": [],
   "source": [
    "tokenized_test2 = tokenize_paragraph_set(test_dataset_2)"
   ]
  },
  {
   "cell_type": "code",
   "execution_count": 32,
   "metadata": {},
   "outputs": [],
   "source": [
    "test_dataset_both_tokenized = copy.deepcopy(tokenized_test1)\n",
    "test_dataset_both_tokenized.extend(tokenized_test2)"
   ]
  },
  {
   "cell_type": "code",
   "execution_count": 33,
   "metadata": {},
   "outputs": [
    {
     "data": {
      "text/plain": [
       "<function TextIOWrapper.close()>"
      ]
     },
     "execution_count": 33,
     "metadata": {},
     "output_type": "execute_result"
    }
   ],
   "source": [
    "with open('authorsDict.json', 'w', encoding='utf-8') as f:\n",
    "    json.dump(dictAuthors, f, ensure_ascii=False, indent=4)\n",
    "f.close"
   ]
  },
  {
   "cell_type": "code",
   "execution_count": 34,
   "metadata": {},
   "outputs": [],
   "source": [
    "def load_pretrained_vectors(word2idx, fname):\n",
    "    \n",
    "    print(\"Loading pretrained vectors...\")\n",
    "    fin = open(fname, 'r', encoding='utf-8', newline='\\n', errors='ignore')\n",
    "    n, d = map(int, fin.readline().split())\n",
    "\n",
    "    print(n)\n",
    "    print(d)\n",
    "\n",
    "    embeddings = np.random.uniform(-0.25, 0.25, (len(word2idx), d))\n",
    "    embeddings[word2idx['padding']] = np.zeros((d,))\n",
    "\n",
    "    count = 0\n",
    "    for line in fin:\n",
    "        tokens = line.rstrip().split(' ')\n",
    "        word = tokens[0]\n",
    "        if word in word2idx:\n",
    "            count += 1\n",
    "            embeddings[word2idx[word]] = np.array(tokens[1:], dtype=dtype_value_np)\n",
    "\n",
    "    print(f\"There are {count} / {len(word2idx)} pretrained vectors found.\")\n",
    "\n",
    "    return embeddings"
   ]
  },
  {
   "cell_type": "code",
   "execution_count": 36,
   "metadata": {},
   "outputs": [
    {
     "name": "stdout",
     "output_type": "stream",
     "text": [
      "Loading pretrained vectors...\n",
      "2000000\n",
      "300\n",
      "There are 20198 / 21424 pretrained vectors found.\n"
     ]
    }
   ],
   "source": [
    "embeddings = load_pretrained_vectors(dictAuthors, \"../cc.pt.300.vec\")\n",
    "embeddings = torch.tensor(embeddings)"
   ]
  },
  {
   "cell_type": "code",
   "execution_count": 37,
   "metadata": {},
   "outputs": [],
   "source": [
    "def data_loader(train_inputs, test_inputs, train_labels, test_labels,\n",
    "                batch_size=50):\n",
    "   \n",
    "    train_inputs, test_inputs, train_labels, test_labels =\\\n",
    "    tuple(torch.tensor(data) for data in\n",
    "          [train_inputs, test_inputs, train_labels, test_labels])\n",
    "\n",
    "    batch_size = 50\n",
    "\n",
    "    train_data = TensorDataset(train_inputs, train_labels)\n",
    "    train_sampler = RandomSampler(train_data)\n",
    "    train_dataloader = DataLoader(train_data, sampler=train_sampler, batch_size=batch_size)\n",
    "\n",
    "    test_data = TensorDataset(test_inputs, test_labels)\n",
    "    test_sampler = SequentialSampler(test_data)\n",
    "    test_dataloader = DataLoader(test_data, sampler=test_sampler, batch_size=batch_size)\n",
    "\n",
    "    return train_dataloader, test_dataloader"
   ]
  },
  {
   "cell_type": "code",
   "execution_count": 38,
   "metadata": {},
   "outputs": [],
   "source": [
    "\n",
    "train_dataloader, test_dataloader = data_loader(train_dataset_both_tokenized, test_dataset_both_tokenized, train_labels, test_labels, batch_size=50)"
   ]
  },
  {
   "cell_type": "code",
   "execution_count": 39,
   "metadata": {},
   "outputs": [],
   "source": [
    "filter_sizes = [2, 3, 4]\n",
    "num_filters = [2, 2, 2]"
   ]
  },
  {
   "cell_type": "code",
   "execution_count": 40,
   "metadata": {},
   "outputs": [],
   "source": [
    "class CNN_NLP(nn.Module):\n",
    "    def __init__(self,\n",
    "                 pretrained_embedding=None,\n",
    "                 freeze_embedding=False,\n",
    "                 vocab_size=None,\n",
    "                 embed_dim=300,\n",
    "                 filter_sizes=[3, 4, 5],\n",
    "                 num_filters=[100, 100, 100],\n",
    "                 num_classes=2,\n",
    "                 dropout=0.5):\n",
    "        \n",
    "        super(CNN_NLP, self).__init__()\n",
    "        \n",
    "        if pretrained_embedding is not None:\n",
    "            self.vocab_size, self.embed_dim = pretrained_embedding.shape\n",
    "            self.embedding = nn.Embedding.from_pretrained(pretrained_embedding,\n",
    "                                                          freeze=freeze_embedding)\n",
    "        else:\n",
    "            self.embed_dim = embed_dim\n",
    "            self.embedding = nn.Embedding(num_embeddings=vocab_size,\n",
    "                                          embedding_dim=self.embed_dim,\n",
    "                                          padding_idx=0,\n",
    "                                          max_norm=5.0)\n",
    "       \n",
    "        self.conv1d_list = nn.ModuleList([\n",
    "            nn.Conv1d(in_channels=self.embed_dim,\n",
    "                      out_channels=num_filters[i],\n",
    "                      kernel_size=filter_sizes[i])\n",
    "            for i in range(len(filter_sizes))\n",
    "        ])\n",
    "       \n",
    "        self.fc = nn.Linear(np.sum(num_filters), num_classes)\n",
    "        self.dropout = nn.Dropout(p=dropout)\n",
    "\n",
    "    def forward(self, input_ids):\n",
    "        \n",
    "        x_embed = self.embedding(input_ids)\n",
    "\n",
    "        x_reshaped = x_embed.permute(0, 2, 1)\n",
    "\n",
    "        x_conv_list = [F.relu(conv1d(x_reshaped)) for conv1d in self.conv1d_list]\n",
    "\n",
    "        x_pool_list = [F.max_pool1d(x_conv, kernel_size=x_conv.shape[2])\n",
    "            for x_conv in x_conv_list]\n",
    "        \n",
    "        x_fc = torch.cat([x_pool.squeeze(dim=2) for x_pool in x_pool_list],\n",
    "                         dim=1)\n",
    "        \n",
    "        logits = self.fc(self.dropout(x_fc))\n",
    "\n",
    "        return logits"
   ]
  },
  {
   "cell_type": "code",
   "execution_count": 41,
   "metadata": {},
   "outputs": [],
   "source": [
    "loss_fn = nn.CrossEntropyLoss()"
   ]
  },
  {
   "cell_type": "code",
   "execution_count": 42,
   "metadata": {},
   "outputs": [],
   "source": [
    "def set_seed(seed_value=42):\n",
    "\n",
    "    random.seed(seed_value)\n",
    "    np.random.seed(seed_value)\n",
    "    torch.manual_seed(seed_value)\n",
    "    torch.cuda.manual_seed_all(seed_value)"
   ]
  },
  {
   "cell_type": "code",
   "execution_count": 43,
   "metadata": {},
   "outputs": [],
   "source": [
    "def evaluate(model, test_dataloader):\n",
    "    model.eval()\n",
    "    evaluation_start_time = time.time()\n",
    "    test_accuracy = []\n",
    "    test_loss = []\n",
    "    for batch in test_dataloader:\n",
    "        b_input_ids, b_labels = tuple(t.to(device) for t in batch)\n",
    "\n",
    "        with torch.no_grad():\n",
    "            logits = model(b_input_ids)\n",
    "\n",
    "        loss = loss_fn(logits, b_labels)\n",
    "        test_loss.append(loss.item())\n",
    "\n",
    "        preds = torch.argmax(logits, dim=1).flatten()\n",
    "\n",
    "        accuracy = (preds == b_labels).cpu().numpy().mean() * 100\n",
    "        test_accuracy.append(accuracy)\n",
    "        \n",
    "    test_loss = np.mean(test_loss)\n",
    "    test_accuracy = np.mean(test_accuracy)\n",
    "\n",
    "    return test_loss, test_accuracy"
   ]
  },
  {
   "cell_type": "code",
   "execution_count": 44,
   "metadata": {},
   "outputs": [],
   "source": [
    "def train(model, optimizer, train_dataloader, test_dataloader=None, epochs=10):\n",
    "\n",
    "    best_accuracy = 0\n",
    "    training_start_time = time.time()\n",
    "    test_acc_hist=[]\n",
    "    test_loss_hist=[]\n",
    "    time_elapsed_hist=[]\n",
    "    best_acc_hist=[]\n",
    "\n",
    "\n",
    "    print(\"Start training...\\n\")\n",
    "    print(f\"{'Epoch':^7} | {'Train Loss':^12} | {'Test Loss':^10} | {'Test Acc':^9} | {'Elapsed':^9}\")\n",
    "    print(\"-\"*60)\n",
    "\n",
    "    for epoch_i in range(epochs):\n",
    "     \n",
    "        t0_epoch = time.time()\n",
    "        total_loss = 0\n",
    "\n",
    "        model.train()\n",
    "\n",
    "        for step, batch in enumerate(train_dataloader):\n",
    "           \n",
    "            b_input_ids, b_labels = tuple(t.to(device) for t in batch)\n",
    "            model.zero_grad()\n",
    "            logits = model(b_input_ids)\n",
    "            loss = loss_fn(logits, b_labels)\n",
    "            total_loss += loss.item()\n",
    "            loss.backward()\n",
    "            optimizer.step()\n",
    "\n",
    "        avg_train_loss = total_loss / len(train_dataloader)\n",
    "\n",
    "        if test_dataloader is not None:\n",
    "            test_loss, test_accuracy = evaluate(model, test_dataloader)\n",
    "            if test_accuracy > best_accuracy:\n",
    "                best_accuracy = test_accuracy\n",
    "                best_acc_hist.append(best_accuracy)\n",
    "            time_elapsed = time.time() - t0_epoch\n",
    "            print(f\"{epoch_i + 1:^7} | {avg_train_loss:^12.6f} | {test_loss:^10.6f} | {test_accuracy:^9.2f} | {time_elapsed:^9.2f}\")\n",
    "            \n",
    "        test_acc_hist.append(test_accuracy)\n",
    "        test_loss_hist.append(test_loss)\n",
    "        time_elapsed_hist.append(time_elapsed)\n",
    "\n",
    "    print(\"\\n\")\n",
    "    print(f\"Training complete! Best accuracy: {best_accuracy:.2f}%.\")\n",
    "    print('Training finished, took {:.2f}s'.format(time.time() - training_start_time))\n",
    "\n",
    "    figure, axis = plt.subplots(2, 2)\n",
    "\n",
    "    axis[0, 0].plot(test_acc_hist) \n",
    "\n",
    "    axis[0, 1].plot(test_loss_hist) \n",
    "\n",
    "    axis[1, 0].plot(time_elapsed_hist) \n",
    "  \n",
    "    axis[1, 1].plot(best_acc_hist) \n",
    "\n",
    "    plt.show() \n"
   ]
  },
  {
   "cell_type": "code",
   "execution_count": 45,
   "metadata": {},
   "outputs": [],
   "source": [
    "def initialize_model(pretrained_embedding=None,\n",
    "                    freeze_embedding=False,\n",
    "                    vocab_size=None,\n",
    "                    embed_dim=300,\n",
    "                    filter_sizes=[3, 4, 5],\n",
    "                    num_filters=[100, 100, 100],\n",
    "                    num_classes=2,\n",
    "                    dropout=0.5,\n",
    "                    learning_rate=0.01):\n",
    "\n",
    "    assert (len(filter_sizes) == len(num_filters))\n",
    "\n",
    "    cnn_model = CNN_NLP(pretrained_embedding=pretrained_embedding,\n",
    "                        freeze_embedding=freeze_embedding,\n",
    "                        vocab_size=vocab_size,\n",
    "                        embed_dim=embed_dim,\n",
    "                        filter_sizes=filter_sizes,\n",
    "                        num_filters=num_filters,\n",
    "                        num_classes=2,\n",
    "                        dropout=0.5)\n",
    "\n",
    "    cnn_model.to(device, dtype=dtype_value_torch)\n",
    "\n",
    "    optimizer = optim.Adadelta(cnn_model.parameters(), lr=learning_rate, rho=0.95)\n",
    "\n",
    "    return cnn_model, optimizer"
   ]
  },
  {
   "cell_type": "code",
   "execution_count": 46,
   "metadata": {},
   "outputs": [
    {
     "name": "stdout",
     "output_type": "stream",
     "text": [
      "Start training...\n",
      "\n",
      " Epoch  |  Train Loss  | Test Loss  | Test Acc  |  Elapsed \n",
      "------------------------------------------------------------\n",
      "   1    |   0.671042   |  0.641621  |   68.67   |   8.28   \n",
      "   2    |   0.622037   |  0.596122  |   71.13   |   7.60   \n",
      "   3    |   0.577441   |  0.561682  |   73.30   |   7.61   \n",
      "   4    |   0.550438   |  0.537604  |   73.46   |   7.62   \n",
      "   5    |   0.526279   |  0.519722  |   75.06   |   7.59   \n",
      "   6    |   0.486564   |  0.494498  |   76.94   |   7.58   \n",
      "   7    |   0.459191   |  0.481330  |   77.82   |   7.60   \n",
      "   8    |   0.427086   |  0.446788  |   79.07   |   8.03   \n",
      "   9    |   0.398935   |  0.427783  |   81.44   |   7.91   \n",
      "  10    |   0.358648   |  0.411309  |   80.98   |   7.70   \n",
      "  11    |   0.329180   |  0.389324  |   81.11   |   7.71   \n",
      "  12    |   0.294245   |  0.362187  |   84.44   |   7.70   \n",
      "  13    |   0.257901   |  0.357253  |   83.63   |   7.66   \n",
      "  14    |   0.234258   |  0.342376  |   85.26   |   7.76   \n",
      "  15    |   0.202459   |  0.334403  |   84.88   |   7.75   \n",
      "\n",
      "\n",
      "Training complete! Best accuracy: 85.26%.\n",
      "Training finished, took 116.08s\n"
     ]
    },
    {
     "data": {
      "image/png": "[encoded data removed]",
      "text/plain": [
       "<Figure size 640x480 with 4 Axes>"
      ]
     },
     "metadata": {},
     "output_type": "display_data"
    }
   ],
   "source": [
    "set_seed(42)\n",
    "cnn_non_static, optimizer = initialize_model(pretrained_embedding=embeddings,\n",
    "                                            freeze_embedding=False,\n",
    "                                            learning_rate=0.25,\n",
    "                                            dropout=0.5)\n",
    "train(cnn_non_static, optimizer, train_dataloader, test_dataloader, epochs=15)"
   ]
  },
  {
   "cell_type": "code",
   "execution_count": 47,
   "metadata": {},
   "outputs": [],
   "source": [
    "def tokenize_words_in_paragraph_for_predict(paragraph, dict):\n",
    "    tensor = []\n",
    "    dict_lenght= len(dict)\n",
    "    parsed_paragraph = nt.word_tokenize(paragraph)\n",
    "    for word in parsed_paragraph:\n",
    "        token = map_to_number(dict, word)\n",
    "        if token > dict_lenght-2:\n",
    "            token = map_to_number(dict, \"unknown\")\n",
    "        tensor.append(token)\n",
    "    print(tensor) \n",
    "    return tensor"
   ]
  },
  {
   "cell_type": "code",
   "execution_count": 48,
   "metadata": {},
   "outputs": [],
   "source": [
    "def predict(text, model=cnn_non_static, max_len=520):\n",
    "\n",
    "    tokens = tokenize_words_in_paragraph_for_predict(text.lower(), dictAuthors)\n",
    "    padded_tokens = tokens + [0] * (max_len - len(tokens))\n",
    "\n",
    "    input_id = torch.tensor(padded_tokens).unsqueeze(dim=0)\n",
    "    model.to(device, dtype=dtype_value_torch)\n",
    "\n",
    "    logits = model.forward(input_id.to(device))\n",
    "    \n",
    "\n",
    "    probs = F.softmax(logits, dim=1).squeeze(dim=0)\n",
    "    print(padded_tokens)\n",
    "\n",
    "    if probs[1] > 0.5:\n",
    "        print(f\"Esse parágrafo tem {probs[1] * 100:.2f}% de chance de ser Denser.\")\n",
    "    else:\n",
    "        chance = 1 -probs[1]\n",
    "        print(f\"Esse parágrafo tem {chance * 100:.2f}% de chance de ser Coutinho.\")\n"
   ]
  },
  {
   "cell_type": "code",
   "execution_count": 49,
   "metadata": {},
   "outputs": [
    {
     "data": {
      "image/png": "[encoded data removed]",
      "text/plain": [
       "<Figure size 1200x700 with 2 Axes>"
      ]
     },
     "metadata": {},
     "output_type": "display_data"
    }
   ],
   "source": [
    "from sklearn.metrics import confusion_matrix\n",
    "import seaborn as sn\n",
    "import pandas as pd\n",
    "\n",
    "y_pred = []\n",
    "y_true = []\n",
    "\n",
    "for inputs, labels in test_dataloader:\n",
    "        output = cnn_non_static(inputs.to(device))\n",
    "\n",
    "        output = (torch.max(torch.exp(output), 1)[1]).data.cpu().numpy()\n",
    "        y_pred.extend(output) \n",
    "        \n",
    "        labels = labels.data.cpu().numpy()\n",
    "        y_true.extend(labels) \n",
    "\n",
    "classes = ('Coutinho', 'Denser')\n",
    "\n",
    "cf_matrix = confusion_matrix(y_true, y_pred)\n",
    "df_cm = pd.DataFrame(cf_matrix / np.sum(cf_matrix, axis=1)[:, None], index = [i for i in classes],\n",
    "                     columns = [i for i in classes])\n",
    "plt.figure(figsize = (12,7))\n",
    "sn.heatmap(df_cm, annot=True)\n",
    "plt.savefig('output.png')"
   ]
  },
  {
   "cell_type": "code",
   "execution_count": 50,
   "metadata": {},
   "outputs": [
    {
     "name": "stdout",
     "output_type": "stream",
     "text": [
      "Saved PyTorch Model State to cnnns.pth\n"
     ]
    }
   ],
   "source": [
    "torch.save(cnn_non_static.state_dict(), \"cnnns.pth\")\n",
    "print(\"Saved PyTorch Model State to cnnns.pth\")"
   ]
  },
  {
   "cell_type": "code",
   "execution_count": 51,
   "metadata": {},
   "outputs": [
    {
     "data": {
      "text/plain": [
       "<All keys matched successfully>"
      ]
     },
     "execution_count": 51,
     "metadata": {},
     "output_type": "execute_result"
    }
   ],
   "source": [
    "model = cnn_non_static.to(device, dtype=dtype_value_torch)\n",
    "model.load_state_dict(torch.load(\"cnnns.pth\"))"
   ]
  },
  {
   "cell_type": "code",
   "execution_count": 52,
   "metadata": {},
   "outputs": [
    {
     "name": "stdout",
     "output_type": "stream",
     "text": [
      "[327, 358, 329, 15, 1064, 112, 358, 329, 1086, 15, 2390, 14469, 266, 11645, 48, 11745, 14, 14470, 3, 14471, 48, 513, 3405, 21, 14472, 14473, 14, 10373, 14, 11251, 1325, 4682, 249, 3666, 14, 5203, 68, 672, 11, 8013, 143, 170, 2, 15, 771, 216, 1325, 59, 2237, 9966, 8, 4283, 634, 11566, 11, 170, 16, 14474, 188, 14, 162, 188, 11, 22, 11645, 48, 11745, 14475, 9, 14476, 14477, 13791, 68, 2454, 4612, 4123, 3403, 609, 7632, 513, 14, 577, 14, 4612, 5294, 14, 639, 2122, 358, 494, 638, 249, 4410, 75, 11, 12444, 170, 14478, 14, 68, 4167, 11566, 11, 16, 14474, 21, 3260, 15, 1371, 14, 403, 472, 309, 14479, 113, 16, 170, 4390, 14, 472, 206, 484, 59, 14480, 6, 14481, 14, 124, 12976, 14, 1935, 14482, 14, 1935, 14482, 14, 472, 1928, 15, 1714, 224, 8244, 8, 6007, 14, 309, 1117, 1128, 655, 11, 358, 5166, 8, 2244, 507, 14, 11, 110, 3384, 561, 14, 110, 180, 660, 4203, 14, 11594, 14, 110, 1314, 2219, 3, 124, 457, 14, 472, 110, 484, 11, 16, 14483, 1709, 14, 472, 110, 1314, 3117, 14, 358, 1461, 1128, 15, 170, 3446, 9614, 5325, 11, 1986, 143, 903, 1128, 15, 206, 5325, 11, 9507, 15, 110, 67, 14, 2421, 6, 14484, 68, 11, 193, 2244, 14485, 14, 3419, 16, 634, 110, 222, 68, 12247, 262, 8, 68, 5667, 14486, 7494, 551, 144, 471, 14487, 91, 1850, 48, 2343, 297, 1448, 5667, 945, 11, 484, 59, 4257, 21, 144, 14488, 3621, 21, 144, 10233, 4905, 14489, 98, 3077, 3621, 3785, 14490, 9, 14491, 15, 890, 634, 5667, 945, 18, 2057, 14, 18, 14492, 3597, 14, 18, 1464, 9311, 14, 14493, 6, 14494, 14495, 3, 6697, 14496, 3646, 49, 11, 110, 222, 8, 494, 110, 247, 13789, 21, 3260, 15, 1371, 14, 6, 1479, 11, 771, 1254, 696, 113, 494, 3156, 144, 4926, 6, 5121, 8, 87, 75, 448, 6, 569, 14, 68, 1200, 1138, 35, 191, 9935, 700, 290, 15, 894, 14, 577, 14, 894, 309, 1707, 18, 1313, 14, 14490, 14, 14497, 14, 327, 472, 224, 611, 6, 14497, 13174, 12670, 14498, 242, 14499, 21, 2159, 787, 8791, 15, 1237, 15, 9765, 15, 13846, 50, 14500, 56, 148, 439, 121, 11, 472, 3158, 22, 4703, 14499, 6426, 15, 14095, 15, 18, 14501, 14502, 14, 1250, 113, 9, 5255, 4612, 5667, 11566, 222, 6202, 272, 8098, 14, 3017, 14, 320, 12256, 6, 10025, 48, 471, 11, 472, 638, 4462, 403, 358, 8094, 98, 7632, 864, 15, 6, 14115, 14, 48, 471, 11, 472, 4948, 11921, 15, 320, 98, 344, 864, 14, 113, 16, 358, 170, 110, 661, 24, 249, 12020, 75, 5667, 1253, 14, 611, 471, 11, 1314, 5907, 8, 11280, 14, 102, 68, 11, 472, 854, 5536, 14503, 68, 769, 15, 170, 16, 3446, 113, 59, 7229, 14, 327, 358, 90, 825, 6, 14115, 15, 14504, 15, 2293, 98, 275, 14, 498, 11, 472, 170, 287, 115, 68, 14505, 14, 9, 4874, 15, 68, 2081, 8, 14491, 14, 429, 358, 13163, 9, 1589, 14, 14506, 249, 448, 6, 472, 11, 170, 3275, 18, 4320, 14, 700, 722, 14, 121, 14491, 14, 14507, 8, 68, 2705, 112, 113, 188, 112, 113, 28, 112, 113, 1124, 439, 14, 241, 189, 112, 5690, 358, 14508, 15, 309, 14509, 15, 854, 234, 14, 472, 2255, 68, 306, 14, 127, 124, 14, 498, 11, 358, 110, 14510, 110, 14511, 660, 1005, 14, 3814, 22, 11645, 48, 11745, 11, 14512, 68, 672, 249, 3666, 14, 2900, 4682, 6, 2904, 14, 113, 16, 110, 16, 14513, 8, 349, 3113, 15, 234, 349, 14514, 14, 771, 1092, 109, 68, 11566, 12329, 8, 869, 14, 6, 879, 11, 14515, 68, 1293, 14516, 511, 188, 551, 825, 8863, 8, 1415, 439, 14, 358, 98, 864, 75, 672, 112, 234, 14, 577, 14, 3304, 747, 14, 362, 15, 6068, 14, 14517, 14, 110, 8004, 14, 433, 14, 7001, 112, 327, 22, 747, 977, 113, 1283, 14518, 551, 10399, 162, 19, 241, 68, 360, 121, 11, 14519, 98, 7632, 1536, 112, 7690, 14, 7690, 14, 227, 1641, 18, 19, 14, 7690, 14, 7690, 112, 15, 232, 14, 472, 110, 14520, 660, 14, 110, 484, 3725, 14, 6980, 227, 355, 513, 14, 472, 110, 484, 9453, 15, 358, 14, 5795, 14, 15, 232, 14, 472, 110, 484, 10213, 14, 472, 498, 484, 12527, 14, 15, 358, 14, 14521, 14, 1259, 14521, 14, 16, 110, 472, 1842, 14, 771, 2322, 14, 91, 11, 110, 2322, 103, 98, 344, 1536, 14, 15, 232, 14, 711, 14, 110, 188, 3646, 439, 14, 15, 358, 14, 327, 1242, 11, 124, 2081, 206, 350, 8863, 8, 1415, 439, 112, 825, 14, 1991, 507, 112, 15, 232, 14, 472, 110, 484, 316, 558, 98, 202, 14, 6972, 272, 110, 14, 110, 210, 2152, 14, 222, 228, 112, 15, 329, 2463, 14, 22, 1160, 14522, 14, 639, 110, 436, 14, 639, 110, 216, 14, 110, 1991, 14, 110, 1657, 14, 639, 124, 2081, 110, 350, 8863, 8, 99, 645, 14, 124, 2081, 9, 2253, 13276, 15, 409, 4488, 48, 979, 1346, 116, 8, 68, 14523, 9703, 14, 1088, 15, 771, 1370, 148, 14524, 6, 4499, 15, 7640, 98, 344, 864, 112]\n",
      "[327, 358, 329, 15, 1064, 112, 358, 329, 1086, 15, 2390, 14469, 266, 11645, 48, 11745, 14, 14470, 3, 14471, 48, 513, 3405, 21, 14472, 14473, 14, 10373, 14, 11251, 1325, 4682, 249, 3666, 14, 5203, 68, 672, 11, 8013, 143, 170, 2, 15, 771, 216, 1325, 59, 2237, 9966, 8, 4283, 634, 11566, 11, 170, 16, 14474, 188, 14, 162, 188, 11, 22, 11645, 48, 11745, 14475, 9, 14476, 14477, 13791, 68, 2454, 4612, 4123, 3403, 609, 7632, 513, 14, 577, 14, 4612, 5294, 14, 639, 2122, 358, 494, 638, 249, 4410, 75, 11, 12444, 170, 14478, 14, 68, 4167, 11566, 11, 16, 14474, 21, 3260, 15, 1371, 14, 403, 472, 309, 14479, 113, 16, 170, 4390, 14, 472, 206, 484, 59, 14480, 6, 14481, 14, 124, 12976, 14, 1935, 14482, 14, 1935, 14482, 14, 472, 1928, 15, 1714, 224, 8244, 8, 6007, 14, 309, 1117, 1128, 655, 11, 358, 5166, 8, 2244, 507, 14, 11, 110, 3384, 561, 14, 110, 180, 660, 4203, 14, 11594, 14, 110, 1314, 2219, 3, 124, 457, 14, 472, 110, 484, 11, 16, 14483, 1709, 14, 472, 110, 1314, 3117, 14, 358, 1461, 1128, 15, 170, 3446, 9614, 5325, 11, 1986, 143, 903, 1128, 15, 206, 5325, 11, 9507, 15, 110, 67, 14, 2421, 6, 14484, 68, 11, 193, 2244, 14485, 14, 3419, 16, 634, 110, 222, 68, 12247, 262, 8, 68, 5667, 14486, 7494, 551, 144, 471, 14487, 91, 1850, 48, 2343, 297, 1448, 5667, 945, 11, 484, 59, 4257, 21, 144, 14488, 3621, 21, 144, 10233, 4905, 14489, 98, 3077, 3621, 3785, 14490, 9, 14491, 15, 890, 634, 5667, 945, 18, 2057, 14, 18, 14492, 3597, 14, 18, 1464, 9311, 14, 14493, 6, 14494, 14495, 3, 6697, 14496, 3646, 49, 11, 110, 222, 8, 494, 110, 247, 13789, 21, 3260, 15, 1371, 14, 6, 1479, 11, 771, 1254, 696, 113, 494, 3156, 144, 4926, 6, 5121, 8, 87, 75, 448, 6, 569, 14, 68, 1200, 1138, 35, 191, 9935, 700, 290, 15, 894, 14, 577, 14, 894, 309, 1707, 18, 1313, 14, 14490, 14, 14497, 14, 327, 472, 224, 611, 6, 14497, 13174, 12670, 14498, 242, 14499, 21, 2159, 787, 8791, 15, 1237, 15, 9765, 15, 13846, 50, 14500, 56, 148, 439, 121, 11, 472, 3158, 22, 4703, 14499, 6426, 15, 14095, 15, 18, 14501, 14502, 14, 1250, 113, 9, 5255, 4612, 5667, 11566, 222, 6202, 272, 8098, 14, 3017, 14, 320, 12256, 6, 10025, 48, 471, 11, 472, 638, 4462, 403, 358, 8094, 98, 7632, 864, 15, 6, 14115, 14, 48, 471, 11, 472, 4948, 11921, 15, 320, 98, 344, 864, 14, 113, 16, 358, 170, 110, 661, 24, 249, 12020, 75, 5667, 1253, 14, 611, 471, 11, 1314, 5907, 8, 11280, 14, 102, 68, 11, 472, 854, 5536, 14503, 68, 769, 15, 170, 16, 3446, 113, 59, 7229, 14, 327, 358, 90, 825, 6, 14115, 15, 14504, 15, 2293, 98, 275, 14, 498, 11, 472, 170, 287, 115, 68, 14505, 14, 9, 4874, 15, 68, 2081, 8, 14491, 14, 429, 358, 13163, 9, 1589, 14, 14506, 249, 448, 6, 472, 11, 170, 3275, 18, 4320, 14, 700, 722, 14, 121, 14491, 14, 14507, 8, 68, 2705, 112, 113, 188, 112, 113, 28, 112, 113, 1124, 439, 14, 241, 189, 112, 5690, 358, 14508, 15, 309, 14509, 15, 854, 234, 14, 472, 2255, 68, 306, 14, 127, 124, 14, 498, 11, 358, 110, 14510, 110, 14511, 660, 1005, 14, 3814, 22, 11645, 48, 11745, 11, 14512, 68, 672, 249, 3666, 14, 2900, 4682, 6, 2904, 14, 113, 16, 110, 16, 14513, 8, 349, 3113, 15, 234, 349, 14514, 14, 771, 1092, 109, 68, 11566, 12329, 8, 869, 14, 6, 879, 11, 14515, 68, 1293, 14516, 511, 188, 551, 825, 8863, 8, 1415, 439, 14, 358, 98, 864, 75, 672, 112, 234, 14, 577, 14, 3304, 747, 14, 362, 15, 6068, 14, 14517, 14, 110, 8004, 14, 433, 14, 7001, 112, 327, 22, 747, 977, 113, 1283, 14518, 551, 10399, 162, 19, 241, 68, 360, 121, 11, 14519, 98, 7632, 1536, 112, 7690, 14, 7690, 14, 227, 1641, 18, 19, 14, 7690, 14, 7690, 112, 15, 232, 14, 472, 110, 14520, 660, 14, 110, 484, 3725, 14, 6980, 227, 355, 513, 14, 472, 110, 484, 9453, 15, 358, 14, 5795, 14, 15, 232, 14, 472, 110, 484, 10213, 14, 472, 498, 484, 12527, 14, 15, 358, 14, 14521, 14, 1259, 14521, 14, 16, 110, 472, 1842, 14, 771, 2322, 14, 91, 11, 110, 2322, 103, 98, 344, 1536, 14, 15, 232, 14, 711, 14, 110, 188, 3646, 439, 14, 15, 358, 14, 327, 1242, 11, 124, 2081, 206, 350, 8863, 8, 1415, 439, 112, 825, 14, 1991, 507, 112, 15, 232, 14, 472, 110, 484, 316, 558, 98, 202, 14, 6972, 272, 110, 14, 110, 210, 2152, 14, 222, 228, 112, 15, 329, 2463, 14, 22, 1160, 14522, 14, 639, 110, 436, 14, 639, 110, 216, 14, 110, 1991, 14, 110, 1657, 14, 639, 124, 2081, 110, 350, 8863, 8, 99, 645, 14, 124, 2081, 9, 2253, 13276, 15, 409, 4488, 48, 979, 1346, 116, 8, 68, 14523, 9703, 14, 1088, 15, 771, 1370, 148, 14524, 6, 4499, 15, 7640, 98, 344, 864, 112]\n",
      "Esse parágrafo tem 98.03% de chance de ser Denser.\n"
     ]
    }
   ],
   "source": [
    "#Parágrafo extraido do conto \"Horizontes\" de Márcia Denser\n",
    "predict(\"Mas eu fui e voltei. Eu fui ontem e seriam 23h58 nos relógios da Paulista, 23h55 no farol da Casa Branca com Peixoto Gomide, porra, deviam estar andando ao contrário, contando o tempo que perdi ou já passou e então devo estar um bocado atrasada para desmanchar esse cirquinho que já se armou antes, muito antes que os relógios da Paulista começassem a contagem regressiva apontando o sentido desse passeio noturno à tua casa, Marcos, desse desvio, porque sou eu quem vai ao encontro do que praticamente já rodou, o tal cirquinho que se armou com unhas e dentes, embora você me recebesse como se já esperasse, você também tem um faro de perdigueiro, meu chapa, I know, I know, você comendo e  falando sem pausa para respirar, me deixar falar aquilo que eu vim para te dizer, que não somos nós, não há nada conosco, ok, não precisa embarcar no meu sonho, Você não tem que se arrebentar junto, você não precisa sofrer, eu tentando falar e já sentindo piedade daquilo que falava ou tentava falar e também daquilo que comia e não ouvia, repetindo de orelhada o que alguém te orelhou, ora se esse não é o gancho perfeito para o teu melodrama espanhol: uma mulher ansiosa por volta da meia-noite passando nesse teu apartamento que tem um vaso com uma arvorezinha seca com uma bandeirinha vermelha plantada na terra seca escrito Bem-vindo a Parati e observando esse teu apartamento tão pequeno, tão 21° andar, tão bloco C, caixinha de fósforos pairando no oceano cleptomaníaco dessa Cidade que não é para quem não pode conquistá-la com unhas e dentes, de maneira que então fica aí como quem comprou uma vitrine de doces para ficar do lado de fora, o nariz contra as luzes refletidas lá embaixo e isto, Marcos, isto me deixa tão triste, bem-vindo, welcome, mas você sem essa de welcome contudo botando filhodaputamente uns cds com aquelas músicas tristes e úmidas e burras e relembrando (reminds) aquela noite em que você botou os mesmos cds úmidos e burros e tão Philip Glass, percebe como a armação desse teu cirquinho é maluca? Roda, gira, sofrendo antecipadamente de saudades da mulher que você vai mandar embora eu esteja na tua frente e de touca, da mulher que você ama desesperadamente e sofrendo na minha frente, como se eu já não estivesse mais ao alcance do teu abraço, essa mulher que precisa beber para trepar, foi o que você disse subitamente desviando o rosto e já se sentindo como um vômito, mas eu ainda estava de touca e inocente e parada na sua, só que você já tinha dado o pira, a alma e o coração para Parati, enquanto eu tirava a roupa, deitava ao lado de você que já dormia tão distante, lá longe, em Parati, virado para o canto. Como antes. Como sempre. Como toda noite, até amanhecer. Daí eu levantei e me vesti e disse sim, você fez o possível, amor meu, só que eu não programei não engendrei nada disso, foram os relógios da Paulista que marcavam o tempo ao contrário, estavam andando de costas, como se não se importassem para onde iam e sim onde estiveram, então encontrei aqui o cirquinho armado para amanhã, de forma que flagrei o destino 24 horas antes: estava marcado para esta noite, eu na frente do tempo. Sim, Marcos, muitos problemas, meus e teus, individualmente, não nossos, claro, claríssimo. Mas os problemas são como velhos aquecedores: funcionam muito bem até o dia em que explodem na tua cara. Tique-taque, tique-taque, tudo ia tão bem, tique-taque, tique-taque. E ele, você não arruma nada, não tem estrutura, joga tudo pela casa, você não tem modos e eu, calada, e ele, você não tem grana, você só tem pose, e eu, enumere, vamos enumere, se não você cai, então diz, por que não diz logo na minha cara, e ele, misterioso, não antes dessa noite, e eu, mas acontece que meu coração também está marcado para esta noite. Estava, quero dizer. E ele, você não tem outra coisa na cabeça, garota? Não, não tenho saco, é isso. E fui descendo, os olhos mareados, porque não posso, porque não devo, não quero, não preciso, porque meu coração não está marcado para hora nenhuma, meu coração a ti pertence e às nove da manhã fiz sinal para o Vila Madalena, subi e então ri aquela muralha de corpos e bancos na minha frente.\")"
   ]
  },
  {
   "cell_type": "code",
   "execution_count": 53,
   "metadata": {},
   "outputs": [
    {
     "name": "stdout",
     "output_type": "stream",
     "text": [
      "[110, 58, 68, 3026, 3027, 75, 263, 60, 112, 9, 1193, 635, 3028, 3029, 14, 98, 1027, 881, 513, 112, 113, 144, 3030, 6, 1279, 112, 335, 558, 3031, 14, 3032, 462, 1647, 3033, 112]\n",
      "[110, 58, 68, 3026, 3027, 75, 263, 60, 112, 9, 1193, 635, 3028, 3029, 14, 98, 1027, 881, 513, 112, 113, 144, 3030, 6, 1279, 112, 335, 558, 3031, 14, 3032, 462, 1647, 3033, 112, 0, 0, 0, 0, 0, 0, 0, 0, 0, 0, 0, 0, 0, 0, 0, 0, 0, 0, 0, 0, 0, 0, 0, 0, 0, 0, 0, 0, 0, 0, 0, 0, 0, 0, 0, 0, 0, 0, 0, 0, 0, 0, 0, 0, 0, 0, 0, 0, 0, 0, 0, 0, 0, 0, 0, 0, 0, 0, 0, 0, 0, 0, 0, 0, 0, 0, 0, 0, 0, 0, 0, 0, 0, 0, 0, 0, 0, 0, 0, 0, 0, 0, 0, 0, 0, 0, 0, 0, 0, 0, 0, 0, 0, 0, 0, 0, 0, 0, 0, 0, 0, 0, 0, 0, 0, 0, 0, 0, 0, 0, 0, 0, 0, 0, 0, 0, 0, 0, 0, 0, 0, 0, 0, 0, 0, 0, 0, 0, 0, 0, 0, 0, 0, 0, 0, 0, 0, 0, 0, 0, 0, 0, 0, 0, 0, 0, 0, 0, 0, 0, 0, 0, 0, 0, 0, 0, 0, 0, 0, 0, 0, 0, 0, 0, 0, 0, 0, 0, 0, 0, 0, 0, 0, 0, 0, 0, 0, 0, 0, 0, 0, 0, 0, 0, 0, 0, 0, 0, 0, 0, 0, 0, 0, 0, 0, 0, 0, 0, 0, 0, 0, 0, 0, 0, 0, 0, 0, 0, 0, 0, 0, 0, 0, 0, 0, 0, 0, 0, 0, 0, 0, 0, 0, 0, 0, 0, 0, 0, 0, 0, 0, 0, 0, 0, 0, 0, 0, 0, 0, 0, 0, 0, 0, 0, 0, 0, 0, 0, 0, 0, 0, 0, 0, 0, 0, 0, 0, 0, 0, 0, 0, 0, 0, 0, 0, 0, 0, 0, 0, 0, 0, 0, 0, 0, 0, 0, 0, 0, 0, 0, 0, 0, 0, 0, 0, 0, 0, 0, 0, 0, 0, 0, 0, 0, 0, 0, 0, 0, 0, 0, 0, 0, 0, 0, 0, 0, 0, 0, 0, 0, 0, 0, 0, 0, 0, 0, 0, 0, 0, 0, 0, 0, 0, 0, 0, 0, 0, 0, 0, 0, 0, 0, 0, 0, 0, 0, 0, 0, 0, 0, 0, 0, 0, 0, 0, 0, 0, 0, 0, 0, 0, 0, 0, 0, 0, 0, 0, 0, 0, 0, 0, 0, 0, 0, 0, 0, 0, 0, 0, 0, 0, 0, 0, 0, 0, 0, 0, 0, 0, 0, 0, 0, 0, 0, 0, 0, 0, 0, 0, 0, 0, 0, 0, 0, 0, 0, 0, 0, 0, 0, 0, 0, 0, 0, 0, 0, 0, 0, 0, 0, 0, 0, 0, 0, 0, 0, 0, 0, 0, 0, 0, 0, 0, 0, 0, 0, 0, 0, 0, 0, 0, 0, 0, 0, 0, 0, 0, 0, 0, 0, 0, 0, 0, 0, 0, 0, 0, 0, 0, 0, 0, 0, 0, 0, 0, 0, 0, 0, 0, 0, 0, 0, 0, 0, 0, 0, 0, 0, 0, 0, 0, 0, 0, 0, 0, 0, 0, 0, 0, 0, 0, 0, 0, 0, 0]\n",
      "Esse parágrafo tem 99.26% de chance de ser Coutinho.\n"
     ]
    }
   ],
   "source": [
    "#Parágrafo extraido do conto \"Sagrada Família\" de Sônia Coutinho\n",
    "predict(\"Não era o vocabulário habitual do seu pai. A palavra caso soou estranha, na varanda daquela casa. Como uma fala de teatro. Alguma coisa ensaiada, dita num momento previsto.\")"
   ]
  },
  {
   "cell_type": "code",
   "execution_count": 54,
   "metadata": {},
   "outputs": [
    {
     "name": "stdout",
     "output_type": "stream",
     "text": [
      "[124, 1745, 222, 3027, 15, 113, 144, 3030, 3029, 10627, 1]\n",
      "[124, 1745, 222, 3027, 15, 113, 144, 3030, 3029, 10627, 1, 0, 0, 0, 0, 0, 0, 0, 0, 0, 0, 0, 0, 0, 0, 0, 0, 0, 0, 0, 0, 0, 0, 0, 0, 0, 0, 0, 0, 0, 0, 0, 0, 0, 0, 0, 0, 0, 0, 0, 0, 0, 0, 0, 0, 0, 0, 0, 0, 0, 0, 0, 0, 0, 0, 0, 0, 0, 0, 0, 0, 0, 0, 0, 0, 0, 0, 0, 0, 0, 0, 0, 0, 0, 0, 0, 0, 0, 0, 0, 0, 0, 0, 0, 0, 0, 0, 0, 0, 0, 0, 0, 0, 0, 0, 0, 0, 0, 0, 0, 0, 0, 0, 0, 0, 0, 0, 0, 0, 0, 0, 0, 0, 0, 0, 0, 0, 0, 0, 0, 0, 0, 0, 0, 0, 0, 0, 0, 0, 0, 0, 0, 0, 0, 0, 0, 0, 0, 0, 0, 0, 0, 0, 0, 0, 0, 0, 0, 0, 0, 0, 0, 0, 0, 0, 0, 0, 0, 0, 0, 0, 0, 0, 0, 0, 0, 0, 0, 0, 0, 0, 0, 0, 0, 0, 0, 0, 0, 0, 0, 0, 0, 0, 0, 0, 0, 0, 0, 0, 0, 0, 0, 0, 0, 0, 0, 0, 0, 0, 0, 0, 0, 0, 0, 0, 0, 0, 0, 0, 0, 0, 0, 0, 0, 0, 0, 0, 0, 0, 0, 0, 0, 0, 0, 0, 0, 0, 0, 0, 0, 0, 0, 0, 0, 0, 0, 0, 0, 0, 0, 0, 0, 0, 0, 0, 0, 0, 0, 0, 0, 0, 0, 0, 0, 0, 0, 0, 0, 0, 0, 0, 0, 0, 0, 0, 0, 0, 0, 0, 0, 0, 0, 0, 0, 0, 0, 0, 0, 0, 0, 0, 0, 0, 0, 0, 0, 0, 0, 0, 0, 0, 0, 0, 0, 0, 0, 0, 0, 0, 0, 0, 0, 0, 0, 0, 0, 0, 0, 0, 0, 0, 0, 0, 0, 0, 0, 0, 0, 0, 0, 0, 0, 0, 0, 0, 0, 0, 0, 0, 0, 0, 0, 0, 0, 0, 0, 0, 0, 0, 0, 0, 0, 0, 0, 0, 0, 0, 0, 0, 0, 0, 0, 0, 0, 0, 0, 0, 0, 0, 0, 0, 0, 0, 0, 0, 0, 0, 0, 0, 0, 0, 0, 0, 0, 0, 0, 0, 0, 0, 0, 0, 0, 0, 0, 0, 0, 0, 0, 0, 0, 0, 0, 0, 0, 0, 0, 0, 0, 0, 0, 0, 0, 0, 0, 0, 0, 0, 0, 0, 0, 0, 0, 0, 0, 0, 0, 0, 0, 0, 0, 0, 0, 0, 0, 0, 0, 0, 0, 0, 0, 0, 0, 0, 0, 0, 0, 0, 0, 0, 0, 0, 0, 0, 0, 0, 0, 0, 0, 0, 0, 0, 0, 0, 0, 0, 0, 0, 0, 0, 0, 0, 0, 0, 0, 0, 0, 0, 0, 0, 0, 0, 0, 0, 0, 0, 0, 0, 0, 0, 0, 0, 0, 0, 0, 0, 0, 0, 0, 0, 0, 0, 0, 0, 0, 0, 0, 0, 0, 0, 0, 0, 0, 0, 0, 0, 0, 0, 0, 0, 0]\n",
      "Esse parágrafo tem 79.13% de chance de ser Coutinho.\n"
     ]
    }
   ],
   "source": [
    "#Frase inventada\n",
    "predict(\"Meu nome é habitual e como uma fala estranha abajur paralelepipedo\") "
   ]
  },
  {
   "cell_type": "code",
   "execution_count": 55,
   "metadata": {},
   "outputs": [
    {
     "name": "stdout",
     "output_type": "stream",
     "text": [
      "[143, 12781, 112]\n",
      "[143, 12781, 112, 0, 0, 0, 0, 0, 0, 0, 0, 0, 0, 0, 0, 0, 0, 0, 0, 0, 0, 0, 0, 0, 0, 0, 0, 0, 0, 0, 0, 0, 0, 0, 0, 0, 0, 0, 0, 0, 0, 0, 0, 0, 0, 0, 0, 0, 0, 0, 0, 0, 0, 0, 0, 0, 0, 0, 0, 0, 0, 0, 0, 0, 0, 0, 0, 0, 0, 0, 0, 0, 0, 0, 0, 0, 0, 0, 0, 0, 0, 0, 0, 0, 0, 0, 0, 0, 0, 0, 0, 0, 0, 0, 0, 0, 0, 0, 0, 0, 0, 0, 0, 0, 0, 0, 0, 0, 0, 0, 0, 0, 0, 0, 0, 0, 0, 0, 0, 0, 0, 0, 0, 0, 0, 0, 0, 0, 0, 0, 0, 0, 0, 0, 0, 0, 0, 0, 0, 0, 0, 0, 0, 0, 0, 0, 0, 0, 0, 0, 0, 0, 0, 0, 0, 0, 0, 0, 0, 0, 0, 0, 0, 0, 0, 0, 0, 0, 0, 0, 0, 0, 0, 0, 0, 0, 0, 0, 0, 0, 0, 0, 0, 0, 0, 0, 0, 0, 0, 0, 0, 0, 0, 0, 0, 0, 0, 0, 0, 0, 0, 0, 0, 0, 0, 0, 0, 0, 0, 0, 0, 0, 0, 0, 0, 0, 0, 0, 0, 0, 0, 0, 0, 0, 0, 0, 0, 0, 0, 0, 0, 0, 0, 0, 0, 0, 0, 0, 0, 0, 0, 0, 0, 0, 0, 0, 0, 0, 0, 0, 0, 0, 0, 0, 0, 0, 0, 0, 0, 0, 0, 0, 0, 0, 0, 0, 0, 0, 0, 0, 0, 0, 0, 0, 0, 0, 0, 0, 0, 0, 0, 0, 0, 0, 0, 0, 0, 0, 0, 0, 0, 0, 0, 0, 0, 0, 0, 0, 0, 0, 0, 0, 0, 0, 0, 0, 0, 0, 0, 0, 0, 0, 0, 0, 0, 0, 0, 0, 0, 0, 0, 0, 0, 0, 0, 0, 0, 0, 0, 0, 0, 0, 0, 0, 0, 0, 0, 0, 0, 0, 0, 0, 0, 0, 0, 0, 0, 0, 0, 0, 0, 0, 0, 0, 0, 0, 0, 0, 0, 0, 0, 0, 0, 0, 0, 0, 0, 0, 0, 0, 0, 0, 0, 0, 0, 0, 0, 0, 0, 0, 0, 0, 0, 0, 0, 0, 0, 0, 0, 0, 0, 0, 0, 0, 0, 0, 0, 0, 0, 0, 0, 0, 0, 0, 0, 0, 0, 0, 0, 0, 0, 0, 0, 0, 0, 0, 0, 0, 0, 0, 0, 0, 0, 0, 0, 0, 0, 0, 0, 0, 0, 0, 0, 0, 0, 0, 0, 0, 0, 0, 0, 0, 0, 0, 0, 0, 0, 0, 0, 0, 0, 0, 0, 0, 0, 0, 0, 0, 0, 0, 0, 0, 0, 0, 0, 0, 0, 0, 0, 0, 0, 0, 0, 0, 0, 0, 0, 0, 0, 0, 0, 0, 0, 0, 0, 0, 0, 0, 0, 0, 0, 0, 0, 0, 0, 0, 0, 0, 0, 0, 0, 0, 0, 0, 0, 0, 0, 0, 0, 0, 0, 0, 0, 0, 0, 0, 0, 0, 0, 0]\n",
      "Esse parágrafo tem 68.43% de chance de ser Denser.\n"
     ]
    }
   ],
   "source": [
    "#Parágrafo extraido do conto \"Horizontes\" de Márcia Denser\n",
    "predict(\"Ou cruzes.\")"
   ]
  },
  {
   "cell_type": "code",
   "execution_count": 56,
   "metadata": {},
   "outputs": [
    {
     "data": {
      "text/plain": [
       "torch.Size([21424, 300])"
      ]
     },
     "execution_count": 56,
     "metadata": {},
     "output_type": "execute_result"
    }
   ],
   "source": [
    "embeddings.shape"
   ]
  }
 ],
 "metadata": {
  "kernelspec": {
   "display_name": "Python 3",
   "language": "python",
   "name": "python3"
  },
  "language_info": {
   "codemirror_mode": {
    "name": "ipython",
    "version": 3
   },
   "file_extension": ".py",
   "mimetype": "text/x-python",
   "name": "python",
   "nbconvert_exporter": "python",
   "pygments_lexer": "ipython3",
   "version": "3.11.3"
  },
  "orig_nbformat": 4
 },
 "nbformat": 4,
 "nbformat_minor": 2
}
